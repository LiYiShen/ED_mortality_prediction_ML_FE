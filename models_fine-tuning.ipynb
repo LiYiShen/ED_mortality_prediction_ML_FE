{
 "cells": [
  {
   "cell_type": "markdown",
   "metadata": {
    "heading_collapsed": true
   },
   "source": [
    "## step1:Data load "
   ]
  },
  {
   "cell_type": "code",
   "execution_count": 1,
   "metadata": {
    "hidden": true
   },
   "outputs": [
    {
     "data": {
      "text/html": [
       "<div>\n",
       "<style scoped>\n",
       "    .dataframe tbody tr th:only-of-type {\n",
       "        vertical-align: middle;\n",
       "    }\n",
       "\n",
       "    .dataframe tbody tr th {\n",
       "        vertical-align: top;\n",
       "    }\n",
       "\n",
       "    .dataframe thead th {\n",
       "        text-align: right;\n",
       "    }\n",
       "</style>\n",
       "<table border=\"1\" class=\"dataframe\">\n",
       "  <thead>\n",
       "    <tr style=\"text-align: right;\">\n",
       "      <th></th>\n",
       "      <th>temperature_max</th>\n",
       "      <th>temperature_min</th>\n",
       "      <th>temperature_median</th>\n",
       "      <th>temperature_mean</th>\n",
       "      <th>temperature_std</th>\n",
       "      <th>heart_rate_max</th>\n",
       "      <th>heart_rate_min</th>\n",
       "      <th>heart_rate_median</th>\n",
       "      <th>heart_rate_mean</th>\n",
       "      <th>heart_rate_std</th>\n",
       "      <th>breath_rate_max</th>\n",
       "      <th>breath_rate_min</th>\n",
       "      <th>breath_rate_median</th>\n",
       "      <th>breath_rate_mean</th>\n",
       "      <th>breath_rate_std</th>\n",
       "      <th>systollic_pressure_max</th>\n",
       "      <th>systollic_pressure_min</th>\n",
       "      <th>systollic_pressure_median</th>\n",
       "      <th>systollic_pressure_mean</th>\n",
       "      <th>systollic_pressure_std</th>\n",
       "      <th>diastolic_pressure_max</th>\n",
       "      <th>diastolic_pressure_min</th>\n",
       "      <th>diastolic_pressure_median</th>\n",
       "      <th>diastolic_pressure_mean</th>\n",
       "      <th>diastolic_pressure_std</th>\n",
       "      <th>oxygen_saturation_max</th>\n",
       "      <th>oxygen_saturation_min</th>\n",
       "      <th>oxygen_saturation_median</th>\n",
       "      <th>oxygen_saturation_mean</th>\n",
       "      <th>oxygen_saturation_std</th>\n",
       "      <th>gender</th>\n",
       "      <th>age</th>\n",
       "      <th>RBC</th>\n",
       "      <th>Hemoglobin</th>\n",
       "      <th>Hematocrit</th>\n",
       "      <th>MRBC</th>\n",
       "      <th>MHGBC</th>\n",
       "      <th>MEHGBC</th>\n",
       "      <th>RBCCV</th>\n",
       "      <th>RBCSD</th>\n",
       "      <th>Platelet</th>\n",
       "      <th>WBCC</th>\n",
       "      <th>NNPC</th>\n",
       "      <th>LPPC</th>\n",
       "      <th>MCPC</th>\n",
       "      <th>ESPC</th>\n",
       "      <th>BSPC</th>\n",
       "      <th>NNAV</th>\n",
       "      <th>LPAV</th>\n",
       "      <th>MCAV</th>\n",
       "      <th>ESAV</th>\n",
       "      <th>BSAV</th>\n",
       "      <th>TBB</th>\n",
       "      <th>DBB</th>\n",
       "      <th>IDBB</th>\n",
       "      <th>AST</th>\n",
       "      <th>ALT</th>\n",
       "      <th>AST_ALT</th>\n",
       "      <th>TP</th>\n",
       "      <th>ALB</th>\n",
       "      <th>GLO</th>\n",
       "      <th>WBR</th>\n",
       "      <th>GLU</th>\n",
       "      <th>Urea</th>\n",
       "      <th>Creatinine</th>\n",
       "      <th>EGFR</th>\n",
       "      <th>DSCC</th>\n",
       "      <th>UA</th>\n",
       "      <th>Triglyceride</th>\n",
       "      <th>cholesterol</th>\n",
       "      <th>HDLP</th>\n",
       "      <th>LDLP</th>\n",
       "      <th>AKPP</th>\n",
       "      <th>GLTP</th>\n",
       "      <th>CTKN</th>\n",
       "      <th>LTDD</th>\n",
       "      <th>HBDD</th>\n",
       "      <th>sodium</th>\n",
       "      <th>potassium</th>\n",
       "      <th>chlorine</th>\n",
       "      <th>CO2BF</th>\n",
       "      <th>AG</th>\n",
       "      <th>DSHA</th>\n",
       "      <th>calcium</th>\n",
       "      <th>magnesium</th>\n",
       "      <th>SIPP</th>\n",
       "      <th>TTBA</th>\n",
       "      <th>PRT</th>\n",
       "      <th>INR</th>\n",
       "      <th>APTT</th>\n",
       "      <th>APTTR</th>\n",
       "      <th>TBT</th>\n",
       "      <th>TBTR</th>\n",
       "      <th>Fibrinogen</th>\n",
       "      <th>FDP</th>\n",
       "      <th>FEU</th>\n",
       "      <th>Myoglobin</th>\n",
       "      <th>MCKMB</th>\n",
       "      <th>UNP</th>\n",
       "      <th>Troponin</th>\n",
       "      <th>labels</th>\n",
       "    </tr>\n",
       "  </thead>\n",
       "  <tbody>\n",
       "    <tr>\n",
       "      <th>0</th>\n",
       "      <td>37.6</td>\n",
       "      <td>35.9</td>\n",
       "      <td>36.5</td>\n",
       "      <td>36.535366</td>\n",
       "      <td>0.426693</td>\n",
       "      <td>106</td>\n",
       "      <td>40</td>\n",
       "      <td>66.0</td>\n",
       "      <td>69.048780</td>\n",
       "      <td>15.660678</td>\n",
       "      <td>39</td>\n",
       "      <td>11</td>\n",
       "      <td>20.0</td>\n",
       "      <td>19.951220</td>\n",
       "      <td>4.274248</td>\n",
       "      <td>226</td>\n",
       "      <td>116</td>\n",
       "      <td>158.0</td>\n",
       "      <td>161.609756</td>\n",
       "      <td>26.277604</td>\n",
       "      <td>129</td>\n",
       "      <td>39</td>\n",
       "      <td>64.0</td>\n",
       "      <td>68.451220</td>\n",
       "      <td>16.817945</td>\n",
       "      <td>100</td>\n",
       "      <td>78</td>\n",
       "      <td>100.0</td>\n",
       "      <td>99.109756</td>\n",
       "      <td>3.014394</td>\n",
       "      <td>1</td>\n",
       "      <td>67</td>\n",
       "      <td>3.3100</td>\n",
       "      <td>97.0</td>\n",
       "      <td>0.293333</td>\n",
       "      <td>89.166667</td>\n",
       "      <td>29.30</td>\n",
       "      <td>328.333333</td>\n",
       "      <td>26.533333</td>\n",
       "      <td>36.70</td>\n",
       "      <td>90.0</td>\n",
       "      <td>5.326667</td>\n",
       "      <td>72.0</td>\n",
       "      <td>17.60</td>\n",
       "      <td>8.033333</td>\n",
       "      <td>2.233333</td>\n",
       "      <td>0.133333</td>\n",
       "      <td>3.913333</td>\n",
       "      <td>0.876667</td>\n",
       "      <td>0.413333</td>\n",
       "      <td>0.116667</td>\n",
       "      <td>0.006667</td>\n",
       "      <td>13.6</td>\n",
       "      <td>8.60</td>\n",
       "      <td>5.00</td>\n",
       "      <td>27.50</td>\n",
       "      <td>29.0</td>\n",
       "      <td>1.8200</td>\n",
       "      <td>76.850</td>\n",
       "      <td>38.500</td>\n",
       "      <td>38.35</td>\n",
       "      <td>1.0050</td>\n",
       "      <td>9.54</td>\n",
       "      <td>27.3000</td>\n",
       "      <td>985.50</td>\n",
       "      <td>4.700000</td>\n",
       "      <td>5.0150</td>\n",
       "      <td>327.50</td>\n",
       "      <td>1.50</td>\n",
       "      <td>3.1000</td>\n",
       "      <td>1.100</td>\n",
       "      <td>1.1900</td>\n",
       "      <td>135.0</td>\n",
       "      <td>95.5</td>\n",
       "      <td>165.00</td>\n",
       "      <td>582.00</td>\n",
       "      <td>516.5</td>\n",
       "      <td>131.75</td>\n",
       "      <td>5.060</td>\n",
       "      <td>93.950</td>\n",
       "      <td>16.550</td>\n",
       "      <td>26.300</td>\n",
       "      <td>0.145</td>\n",
       "      <td>2.300</td>\n",
       "      <td>1.005</td>\n",
       "      <td>2.385</td>\n",
       "      <td>19.950000</td>\n",
       "      <td>13.10</td>\n",
       "      <td>1.1000</td>\n",
       "      <td>47.800</td>\n",
       "      <td>1.7400</td>\n",
       "      <td>22.80</td>\n",
       "      <td>1.4000</td>\n",
       "      <td>3.5000</td>\n",
       "      <td>8.2</td>\n",
       "      <td>1.5900</td>\n",
       "      <td>433.933333</td>\n",
       "      <td>9.753333</td>\n",
       "      <td>35000.000000</td>\n",
       "      <td>157.366667</td>\n",
       "      <td>1</td>\n",
       "    </tr>\n",
       "    <tr>\n",
       "      <th>1</th>\n",
       "      <td>37.5</td>\n",
       "      <td>35.0</td>\n",
       "      <td>36.4</td>\n",
       "      <td>36.509434</td>\n",
       "      <td>0.690113</td>\n",
       "      <td>100</td>\n",
       "      <td>50</td>\n",
       "      <td>66.0</td>\n",
       "      <td>65.339623</td>\n",
       "      <td>6.833018</td>\n",
       "      <td>24</td>\n",
       "      <td>14</td>\n",
       "      <td>18.0</td>\n",
       "      <td>17.358491</td>\n",
       "      <td>2.631863</td>\n",
       "      <td>158</td>\n",
       "      <td>62</td>\n",
       "      <td>135.0</td>\n",
       "      <td>131.641509</td>\n",
       "      <td>17.923013</td>\n",
       "      <td>112</td>\n",
       "      <td>43</td>\n",
       "      <td>60.0</td>\n",
       "      <td>61.641509</td>\n",
       "      <td>9.701495</td>\n",
       "      <td>100</td>\n",
       "      <td>92</td>\n",
       "      <td>99.0</td>\n",
       "      <td>98.849057</td>\n",
       "      <td>1.833410</td>\n",
       "      <td>0</td>\n",
       "      <td>87</td>\n",
       "      <td>4.4300</td>\n",
       "      <td>121.0</td>\n",
       "      <td>0.400000</td>\n",
       "      <td>91.200000</td>\n",
       "      <td>27.30</td>\n",
       "      <td>300.000000</td>\n",
       "      <td>17.000000</td>\n",
       "      <td>55.30</td>\n",
       "      <td>451.0</td>\n",
       "      <td>11.300000</td>\n",
       "      <td>92.2</td>\n",
       "      <td>4.60</td>\n",
       "      <td>3.200000</td>\n",
       "      <td>0.000000</td>\n",
       "      <td>0.000000</td>\n",
       "      <td>10.420000</td>\n",
       "      <td>0.520000</td>\n",
       "      <td>0.360000</td>\n",
       "      <td>0.000000</td>\n",
       "      <td>0.000000</td>\n",
       "      <td>4.7</td>\n",
       "      <td>2.10</td>\n",
       "      <td>2.60</td>\n",
       "      <td>9.00</td>\n",
       "      <td>10.0</td>\n",
       "      <td>1.1100</td>\n",
       "      <td>70.700</td>\n",
       "      <td>35.100</td>\n",
       "      <td>35.60</td>\n",
       "      <td>0.9900</td>\n",
       "      <td>5.92</td>\n",
       "      <td>6.1000</td>\n",
       "      <td>44.00</td>\n",
       "      <td>87.430000</td>\n",
       "      <td>0.8600</td>\n",
       "      <td>229.00</td>\n",
       "      <td>1.13</td>\n",
       "      <td>2.8400</td>\n",
       "      <td>1.240</td>\n",
       "      <td>1.2500</td>\n",
       "      <td>72.0</td>\n",
       "      <td>23.0</td>\n",
       "      <td>21.00</td>\n",
       "      <td>126.00</td>\n",
       "      <td>101.0</td>\n",
       "      <td>131.50</td>\n",
       "      <td>4.240</td>\n",
       "      <td>87.000</td>\n",
       "      <td>41.300</td>\n",
       "      <td>7.400</td>\n",
       "      <td>0.060</td>\n",
       "      <td>2.380</td>\n",
       "      <td>0.940</td>\n",
       "      <td>1.110</td>\n",
       "      <td>4.600000</td>\n",
       "      <td>11.10</td>\n",
       "      <td>0.8900</td>\n",
       "      <td>19.800</td>\n",
       "      <td>0.7100</td>\n",
       "      <td>17.40</td>\n",
       "      <td>1.0700</td>\n",
       "      <td>3.8400</td>\n",
       "      <td>5.0</td>\n",
       "      <td>1.7700</td>\n",
       "      <td>35.390000</td>\n",
       "      <td>1.870000</td>\n",
       "      <td>3339.000000</td>\n",
       "      <td>19.300000</td>\n",
       "      <td>1</td>\n",
       "    </tr>\n",
       "    <tr>\n",
       "      <th>2</th>\n",
       "      <td>37.3</td>\n",
       "      <td>36.0</td>\n",
       "      <td>37.1</td>\n",
       "      <td>36.754545</td>\n",
       "      <td>0.528905</td>\n",
       "      <td>100</td>\n",
       "      <td>51</td>\n",
       "      <td>61.5</td>\n",
       "      <td>67.954545</td>\n",
       "      <td>15.345163</td>\n",
       "      <td>24</td>\n",
       "      <td>16</td>\n",
       "      <td>20.0</td>\n",
       "      <td>20.636364</td>\n",
       "      <td>1.965063</td>\n",
       "      <td>188</td>\n",
       "      <td>87</td>\n",
       "      <td>165.0</td>\n",
       "      <td>157.272727</td>\n",
       "      <td>25.296681</td>\n",
       "      <td>80</td>\n",
       "      <td>23</td>\n",
       "      <td>68.0</td>\n",
       "      <td>63.409091</td>\n",
       "      <td>17.081483</td>\n",
       "      <td>100</td>\n",
       "      <td>97</td>\n",
       "      <td>99.0</td>\n",
       "      <td>99.090909</td>\n",
       "      <td>0.811177</td>\n",
       "      <td>1</td>\n",
       "      <td>69</td>\n",
       "      <td>3.4850</td>\n",
       "      <td>97.0</td>\n",
       "      <td>0.345000</td>\n",
       "      <td>98.550000</td>\n",
       "      <td>27.85</td>\n",
       "      <td>282.500000</td>\n",
       "      <td>32.300000</td>\n",
       "      <td>30.70</td>\n",
       "      <td>98.0</td>\n",
       "      <td>8.345000</td>\n",
       "      <td>94.7</td>\n",
       "      <td>4.00</td>\n",
       "      <td>1.250000</td>\n",
       "      <td>0.000000</td>\n",
       "      <td>0.050000</td>\n",
       "      <td>7.920000</td>\n",
       "      <td>0.320000</td>\n",
       "      <td>0.100000</td>\n",
       "      <td>0.000000</td>\n",
       "      <td>0.005000</td>\n",
       "      <td>5.8</td>\n",
       "      <td>2.70</td>\n",
       "      <td>3.10</td>\n",
       "      <td>44.00</td>\n",
       "      <td>43.5</td>\n",
       "      <td>0.9900</td>\n",
       "      <td>58.800</td>\n",
       "      <td>33.000</td>\n",
       "      <td>25.80</td>\n",
       "      <td>1.2800</td>\n",
       "      <td>17.00</td>\n",
       "      <td>8.1200</td>\n",
       "      <td>91.00</td>\n",
       "      <td>75.185000</td>\n",
       "      <td>1.3400</td>\n",
       "      <td>207.50</td>\n",
       "      <td>0.98</td>\n",
       "      <td>3.2000</td>\n",
       "      <td>1.415</td>\n",
       "      <td>1.3100</td>\n",
       "      <td>55.5</td>\n",
       "      <td>43.5</td>\n",
       "      <td>36.00</td>\n",
       "      <td>224.00</td>\n",
       "      <td>185.0</td>\n",
       "      <td>141.90</td>\n",
       "      <td>4.540</td>\n",
       "      <td>90.800</td>\n",
       "      <td>45.950</td>\n",
       "      <td>9.700</td>\n",
       "      <td>0.635</td>\n",
       "      <td>2.245</td>\n",
       "      <td>0.905</td>\n",
       "      <td>0.645</td>\n",
       "      <td>3.450000</td>\n",
       "      <td>10.50</td>\n",
       "      <td>0.8600</td>\n",
       "      <td>22.350</td>\n",
       "      <td>0.8000</td>\n",
       "      <td>17.80</td>\n",
       "      <td>1.0950</td>\n",
       "      <td>4.4150</td>\n",
       "      <td>2.7</td>\n",
       "      <td>0.7100</td>\n",
       "      <td>40.795000</td>\n",
       "      <td>1.770000</td>\n",
       "      <td>1386.000000</td>\n",
       "      <td>39.650000</td>\n",
       "      <td>1</td>\n",
       "    </tr>\n",
       "    <tr>\n",
       "      <th>3</th>\n",
       "      <td>36.8</td>\n",
       "      <td>36.2</td>\n",
       "      <td>36.5</td>\n",
       "      <td>36.579167</td>\n",
       "      <td>0.179320</td>\n",
       "      <td>100</td>\n",
       "      <td>56</td>\n",
       "      <td>63.0</td>\n",
       "      <td>62.916667</td>\n",
       "      <td>5.274357</td>\n",
       "      <td>22</td>\n",
       "      <td>14</td>\n",
       "      <td>16.0</td>\n",
       "      <td>16.208333</td>\n",
       "      <td>1.318074</td>\n",
       "      <td>122</td>\n",
       "      <td>71</td>\n",
       "      <td>83.5</td>\n",
       "      <td>86.416667</td>\n",
       "      <td>8.627140</td>\n",
       "      <td>74</td>\n",
       "      <td>35</td>\n",
       "      <td>39.0</td>\n",
       "      <td>40.125000</td>\n",
       "      <td>4.266273</td>\n",
       "      <td>100</td>\n",
       "      <td>100</td>\n",
       "      <td>100.0</td>\n",
       "      <td>100.000000</td>\n",
       "      <td>0.000000</td>\n",
       "      <td>0</td>\n",
       "      <td>51</td>\n",
       "      <td>2.0450</td>\n",
       "      <td>63.0</td>\n",
       "      <td>0.190000</td>\n",
       "      <td>94.350000</td>\n",
       "      <td>30.80</td>\n",
       "      <td>326.000000</td>\n",
       "      <td>19.050000</td>\n",
       "      <td>62.35</td>\n",
       "      <td>65.5</td>\n",
       "      <td>2.305000</td>\n",
       "      <td>77.8</td>\n",
       "      <td>15.50</td>\n",
       "      <td>4.800000</td>\n",
       "      <td>1.900000</td>\n",
       "      <td>0.000000</td>\n",
       "      <td>1.790000</td>\n",
       "      <td>0.360000</td>\n",
       "      <td>0.110000</td>\n",
       "      <td>0.045000</td>\n",
       "      <td>0.000000</td>\n",
       "      <td>425.5</td>\n",
       "      <td>337.20</td>\n",
       "      <td>88.30</td>\n",
       "      <td>25.50</td>\n",
       "      <td>83.0</td>\n",
       "      <td>3.2550</td>\n",
       "      <td>48.800</td>\n",
       "      <td>23.350</td>\n",
       "      <td>25.45</td>\n",
       "      <td>0.9150</td>\n",
       "      <td>8.34</td>\n",
       "      <td>7.3500</td>\n",
       "      <td>89.50</td>\n",
       "      <td>65.400000</td>\n",
       "      <td>2.2050</td>\n",
       "      <td>153.50</td>\n",
       "      <td>1.89</td>\n",
       "      <td>1.8900</td>\n",
       "      <td>0.110</td>\n",
       "      <td>0.2950</td>\n",
       "      <td>134.0</td>\n",
       "      <td>60.5</td>\n",
       "      <td>31.50</td>\n",
       "      <td>145.50</td>\n",
       "      <td>109.0</td>\n",
       "      <td>135.25</td>\n",
       "      <td>2.695</td>\n",
       "      <td>107.150</td>\n",
       "      <td>13.900</td>\n",
       "      <td>16.900</td>\n",
       "      <td>0.020</td>\n",
       "      <td>1.745</td>\n",
       "      <td>0.770</td>\n",
       "      <td>0.270</td>\n",
       "      <td>18.200000</td>\n",
       "      <td>19.55</td>\n",
       "      <td>1.5750</td>\n",
       "      <td>60.950</td>\n",
       "      <td>2.1750</td>\n",
       "      <td>19.15</td>\n",
       "      <td>1.1750</td>\n",
       "      <td>1.6250</td>\n",
       "      <td>4.4</td>\n",
       "      <td>0.3150</td>\n",
       "      <td>470.084491</td>\n",
       "      <td>19.517186</td>\n",
       "      <td>7041.393548</td>\n",
       "      <td>173.512235</td>\n",
       "      <td>1</td>\n",
       "    </tr>\n",
       "    <tr>\n",
       "      <th>4</th>\n",
       "      <td>37.8</td>\n",
       "      <td>35.8</td>\n",
       "      <td>36.7</td>\n",
       "      <td>36.628000</td>\n",
       "      <td>0.539205</td>\n",
       "      <td>192</td>\n",
       "      <td>72</td>\n",
       "      <td>116.0</td>\n",
       "      <td>115.440000</td>\n",
       "      <td>24.144525</td>\n",
       "      <td>48</td>\n",
       "      <td>15</td>\n",
       "      <td>28.0</td>\n",
       "      <td>29.192000</td>\n",
       "      <td>7.204049</td>\n",
       "      <td>189</td>\n",
       "      <td>87</td>\n",
       "      <td>132.0</td>\n",
       "      <td>131.944000</td>\n",
       "      <td>16.125168</td>\n",
       "      <td>123</td>\n",
       "      <td>23</td>\n",
       "      <td>70.0</td>\n",
       "      <td>69.752000</td>\n",
       "      <td>12.824281</td>\n",
       "      <td>100</td>\n",
       "      <td>89</td>\n",
       "      <td>97.0</td>\n",
       "      <td>96.328000</td>\n",
       "      <td>2.743838</td>\n",
       "      <td>1</td>\n",
       "      <td>59</td>\n",
       "      <td>4.5375</td>\n",
       "      <td>139.0</td>\n",
       "      <td>0.412500</td>\n",
       "      <td>90.950000</td>\n",
       "      <td>30.65</td>\n",
       "      <td>337.000000</td>\n",
       "      <td>24.525000</td>\n",
       "      <td>41.15</td>\n",
       "      <td>91.0</td>\n",
       "      <td>15.402500</td>\n",
       "      <td>87.6</td>\n",
       "      <td>7.05</td>\n",
       "      <td>4.125000</td>\n",
       "      <td>0.175000</td>\n",
       "      <td>1.050000</td>\n",
       "      <td>13.442500</td>\n",
       "      <td>1.187500</td>\n",
       "      <td>0.555000</td>\n",
       "      <td>0.027500</td>\n",
       "      <td>0.187500</td>\n",
       "      <td>118.5</td>\n",
       "      <td>101.75</td>\n",
       "      <td>16.75</td>\n",
       "      <td>128.25</td>\n",
       "      <td>342.0</td>\n",
       "      <td>2.2525</td>\n",
       "      <td>57.725</td>\n",
       "      <td>24.625</td>\n",
       "      <td>33.10</td>\n",
       "      <td>0.7475</td>\n",
       "      <td>14.48</td>\n",
       "      <td>16.9225</td>\n",
       "      <td>121.25</td>\n",
       "      <td>72.056064</td>\n",
       "      <td>1.4475</td>\n",
       "      <td>494.25</td>\n",
       "      <td>1.18</td>\n",
       "      <td>1.9225</td>\n",
       "      <td>0.170</td>\n",
       "      <td>0.3375</td>\n",
       "      <td>498.0</td>\n",
       "      <td>451.0</td>\n",
       "      <td>87.75</td>\n",
       "      <td>522.75</td>\n",
       "      <td>356.5</td>\n",
       "      <td>149.55</td>\n",
       "      <td>4.220</td>\n",
       "      <td>110.725</td>\n",
       "      <td>24.225</td>\n",
       "      <td>19.025</td>\n",
       "      <td>0.120</td>\n",
       "      <td>2.055</td>\n",
       "      <td>0.915</td>\n",
       "      <td>0.845</td>\n",
       "      <td>18.361231</td>\n",
       "      <td>20.85</td>\n",
       "      <td>1.7875</td>\n",
       "      <td>48.675</td>\n",
       "      <td>1.7375</td>\n",
       "      <td>18.40</td>\n",
       "      <td>1.1275</td>\n",
       "      <td>4.3325</td>\n",
       "      <td>11.1</td>\n",
       "      <td>5.6425</td>\n",
       "      <td>69.120000</td>\n",
       "      <td>1.352500</td>\n",
       "      <td>1250.000000</td>\n",
       "      <td>12.500000</td>\n",
       "      <td>1</td>\n",
       "    </tr>\n",
       "  </tbody>\n",
       "</table>\n",
       "</div>"
      ],
      "text/plain": [
       "   temperature_max  temperature_min  temperature_median  temperature_mean  \\\n",
       "0             37.6             35.9                36.5         36.535366   \n",
       "1             37.5             35.0                36.4         36.509434   \n",
       "2             37.3             36.0                37.1         36.754545   \n",
       "3             36.8             36.2                36.5         36.579167   \n",
       "4             37.8             35.8                36.7         36.628000   \n",
       "\n",
       "   temperature_std  heart_rate_max  heart_rate_min  heart_rate_median  \\\n",
       "0         0.426693             106              40               66.0   \n",
       "1         0.690113             100              50               66.0   \n",
       "2         0.528905             100              51               61.5   \n",
       "3         0.179320             100              56               63.0   \n",
       "4         0.539205             192              72              116.0   \n",
       "\n",
       "   heart_rate_mean  heart_rate_std  breath_rate_max  breath_rate_min  \\\n",
       "0        69.048780       15.660678               39               11   \n",
       "1        65.339623        6.833018               24               14   \n",
       "2        67.954545       15.345163               24               16   \n",
       "3        62.916667        5.274357               22               14   \n",
       "4       115.440000       24.144525               48               15   \n",
       "\n",
       "   breath_rate_median  breath_rate_mean  breath_rate_std  \\\n",
       "0                20.0         19.951220         4.274248   \n",
       "1                18.0         17.358491         2.631863   \n",
       "2                20.0         20.636364         1.965063   \n",
       "3                16.0         16.208333         1.318074   \n",
       "4                28.0         29.192000         7.204049   \n",
       "\n",
       "   systollic_pressure_max  systollic_pressure_min  systollic_pressure_median  \\\n",
       "0                     226                     116                      158.0   \n",
       "1                     158                      62                      135.0   \n",
       "2                     188                      87                      165.0   \n",
       "3                     122                      71                       83.5   \n",
       "4                     189                      87                      132.0   \n",
       "\n",
       "   systollic_pressure_mean  systollic_pressure_std  diastolic_pressure_max  \\\n",
       "0               161.609756               26.277604                     129   \n",
       "1               131.641509               17.923013                     112   \n",
       "2               157.272727               25.296681                      80   \n",
       "3                86.416667                8.627140                      74   \n",
       "4               131.944000               16.125168                     123   \n",
       "\n",
       "   diastolic_pressure_min  diastolic_pressure_median  diastolic_pressure_mean  \\\n",
       "0                      39                       64.0                68.451220   \n",
       "1                      43                       60.0                61.641509   \n",
       "2                      23                       68.0                63.409091   \n",
       "3                      35                       39.0                40.125000   \n",
       "4                      23                       70.0                69.752000   \n",
       "\n",
       "   diastolic_pressure_std  oxygen_saturation_max  oxygen_saturation_min  \\\n",
       "0               16.817945                    100                     78   \n",
       "1                9.701495                    100                     92   \n",
       "2               17.081483                    100                     97   \n",
       "3                4.266273                    100                    100   \n",
       "4               12.824281                    100                     89   \n",
       "\n",
       "   oxygen_saturation_median  oxygen_saturation_mean  oxygen_saturation_std  \\\n",
       "0                     100.0               99.109756               3.014394   \n",
       "1                      99.0               98.849057               1.833410   \n",
       "2                      99.0               99.090909               0.811177   \n",
       "3                     100.0              100.000000               0.000000   \n",
       "4                      97.0               96.328000               2.743838   \n",
       "\n",
       "   gender  age     RBC  Hemoglobin  Hematocrit       MRBC  MHGBC      MEHGBC  \\\n",
       "0       1   67  3.3100        97.0    0.293333  89.166667  29.30  328.333333   \n",
       "1       0   87  4.4300       121.0    0.400000  91.200000  27.30  300.000000   \n",
       "2       1   69  3.4850        97.0    0.345000  98.550000  27.85  282.500000   \n",
       "3       0   51  2.0450        63.0    0.190000  94.350000  30.80  326.000000   \n",
       "4       1   59  4.5375       139.0    0.412500  90.950000  30.65  337.000000   \n",
       "\n",
       "       RBCCV  RBCSD  Platelet       WBCC  NNPC   LPPC      MCPC      ESPC  \\\n",
       "0  26.533333  36.70      90.0   5.326667  72.0  17.60  8.033333  2.233333   \n",
       "1  17.000000  55.30     451.0  11.300000  92.2   4.60  3.200000  0.000000   \n",
       "2  32.300000  30.70      98.0   8.345000  94.7   4.00  1.250000  0.000000   \n",
       "3  19.050000  62.35      65.5   2.305000  77.8  15.50  4.800000  1.900000   \n",
       "4  24.525000  41.15      91.0  15.402500  87.6   7.05  4.125000  0.175000   \n",
       "\n",
       "       BSPC       NNAV      LPAV      MCAV      ESAV      BSAV    TBB     DBB  \\\n",
       "0  0.133333   3.913333  0.876667  0.413333  0.116667  0.006667   13.6    8.60   \n",
       "1  0.000000  10.420000  0.520000  0.360000  0.000000  0.000000    4.7    2.10   \n",
       "2  0.050000   7.920000  0.320000  0.100000  0.000000  0.005000    5.8    2.70   \n",
       "3  0.000000   1.790000  0.360000  0.110000  0.045000  0.000000  425.5  337.20   \n",
       "4  1.050000  13.442500  1.187500  0.555000  0.027500  0.187500  118.5  101.75   \n",
       "\n",
       "    IDBB     AST    ALT  AST_ALT      TP     ALB    GLO     WBR    GLU  \\\n",
       "0   5.00   27.50   29.0   1.8200  76.850  38.500  38.35  1.0050   9.54   \n",
       "1   2.60    9.00   10.0   1.1100  70.700  35.100  35.60  0.9900   5.92   \n",
       "2   3.10   44.00   43.5   0.9900  58.800  33.000  25.80  1.2800  17.00   \n",
       "3  88.30   25.50   83.0   3.2550  48.800  23.350  25.45  0.9150   8.34   \n",
       "4  16.75  128.25  342.0   2.2525  57.725  24.625  33.10  0.7475  14.48   \n",
       "\n",
       "      Urea  Creatinine       EGFR    DSCC      UA  Triglyceride  cholesterol  \\\n",
       "0  27.3000      985.50   4.700000  5.0150  327.50          1.50       3.1000   \n",
       "1   6.1000       44.00  87.430000  0.8600  229.00          1.13       2.8400   \n",
       "2   8.1200       91.00  75.185000  1.3400  207.50          0.98       3.2000   \n",
       "3   7.3500       89.50  65.400000  2.2050  153.50          1.89       1.8900   \n",
       "4  16.9225      121.25  72.056064  1.4475  494.25          1.18       1.9225   \n",
       "\n",
       "    HDLP    LDLP   AKPP   GLTP    CTKN    LTDD   HBDD  sodium  potassium  \\\n",
       "0  1.100  1.1900  135.0   95.5  165.00  582.00  516.5  131.75      5.060   \n",
       "1  1.240  1.2500   72.0   23.0   21.00  126.00  101.0  131.50      4.240   \n",
       "2  1.415  1.3100   55.5   43.5   36.00  224.00  185.0  141.90      4.540   \n",
       "3  0.110  0.2950  134.0   60.5   31.50  145.50  109.0  135.25      2.695   \n",
       "4  0.170  0.3375  498.0  451.0   87.75  522.75  356.5  149.55      4.220   \n",
       "\n",
       "   chlorine   CO2BF      AG   DSHA  calcium  magnesium   SIPP       TTBA  \\\n",
       "0    93.950  16.550  26.300  0.145    2.300      1.005  2.385  19.950000   \n",
       "1    87.000  41.300   7.400  0.060    2.380      0.940  1.110   4.600000   \n",
       "2    90.800  45.950   9.700  0.635    2.245      0.905  0.645   3.450000   \n",
       "3   107.150  13.900  16.900  0.020    1.745      0.770  0.270  18.200000   \n",
       "4   110.725  24.225  19.025  0.120    2.055      0.915  0.845  18.361231   \n",
       "\n",
       "     PRT     INR    APTT   APTTR    TBT    TBTR  Fibrinogen   FDP     FEU  \\\n",
       "0  13.10  1.1000  47.800  1.7400  22.80  1.4000      3.5000   8.2  1.5900   \n",
       "1  11.10  0.8900  19.800  0.7100  17.40  1.0700      3.8400   5.0  1.7700   \n",
       "2  10.50  0.8600  22.350  0.8000  17.80  1.0950      4.4150   2.7  0.7100   \n",
       "3  19.55  1.5750  60.950  2.1750  19.15  1.1750      1.6250   4.4  0.3150   \n",
       "4  20.85  1.7875  48.675  1.7375  18.40  1.1275      4.3325  11.1  5.6425   \n",
       "\n",
       "    Myoglobin      MCKMB           UNP    Troponin  labels  \n",
       "0  433.933333   9.753333  35000.000000  157.366667       1  \n",
       "1   35.390000   1.870000   3339.000000   19.300000       1  \n",
       "2   40.795000   1.770000   1386.000000   39.650000       1  \n",
       "3  470.084491  19.517186   7041.393548  173.512235       1  \n",
       "4   69.120000   1.352500   1250.000000   12.500000       1  "
      ]
     },
     "execution_count": 1,
     "metadata": {},
     "output_type": "execute_result"
    }
   ],
   "source": [
    "import lightgbm\n",
    "import numpy as np\n",
    "import pandas as pd\n",
    "import seaborn as sns\n",
    "import matplotlib.pyplot as plt \n",
    "from sklearn.metrics import roc_auc_score\n",
    "from sklearn.model_selection import StratifiedKFold, KFold\n",
    "from sklearn.metrics import classification_report,accuracy_score,roc_auc_score,recall_score,precision_score,balanced_accuracy_score\n",
    "\n",
    "pd.set_option('display.max_columns', 500)\n",
    "pd.set_option('display.max_rows', 500)\n",
    "\n",
    "inputfile = './data_processed/final_end.xlsx'\n",
    "data = pd.read_excel(inputfile)\n",
    "data = data[data.columns[1:]]\n",
    "data.head()"
   ]
  },
  {
   "cell_type": "code",
   "execution_count": 2,
   "metadata": {
    "hidden": true
   },
   "outputs": [],
   "source": [
    "X = data.iloc[:, 0:100]\n",
    "y = data.iloc[:, 100]"
   ]
  },
  {
   "cell_type": "code",
   "execution_count": 3,
   "metadata": {
    "hidden": true
   },
   "outputs": [],
   "source": [
    "from sklearn.model_selection import train_test_split\n",
    "\n",
    "X_train, X_test, y_train, y_test = train_test_split(X, y, test_size=0.2, random_state=2020, stratify=y)"
   ]
  },
  {
   "cell_type": "code",
   "execution_count": 4,
   "metadata": {
    "hidden": true
   },
   "outputs": [
    {
     "data": {
      "text/plain": [
       "((1101, 101), (880, 100), (221, 100))"
      ]
     },
     "execution_count": 4,
     "metadata": {},
     "output_type": "execute_result"
    }
   ],
   "source": [
    "data.shape, X_train.shape, X_test.shape"
   ]
  },
  {
   "cell_type": "code",
   "execution_count": 5,
   "metadata": {
    "hidden": true
   },
   "outputs": [
    {
     "data": {
      "text/plain": [
       "1    158\n",
       "0     63\n",
       "Name: labels, dtype: int64"
      ]
     },
     "execution_count": 5,
     "metadata": {},
     "output_type": "execute_result"
    }
   ],
   "source": [
    "y_test.value_counts()"
   ]
  },
  {
   "cell_type": "markdown",
   "metadata": {
    "heading_collapsed": true
   },
   "source": [
    "## step2:LogisticRegression"
   ]
  },
  {
   "cell_type": "code",
   "execution_count": 8,
   "metadata": {
    "hidden": true
   },
   "outputs": [
    {
     "name": "stdout",
     "output_type": "stream",
     "text": [
      "[0 1 0 1 0 1 0 1 1 0 1 1 0 1 1 0 0 0 1 0 1 0 1 1 1 1 0 1 1 0 0 1 1 1 1 1 0\n",
      " 1 1 0 0 1 1 1 1 1 1 1 1 1 1 0 1 1 0 0 1 1 1 1 1 1 0 1 0 0 1 0 1 1 1 0 1 0\n",
      " 1 1 1 0 1 1 1 0 0 1 0 1 1 1 1 1 1 0 0 1 1 1 1 1 1 1 1 1 1 1 0 1 1 1 0 0 1\n",
      " 1 1 0 1 1 0 1 1 1 1 1 1 1 1 1 0 0 1 0 0 0 1 1 1 1 1 1 1 1 1 1 1 1 0 1 1 1\n",
      " 0 1 1 1 1 1 1 0 0 1 1 1 0 1 1 0 1 0 0 1 1 1 0 0 1 1 0 1 0 1 1 1 0 1 0 1 0\n",
      " 0 1 1 0 1 0 1 1 0 0 1 1 1 1 1 0 1 0 1 0 0 0 0 1 1 1 1 1 1 1 0 1 0 1 1 1]\n",
      "Accuracy of LR Classifier(Train): 0.8045454545454546\n",
      "Accuracy of LR Classifier(Test): 0.8280542986425339\n"
     ]
    }
   ],
   "source": [
    "from sklearn.linear_model import LogisticRegression as LR\n",
    "from sklearn.metrics import classification_report,accuracy_score,roc_auc_score,recall_score,precision_score,balanced_accuracy_score\n",
    "\n",
    "lr = LR(penalty='l1', dual=False, tol=0.0001, C=1.0, fit_intercept=True, \n",
    "        intercept_scaling=1, class_weight='balanced', random_state=1, solver='liblinear', \n",
    "        max_iter=100, multi_class='ovr', verbose=0, warm_start=False, n_jobs=1)\n",
    "\n",
    "lr.fit(X_train, y_train)\n",
    "\n",
    "lr_y_predict = lr.predict(X_test)\n",
    "print(lr_y_predict)\n",
    "\n",
    "#pro = lr.predict_proba(X_test)\n",
    "#print(pro)\n",
    "\n",
    "train_y_score = lr.score(X_train, y_train)\n",
    "test_y_score = lr.score(X_test, y_test)\n",
    "print(\"Accuracy of LR Classifier(Train): {score}\".format(score=train_y_score))  # 准确率\n",
    "print(\"Accuracy of LR Classifier(Test): {score}\".format(score=test_y_score))  # 准确率"
   ]
  },
  {
   "cell_type": "code",
   "execution_count": 9,
   "metadata": {
    "hidden": true
   },
   "outputs": [
    {
     "name": "stdout",
     "output_type": "stream",
     "text": [
      "权重： [[ 0.         -1.27595076  1.57106674  0.          0.50138232 -1.30781096\n",
      "   0.         -0.70557429  0.          0.          0.70463177 -0.84495563\n",
      "  -1.82279341  0.          1.21184562  0.09481021  0.19144081  0.\n",
      "   0.08580542  0.          0.          1.44112052  0.          0.\n",
      "  -2.09121257  0.          1.21790482  3.87258108  0.          0.\n",
      "  -0.33684934 -1.54880915  0.69651342  0.06556666  0.          0.\n",
      "   0.          0.          0.         -0.18836426  0.          0.\n",
      "   0.         -2.14393967 -0.3563476   0.          0.          0.\n",
      "   0.          0.          0.          0.          0.          0.\n",
      "   0.          0.          0.          0.         -0.02533525  0.\n",
      "  -0.34800945  0.         -0.57134566  0.44722043  0.          0.\n",
      "   0.         -0.70061789  0.          0.          0.          0.\n",
      "   0.          0.          0.          0.          0.          0.\n",
      "   0.          0.          1.78979292 -0.83358226  1.40261064 -3.66153075\n",
      "   0.          0.          0.         -1.17783838  0.         -0.39115076\n",
      "   0.          0.          0.          0.         -0.79758722  0.\n",
      "  -1.1309052   0.         -0.08513489 -1.42663311]]\n"
     ]
    }
   ],
   "source": [
    "print(\"权重：\", lr.coef_)"
   ]
  },
  {
   "cell_type": "code",
   "execution_count": 10,
   "metadata": {
    "hidden": true
   },
   "outputs": [
    {
     "data": {
      "text/plain": [
       "[('oxygen_saturation_median', 3.872581081246452),\n",
       " ('CO2BF', 1.7897929151815573),\n",
       " ('temperature_median', 1.5710667362785713),\n",
       " ('diastolic_pressure_min', 1.4411205160731557),\n",
       " ('DSHA', 1.4026106371316354),\n",
       " ('oxygen_saturation_min', 1.217904820549651),\n",
       " ('breath_rate_std', 1.2118456183135387),\n",
       " ('breath_rate_max', 0.7046317733923092),\n",
       " ('RBC', 0.6965134153130133),\n",
       " ('temperature_std', 0.5013823218579976),\n",
       " ('Urea', 0.4472204322405153),\n",
       " ('systollic_pressure_min', 0.19144081382489705),\n",
       " ('systollic_pressure_max', 0.09481020595663152),\n",
       " ('systollic_pressure_mean', 0.08580542140823592),\n",
       " ('Hemoglobin', 0.06556665830951544),\n",
       " ('temperature_max', 0.0),\n",
       " ('temperature_mean', 0.0),\n",
       " ('heart_rate_min', 0.0),\n",
       " ('heart_rate_mean', 0.0),\n",
       " ('heart_rate_std', 0.0),\n",
       " ('breath_rate_mean', 0.0),\n",
       " ('systollic_pressure_median', 0.0),\n",
       " ('systollic_pressure_std', 0.0),\n",
       " ('diastolic_pressure_max', 0.0),\n",
       " ('diastolic_pressure_median', 0.0),\n",
       " ('diastolic_pressure_mean', 0.0),\n",
       " ('oxygen_saturation_max', 0.0),\n",
       " ('oxygen_saturation_mean', 0.0),\n",
       " ('oxygen_saturation_std', 0.0),\n",
       " ('Hematocrit', 0.0),\n",
       " ('MRBC', 0.0),\n",
       " ('MHGBC', 0.0),\n",
       " ('MEHGBC', 0.0),\n",
       " ('RBCCV', 0.0),\n",
       " ('Platelet', 0.0),\n",
       " ('WBCC', 0.0),\n",
       " ('NNPC', 0.0),\n",
       " ('ESPC', 0.0),\n",
       " ('BSPC', 0.0),\n",
       " ('NNAV', 0.0),\n",
       " ('LPAV', 0.0),\n",
       " ('MCAV', 0.0),\n",
       " ('ESAV', 0.0),\n",
       " ('BSAV', 0.0),\n",
       " ('TBB', 0.0),\n",
       " ('DBB', 0.0),\n",
       " ('IDBB', 0.0),\n",
       " ('AST', 0.0),\n",
       " ('ALT', 0.0),\n",
       " ('AST_ALT', 0.0),\n",
       " ('ALB', 0.0),\n",
       " ('WBR', 0.0),\n",
       " ('Creatinine', 0.0),\n",
       " ('EGFR', 0.0),\n",
       " ('DSCC', 0.0),\n",
       " ('Triglyceride', 0.0),\n",
       " ('cholesterol', 0.0),\n",
       " ('HDLP', 0.0),\n",
       " ('LDLP', 0.0),\n",
       " ('AKPP', 0.0),\n",
       " ('GLTP', 0.0),\n",
       " ('CTKN', 0.0),\n",
       " ('LTDD', 0.0),\n",
       " ('HBDD', 0.0),\n",
       " ('sodium', 0.0),\n",
       " ('potassium', 0.0),\n",
       " ('chlorine', 0.0),\n",
       " ('magnesium', 0.0),\n",
       " ('SIPP', 0.0),\n",
       " ('TTBA', 0.0),\n",
       " ('INR', 0.0),\n",
       " ('APTTR', 0.0),\n",
       " ('TBT', 0.0),\n",
       " ('TBTR', 0.0),\n",
       " ('Fibrinogen', 0.0),\n",
       " ('FEU', 0.0),\n",
       " ('MCKMB', 0.0),\n",
       " ('TP', -0.025335247286581347),\n",
       " ('UNP', -0.08513489448812533),\n",
       " ('RBCSD', -0.18836426231382583),\n",
       " ('gender', -0.3368493390764657),\n",
       " ('GLO', -0.34800945067796835),\n",
       " ('MCPC', -0.35634759607332145),\n",
       " ('APTT', -0.39115076427750317),\n",
       " ('GLU', -0.5713456608122971),\n",
       " ('UA', -0.7006178892060941),\n",
       " ('heart_rate_median', -0.7055742856342331),\n",
       " ('FDP', -0.7975872227885316),\n",
       " ('AG', -0.8335822578458326),\n",
       " ('breath_rate_min', -0.844955633481081),\n",
       " ('Myoglobin', -1.1309051951612004),\n",
       " ('PRT', -1.1778383842341256),\n",
       " ('temperature_min', -1.2759507560801036),\n",
       " ('heart_rate_max', -1.3078109582344637),\n",
       " ('Troponin', -1.426633108106905),\n",
       " ('age', -1.548809150317673),\n",
       " ('breath_rate_median', -1.82279340727222),\n",
       " ('diastolic_pressure_std', -2.091212572593971),\n",
       " ('LPPC', -2.143939673381349),\n",
       " ('calcium', -3.6615307548315092)]"
      ]
     },
     "execution_count": 10,
     "metadata": {},
     "output_type": "execute_result"
    }
   ],
   "source": [
    "col_name = data.columns[:-1]\n",
    "\n",
    "m = {}\n",
    "for i in range(len(col_name)):\n",
    "    m.setdefault(col_name[i], 0)\n",
    "    m[col_name[i]] = lr.coef_[0][i]\n",
    "    \n",
    "sorted(m.items(), key=lambda x: x[1], reverse=True)"
   ]
  },
  {
   "cell_type": "code",
   "execution_count": 11,
   "metadata": {
    "hidden": true
   },
   "outputs": [
    {
     "name": "stdout",
     "output_type": "stream",
     "text": [
      "              precision    recall  f1-score   support\n",
      "\n",
      "       death       0.61      0.80      0.69        54\n",
      "   non_death       0.93      0.84      0.88       167\n",
      "\n",
      "    accuracy                           0.83       221\n",
      "   macro avg       0.77      0.82      0.79       221\n",
      "weighted avg       0.85      0.83      0.83       221\n",
      "\n"
     ]
    }
   ],
   "source": [
    "print(classification_report(y_test, lr_y_predict, target_names=['death', 'non_death']))  # 精确度/召回率/F1值"
   ]
  },
  {
   "cell_type": "code",
   "execution_count": 12,
   "metadata": {
    "hidden": true
   },
   "outputs": [
    {
     "name": "stdout",
     "output_type": "stream",
     "text": [
      "LR Classifier: \n",
      "ACCURACY         : 0.8280542986425339\n",
      "AUC              : 0.8173098247948547\n",
      "RECALL           : 0.8383233532934131\n",
      "PRECISION        : 0.9271523178807947\n",
      "BALANCED_ACCURACY: 0.8173098247948547\n"
     ]
    }
   ],
   "source": [
    "print(\"LR Classifier: \")\n",
    "print(\"ACCURACY         : {score}\".format(score=accuracy_score(y_test, lr_y_predict)))           # 准确率\n",
    "print(\"AUC              : {score}\".format(score=roc_auc_score(y_test, lr_y_predict)))            # AUC\n",
    "print(\"RECALL           : {score}\".format(score=recall_score(y_test, lr_y_predict)))             # 召回率\n",
    "print(\"PRECISION        : {score}\".format(score=precision_score(y_test, lr_y_predict)))          # 正确率\n",
    "print(\"BALANCED_ACCURACY: {score}\".format(score=balanced_accuracy_score(y_test, lr_y_predict)))  # 平衡精度"
   ]
  },
  {
   "cell_type": "code",
   "execution_count": 13,
   "metadata": {
    "hidden": true
   },
   "outputs": [
    {
     "data": {
      "text/plain": [
       "1    151\n",
       "0     70\n",
       "dtype: int64"
      ]
     },
     "execution_count": 13,
     "metadata": {},
     "output_type": "execute_result"
    }
   ],
   "source": [
    "pd.Series(lr_y_predict).value_counts()"
   ]
  },
  {
   "cell_type": "code",
   "execution_count": 14,
   "metadata": {
    "hidden": true
   },
   "outputs": [
    {
     "name": "stdout",
     "output_type": "stream",
     "text": [
      "0.7720820678113184\n",
      "0.8334683740810771\n",
      "0.7932838829315488\n",
      "0.8782780107765703\n",
      "0.7558073280505158\n"
     ]
    }
   ],
   "source": [
    "# 五折交叉验证\n",
    "from sklearn.model_selection import cross_val_score\n",
    "\n",
    "for my_score in ['accuracy', 'roc_auc', 'recall', 'precision', 'balanced_accuracy']:\n",
    "        print(cross_val_score(lr, X, y, cv=5, scoring=my_score).mean())"
   ]
  },
  {
   "cell_type": "markdown",
   "metadata": {
    "heading_collapsed": true
   },
   "source": [
    "## step3:KNeighborsClassifier"
   ]
  },
  {
   "cell_type": "code",
   "execution_count": 15,
   "metadata": {
    "hidden": true
   },
   "outputs": [
    {
     "data": {
      "image/png": "[encoded data removed]",
      "text/plain": [
       "<Figure size 432x288 with 1 Axes>"
      ]
     },
     "metadata": {
      "needs_background": "light"
     },
     "output_type": "display_data"
    }
   ],
   "source": [
    "%matplotlib inline\n",
    "import matplotlib.pyplot as plt\n",
    "from sklearn.neighbors import KNeighborsClassifier\n",
    "\n",
    "k_range = range(1, 31)  # 优化参数k的取值范围\n",
    "k_scores = []\n",
    "for k in k_range:\n",
    "    knn = KNeighborsClassifier(n_neighbors=k)\n",
    "    scores = cross_val_score(knn, X, y, cv=10, scoring='accuracy')     # 分类\n",
    "    # loss = -cross_val_score(knn, X, y, cv=10, scoring='mean_squared_error')    # 回归\n",
    "    k_scores.append(scores.mean())\n",
    "\n",
    "#可视化数据\n",
    "plt.plot(k_range, k_scores)\n",
    "plt.xlabel('Value of K for KNN')\n",
    "plt.ylabel('Cross-Validated Accuracy')\n",
    "plt.show()"
   ]
  },
  {
   "cell_type": "code",
   "execution_count": 16,
   "metadata": {
    "hidden": true
   },
   "outputs": [
    {
     "name": "stdout",
     "output_type": "stream",
     "text": [
      "网格搜索-最佳度量值: 0.7863636363636364\n",
      "网格搜索-最佳参数： {'n_neighbors': 4, 'weights': 'uniform'}\n",
      "网格搜索-最佳模型： KNeighborsClassifier(algorithm='auto', leaf_size=30, metric='minkowski',\n",
      "                     metric_params=None, n_jobs=None, n_neighbors=4, p=2,\n",
      "                     weights='uniform')\n"
     ]
    }
   ],
   "source": [
    "from sklearn.model_selection import GridSearchCV  # 网格搜索和随机搜索\n",
    "\n",
    "k_range = range(1, 31)   \n",
    "weight_options = ['uniform', 'distance']   # 代估参数权重的取值范围。uniform为统一取权值，distance表示距离倒数取权值\n",
    "param_grid = {'n_neighbors':k_range, 'weights':weight_options}  # 定义优化参数字典，字典中的key值必须是分类算法的函数的参数名\n",
    "\n",
    "# 针对每个参数对进行10次交叉验证,使用准确率为结果的度量指标。可以添加多个度量指标\n",
    "grid = GridSearchCV(KNeighborsClassifier(), param_grid = param_grid, cv=10, scoring='accuracy') \n",
    "grid.fit(X_train, y_train)\n",
    " \n",
    "#print('网格搜索-度量记录：',  grid.cv_results_)      # 包含每次训练的相关信息\n",
    "print('网格搜索-最佳度量值:', grid.best_score_)      # 获取最佳度量值\n",
    "print('网格搜索-最佳参数：',  grid.best_params_)     # 获取最佳度量值时的代定参数的值。是一个字典\n",
    "print('网格搜索-最佳模型：',  grid.best_estimator_)  # 获取最佳度量时的分类器模型"
   ]
  },
  {
   "cell_type": "code",
   "execution_count": 17,
   "metadata": {
    "hidden": true
   },
   "outputs": [
    {
     "name": "stdout",
     "output_type": "stream",
     "text": [
      "[0 1 1 1 0 1 0 1 1 1 1 1 1 1 1 0 1 1 1 1 1 0 1 1 1 1 0 1 1 0 1 1 1 1 1 1 1\n",
      " 1 1 1 1 1 1 1 1 1 1 1 1 1 1 0 1 1 0 0 1 1 1 1 1 1 1 1 0 1 1 0 1 1 1 0 1 1\n",
      " 1 1 1 0 1 0 0 0 0 1 0 1 1 1 1 0 1 0 1 0 0 1 1 1 1 1 0 0 0 1 0 1 1 1 0 1 1\n",
      " 1 1 1 1 1 1 1 1 1 1 1 1 1 1 1 1 1 0 1 1 1 1 1 1 1 1 1 0 1 1 1 1 1 0 1 1 1\n",
      " 0 1 1 1 1 1 1 1 1 1 1 1 1 0 1 1 1 1 1 1 1 1 0 0 1 1 0 1 1 1 1 1 0 1 1 1 0\n",
      " 1 1 1 1 0 0 1 1 1 1 1 1 1 1 1 0 1 0 1 1 1 0 1 1 1 1 1 1 1 1 1 1 1 1 1 1]\n",
      "Accuracy of KNeighborsClassifier(Train): 0.8715909090909091\n",
      "Accuracy of KNeighborsClassifier(Test): 0.8416289592760181\n"
     ]
    }
   ],
   "source": [
    "knn = KNeighborsClassifier(algorithm='auto', leaf_size=30, metric='minkowski',\n",
    "                     metric_params=None, n_jobs=None, n_neighbors=4, p=2,\n",
    "                     weights='uniform')\n",
    "\n",
    "knn.fit(X_train, y_train)\n",
    "knn_y_predict = knn.predict(X_test)\n",
    "print(knn_y_predict)  \n",
    "\n",
    "train_y_score = knn.score(X_train, y_train)\n",
    "test_y_score = knn.score(X_test, y_test)\n",
    "print(\"Accuracy of KNeighborsClassifier(Train): {score}\".format(score=train_y_score)) \n",
    "print(\"Accuracy of KNeighborsClassifier(Test): {score}\".format(score=test_y_score))"
   ]
  },
  {
   "cell_type": "code",
   "execution_count": 18,
   "metadata": {
    "hidden": true
   },
   "outputs": [
    {
     "name": "stdout",
     "output_type": "stream",
     "text": [
      "              precision    recall  f1-score   support\n",
      "\n",
      "       death       0.72      0.57      0.64        54\n",
      "   non_death       0.87      0.93      0.90       167\n",
      "\n",
      "    accuracy                           0.84       221\n",
      "   macro avg       0.80      0.75      0.77       221\n",
      "weighted avg       0.83      0.84      0.84       221\n",
      "\n"
     ]
    }
   ],
   "source": [
    "print(classification_report(y_test, knn_y_predict, target_names=['death', 'non_death']))  # 精确度/召回率/F1值"
   ]
  },
  {
   "cell_type": "code",
   "execution_count": 19,
   "metadata": {
    "hidden": true
   },
   "outputs": [
    {
     "name": "stdout",
     "output_type": "stream",
     "text": [
      "KNN Classifier: \n",
      "ACCURACY         : 0.8416289592760181\n",
      "AUC              : 0.7511088933244622\n",
      "RECALL           : 0.9281437125748503\n",
      "PRECISION        : 0.8707865168539326\n",
      "BALANCED_ACCURACY: 0.7511088933244622\n"
     ]
    }
   ],
   "source": [
    "print(\"KNN Classifier: \")\n",
    "print(\"ACCURACY         : {score}\".format(score=accuracy_score(y_test, knn_y_predict)))           # 准确率\n",
    "print(\"AUC              : {score}\".format(score=roc_auc_score(y_test, knn_y_predict)))            # AUC\n",
    "print(\"RECALL           : {score}\".format(score=recall_score(y_test, knn_y_predict)))             # 召回率\n",
    "print(\"PRECISION        : {score}\".format(score=precision_score(y_test, knn_y_predict)))          # 正确率\n",
    "print(\"BALANCED_ACCURACY: {score}\".format(score=balanced_accuracy_score(y_test, knn_y_predict)))  # 平衡精度"
   ]
  },
  {
   "cell_type": "code",
   "execution_count": 20,
   "metadata": {
    "hidden": true
   },
   "outputs": [
    {
     "data": {
      "text/plain": [
       "1    178\n",
       "0     43\n",
       "dtype: int64"
      ]
     },
     "execution_count": 20,
     "metadata": {},
     "output_type": "execute_result"
    }
   ],
   "source": [
    "pd.Series(knn_y_predict).value_counts()"
   ]
  },
  {
   "cell_type": "code",
   "execution_count": 21,
   "metadata": {
    "hidden": true
   },
   "outputs": [
    {
     "name": "stdout",
     "output_type": "stream",
     "text": [
      "0.7901898799561975\n",
      "0.7640557309462854\n",
      "0.9175602676771749\n",
      "0.8147662312676474\n",
      "0.6934447523741738\n"
     ]
    }
   ],
   "source": [
    "# 五折交叉验证\n",
    "for my_score in ['accuracy', 'roc_auc', 'recall', 'precision', 'balanced_accuracy']:\n",
    "        print(cross_val_score(knn, X, y, cv=5, scoring=my_score).mean())"
   ]
  },
  {
   "cell_type": "markdown",
   "metadata": {
    "heading_collapsed": true
   },
   "source": [
    "## step4:SVC"
   ]
  },
  {
   "cell_type": "code",
   "execution_count": 22,
   "metadata": {
    "hidden": true
   },
   "outputs": [
    {
     "name": "stdout",
     "output_type": "stream",
     "text": [
      "[0 1 1 1 1 1 0 1 1 1 1 1 0 1 1 0 1 0 1 1 1 0 1 1 1 1 1 1 1 1 1 1 1 1 1 1 0\n",
      " 1 1 1 1 1 1 1 1 1 1 1 1 1 1 0 1 1 1 0 1 1 1 1 1 1 0 1 0 0 1 0 1 1 1 0 1 0\n",
      " 1 1 1 0 1 1 1 1 0 1 1 1 1 1 1 1 1 0 0 1 1 1 1 1 1 1 1 1 1 1 0 1 1 1 0 0 1\n",
      " 1 1 0 1 1 1 1 1 1 1 1 1 1 1 1 1 0 1 1 1 1 1 1 1 1 1 1 1 1 1 1 1 1 1 1 1 1\n",
      " 0 1 1 1 1 1 1 0 1 1 1 1 0 1 1 0 1 0 0 1 1 1 0 1 1 1 0 1 0 1 1 1 0 1 1 1 0\n",
      " 0 1 1 1 1 0 1 1 1 1 1 1 1 1 1 0 1 0 1 1 0 1 0 1 1 1 1 1 1 1 1 1 1 1 1 1]\n",
      "Accuracy of SVC Classifier: 0.8506787330316742\n"
     ]
    }
   ],
   "source": [
    "from sklearn.svm import SVC\n",
    "\n",
    "svc = SVC(C=2.5, kernel='linear')\n",
    "svc.fit(X_train, y_train)\n",
    "\n",
    "svc_y_predict = svc.predict(X_test)\n",
    "print(svc_y_predict)\n",
    "\n",
    "y_score = svc.score(X_test, y_test)\n",
    "print(\"Accuracy of SVC Classifier: {score}\".format(score=y_score))  # 准确率"
   ]
  },
  {
   "cell_type": "code",
   "execution_count": 23,
   "metadata": {
    "hidden": true
   },
   "outputs": [
    {
     "name": "stderr",
     "output_type": "stream",
     "text": [
      "d:\\python3.6.0\\lib\\site-packages\\sklearn\\model_selection\\_split.py:1978: FutureWarning: The default value of cv will change from 3 to 5 in version 0.22. Specify it explicitly to silence this warning.\n",
      "  warnings.warn(CV_WARNING, FutureWarning)\n",
      "d:\\python3.6.0\\lib\\site-packages\\sklearn\\svm\\base.py:193: FutureWarning: The default value of gamma will change from 'auto' to 'scale' in version 0.22 to account better for unscaled features. Set gamma explicitly to 'auto' or 'scale' to avoid this warning.\n",
      "  \"avoid this warning.\", FutureWarning)\n",
      "d:\\python3.6.0\\lib\\site-packages\\sklearn\\svm\\base.py:193: FutureWarning: The default value of gamma will change from 'auto' to 'scale' in version 0.22 to account better for unscaled features. Set gamma explicitly to 'auto' or 'scale' to avoid this warning.\n",
      "  \"avoid this warning.\", FutureWarning)\n",
      "d:\\python3.6.0\\lib\\site-packages\\sklearn\\svm\\base.py:193: FutureWarning: The default value of gamma will change from 'auto' to 'scale' in version 0.22 to account better for unscaled features. Set gamma explicitly to 'auto' or 'scale' to avoid this warning.\n",
      "  \"avoid this warning.\", FutureWarning)\n",
      "d:\\python3.6.0\\lib\\site-packages\\sklearn\\svm\\base.py:193: FutureWarning: The default value of gamma will change from 'auto' to 'scale' in version 0.22 to account better for unscaled features. Set gamma explicitly to 'auto' or 'scale' to avoid this warning.\n",
      "  \"avoid this warning.\", FutureWarning)\n",
      "d:\\python3.6.0\\lib\\site-packages\\sklearn\\svm\\base.py:193: FutureWarning: The default value of gamma will change from 'auto' to 'scale' in version 0.22 to account better for unscaled features. Set gamma explicitly to 'auto' or 'scale' to avoid this warning.\n",
      "  \"avoid this warning.\", FutureWarning)\n",
      "d:\\python3.6.0\\lib\\site-packages\\sklearn\\svm\\base.py:193: FutureWarning: The default value of gamma will change from 'auto' to 'scale' in version 0.22 to account better for unscaled features. Set gamma explicitly to 'auto' or 'scale' to avoid this warning.\n",
      "  \"avoid this warning.\", FutureWarning)\n",
      "d:\\python3.6.0\\lib\\site-packages\\sklearn\\svm\\base.py:193: FutureWarning: The default value of gamma will change from 'auto' to 'scale' in version 0.22 to account better for unscaled features. Set gamma explicitly to 'auto' or 'scale' to avoid this warning.\n",
      "  \"avoid this warning.\", FutureWarning)\n",
      "d:\\python3.6.0\\lib\\site-packages\\sklearn\\svm\\base.py:193: FutureWarning: The default value of gamma will change from 'auto' to 'scale' in version 0.22 to account better for unscaled features. Set gamma explicitly to 'auto' or 'scale' to avoid this warning.\n",
      "  \"avoid this warning.\", FutureWarning)\n",
      "d:\\python3.6.0\\lib\\site-packages\\sklearn\\svm\\base.py:193: FutureWarning: The default value of gamma will change from 'auto' to 'scale' in version 0.22 to account better for unscaled features. Set gamma explicitly to 'auto' or 'scale' to avoid this warning.\n",
      "  \"avoid this warning.\", FutureWarning)\n",
      "d:\\python3.6.0\\lib\\site-packages\\sklearn\\svm\\base.py:193: FutureWarning: The default value of gamma will change from 'auto' to 'scale' in version 0.22 to account better for unscaled features. Set gamma explicitly to 'auto' or 'scale' to avoid this warning.\n",
      "  \"avoid this warning.\", FutureWarning)\n",
      "d:\\python3.6.0\\lib\\site-packages\\sklearn\\svm\\base.py:193: FutureWarning: The default value of gamma will change from 'auto' to 'scale' in version 0.22 to account better for unscaled features. Set gamma explicitly to 'auto' or 'scale' to avoid this warning.\n",
      "  \"avoid this warning.\", FutureWarning)\n",
      "d:\\python3.6.0\\lib\\site-packages\\sklearn\\svm\\base.py:193: FutureWarning: The default value of gamma will change from 'auto' to 'scale' in version 0.22 to account better for unscaled features. Set gamma explicitly to 'auto' or 'scale' to avoid this warning.\n",
      "  \"avoid this warning.\", FutureWarning)\n",
      "d:\\python3.6.0\\lib\\site-packages\\sklearn\\svm\\base.py:193: FutureWarning: The default value of gamma will change from 'auto' to 'scale' in version 0.22 to account better for unscaled features. Set gamma explicitly to 'auto' or 'scale' to avoid this warning.\n",
      "  \"avoid this warning.\", FutureWarning)\n",
      "d:\\python3.6.0\\lib\\site-packages\\sklearn\\svm\\base.py:193: FutureWarning: The default value of gamma will change from 'auto' to 'scale' in version 0.22 to account better for unscaled features. Set gamma explicitly to 'auto' or 'scale' to avoid this warning.\n",
      "  \"avoid this warning.\", FutureWarning)\n",
      "d:\\python3.6.0\\lib\\site-packages\\sklearn\\svm\\base.py:193: FutureWarning: The default value of gamma will change from 'auto' to 'scale' in version 0.22 to account better for unscaled features. Set gamma explicitly to 'auto' or 'scale' to avoid this warning.\n",
      "  \"avoid this warning.\", FutureWarning)\n",
      "d:\\python3.6.0\\lib\\site-packages\\sklearn\\svm\\base.py:193: FutureWarning: The default value of gamma will change from 'auto' to 'scale' in version 0.22 to account better for unscaled features. Set gamma explicitly to 'auto' or 'scale' to avoid this warning.\n",
      "  \"avoid this warning.\", FutureWarning)\n",
      "d:\\python3.6.0\\lib\\site-packages\\sklearn\\svm\\base.py:193: FutureWarning: The default value of gamma will change from 'auto' to 'scale' in version 0.22 to account better for unscaled features. Set gamma explicitly to 'auto' or 'scale' to avoid this warning.\n",
      "  \"avoid this warning.\", FutureWarning)\n",
      "d:\\python3.6.0\\lib\\site-packages\\sklearn\\svm\\base.py:193: FutureWarning: The default value of gamma will change from 'auto' to 'scale' in version 0.22 to account better for unscaled features. Set gamma explicitly to 'auto' or 'scale' to avoid this warning.\n",
      "  \"avoid this warning.\", FutureWarning)\n",
      "d:\\python3.6.0\\lib\\site-packages\\sklearn\\svm\\base.py:193: FutureWarning: The default value of gamma will change from 'auto' to 'scale' in version 0.22 to account better for unscaled features. Set gamma explicitly to 'auto' or 'scale' to avoid this warning.\n",
      "  \"avoid this warning.\", FutureWarning)\n",
      "d:\\python3.6.0\\lib\\site-packages\\sklearn\\svm\\base.py:193: FutureWarning: The default value of gamma will change from 'auto' to 'scale' in version 0.22 to account better for unscaled features. Set gamma explicitly to 'auto' or 'scale' to avoid this warning.\n",
      "  \"avoid this warning.\", FutureWarning)\n",
      "d:\\python3.6.0\\lib\\site-packages\\sklearn\\svm\\base.py:193: FutureWarning: The default value of gamma will change from 'auto' to 'scale' in version 0.22 to account better for unscaled features. Set gamma explicitly to 'auto' or 'scale' to avoid this warning.\n",
      "  \"avoid this warning.\", FutureWarning)\n",
      "d:\\python3.6.0\\lib\\site-packages\\sklearn\\svm\\base.py:193: FutureWarning: The default value of gamma will change from 'auto' to 'scale' in version 0.22 to account better for unscaled features. Set gamma explicitly to 'auto' or 'scale' to avoid this warning.\n",
      "  \"avoid this warning.\", FutureWarning)\n",
      "d:\\python3.6.0\\lib\\site-packages\\sklearn\\svm\\base.py:193: FutureWarning: The default value of gamma will change from 'auto' to 'scale' in version 0.22 to account better for unscaled features. Set gamma explicitly to 'auto' or 'scale' to avoid this warning.\n",
      "  \"avoid this warning.\", FutureWarning)\n",
      "d:\\python3.6.0\\lib\\site-packages\\sklearn\\svm\\base.py:193: FutureWarning: The default value of gamma will change from 'auto' to 'scale' in version 0.22 to account better for unscaled features. Set gamma explicitly to 'auto' or 'scale' to avoid this warning.\n",
      "  \"avoid this warning.\", FutureWarning)\n",
      "d:\\python3.6.0\\lib\\site-packages\\sklearn\\svm\\base.py:193: FutureWarning: The default value of gamma will change from 'auto' to 'scale' in version 0.22 to account better for unscaled features. Set gamma explicitly to 'auto' or 'scale' to avoid this warning.\n",
      "  \"avoid this warning.\", FutureWarning)\n",
      "d:\\python3.6.0\\lib\\site-packages\\sklearn\\svm\\base.py:193: FutureWarning: The default value of gamma will change from 'auto' to 'scale' in version 0.22 to account better for unscaled features. Set gamma explicitly to 'auto' or 'scale' to avoid this warning.\n",
      "  \"avoid this warning.\", FutureWarning)\n",
      "d:\\python3.6.0\\lib\\site-packages\\sklearn\\svm\\base.py:193: FutureWarning: The default value of gamma will change from 'auto' to 'scale' in version 0.22 to account better for unscaled features. Set gamma explicitly to 'auto' or 'scale' to avoid this warning.\n",
      "  \"avoid this warning.\", FutureWarning)\n"
     ]
    },
    {
     "name": "stderr",
     "output_type": "stream",
     "text": [
      "d:\\python3.6.0\\lib\\site-packages\\sklearn\\svm\\base.py:193: FutureWarning: The default value of gamma will change from 'auto' to 'scale' in version 0.22 to account better for unscaled features. Set gamma explicitly to 'auto' or 'scale' to avoid this warning.\n",
      "  \"avoid this warning.\", FutureWarning)\n",
      "d:\\python3.6.0\\lib\\site-packages\\sklearn\\svm\\base.py:193: FutureWarning: The default value of gamma will change from 'auto' to 'scale' in version 0.22 to account better for unscaled features. Set gamma explicitly to 'auto' or 'scale' to avoid this warning.\n",
      "  \"avoid this warning.\", FutureWarning)\n",
      "d:\\python3.6.0\\lib\\site-packages\\sklearn\\svm\\base.py:193: FutureWarning: The default value of gamma will change from 'auto' to 'scale' in version 0.22 to account better for unscaled features. Set gamma explicitly to 'auto' or 'scale' to avoid this warning.\n",
      "  \"avoid this warning.\", FutureWarning)\n",
      "d:\\python3.6.0\\lib\\site-packages\\sklearn\\svm\\base.py:193: FutureWarning: The default value of gamma will change from 'auto' to 'scale' in version 0.22 to account better for unscaled features. Set gamma explicitly to 'auto' or 'scale' to avoid this warning.\n",
      "  \"avoid this warning.\", FutureWarning)\n",
      "d:\\python3.6.0\\lib\\site-packages\\sklearn\\svm\\base.py:193: FutureWarning: The default value of gamma will change from 'auto' to 'scale' in version 0.22 to account better for unscaled features. Set gamma explicitly to 'auto' or 'scale' to avoid this warning.\n",
      "  \"avoid this warning.\", FutureWarning)\n",
      "d:\\python3.6.0\\lib\\site-packages\\sklearn\\svm\\base.py:193: FutureWarning: The default value of gamma will change from 'auto' to 'scale' in version 0.22 to account better for unscaled features. Set gamma explicitly to 'auto' or 'scale' to avoid this warning.\n",
      "  \"avoid this warning.\", FutureWarning)\n",
      "d:\\python3.6.0\\lib\\site-packages\\sklearn\\svm\\base.py:193: FutureWarning: The default value of gamma will change from 'auto' to 'scale' in version 0.22 to account better for unscaled features. Set gamma explicitly to 'auto' or 'scale' to avoid this warning.\n",
      "  \"avoid this warning.\", FutureWarning)\n",
      "d:\\python3.6.0\\lib\\site-packages\\sklearn\\svm\\base.py:193: FutureWarning: The default value of gamma will change from 'auto' to 'scale' in version 0.22 to account better for unscaled features. Set gamma explicitly to 'auto' or 'scale' to avoid this warning.\n",
      "  \"avoid this warning.\", FutureWarning)\n",
      "d:\\python3.6.0\\lib\\site-packages\\sklearn\\svm\\base.py:193: FutureWarning: The default value of gamma will change from 'auto' to 'scale' in version 0.22 to account better for unscaled features. Set gamma explicitly to 'auto' or 'scale' to avoid this warning.\n",
      "  \"avoid this warning.\", FutureWarning)\n",
      "d:\\python3.6.0\\lib\\site-packages\\sklearn\\svm\\base.py:193: FutureWarning: The default value of gamma will change from 'auto' to 'scale' in version 0.22 to account better for unscaled features. Set gamma explicitly to 'auto' or 'scale' to avoid this warning.\n",
      "  \"avoid this warning.\", FutureWarning)\n",
      "d:\\python3.6.0\\lib\\site-packages\\sklearn\\svm\\base.py:193: FutureWarning: The default value of gamma will change from 'auto' to 'scale' in version 0.22 to account better for unscaled features. Set gamma explicitly to 'auto' or 'scale' to avoid this warning.\n",
      "  \"avoid this warning.\", FutureWarning)\n",
      "d:\\python3.6.0\\lib\\site-packages\\sklearn\\svm\\base.py:193: FutureWarning: The default value of gamma will change from 'auto' to 'scale' in version 0.22 to account better for unscaled features. Set gamma explicitly to 'auto' or 'scale' to avoid this warning.\n",
      "  \"avoid this warning.\", FutureWarning)\n",
      "d:\\python3.6.0\\lib\\site-packages\\sklearn\\svm\\base.py:193: FutureWarning: The default value of gamma will change from 'auto' to 'scale' in version 0.22 to account better for unscaled features. Set gamma explicitly to 'auto' or 'scale' to avoid this warning.\n",
      "  \"avoid this warning.\", FutureWarning)\n",
      "d:\\python3.6.0\\lib\\site-packages\\sklearn\\svm\\base.py:193: FutureWarning: The default value of gamma will change from 'auto' to 'scale' in version 0.22 to account better for unscaled features. Set gamma explicitly to 'auto' or 'scale' to avoid this warning.\n",
      "  \"avoid this warning.\", FutureWarning)\n",
      "d:\\python3.6.0\\lib\\site-packages\\sklearn\\svm\\base.py:193: FutureWarning: The default value of gamma will change from 'auto' to 'scale' in version 0.22 to account better for unscaled features. Set gamma explicitly to 'auto' or 'scale' to avoid this warning.\n",
      "  \"avoid this warning.\", FutureWarning)\n",
      "d:\\python3.6.0\\lib\\site-packages\\sklearn\\svm\\base.py:193: FutureWarning: The default value of gamma will change from 'auto' to 'scale' in version 0.22 to account better for unscaled features. Set gamma explicitly to 'auto' or 'scale' to avoid this warning.\n",
      "  \"avoid this warning.\", FutureWarning)\n",
      "d:\\python3.6.0\\lib\\site-packages\\sklearn\\svm\\base.py:193: FutureWarning: The default value of gamma will change from 'auto' to 'scale' in version 0.22 to account better for unscaled features. Set gamma explicitly to 'auto' or 'scale' to avoid this warning.\n",
      "  \"avoid this warning.\", FutureWarning)\n",
      "d:\\python3.6.0\\lib\\site-packages\\sklearn\\svm\\base.py:193: FutureWarning: The default value of gamma will change from 'auto' to 'scale' in version 0.22 to account better for unscaled features. Set gamma explicitly to 'auto' or 'scale' to avoid this warning.\n",
      "  \"avoid this warning.\", FutureWarning)\n",
      "d:\\python3.6.0\\lib\\site-packages\\sklearn\\svm\\base.py:193: FutureWarning: The default value of gamma will change from 'auto' to 'scale' in version 0.22 to account better for unscaled features. Set gamma explicitly to 'auto' or 'scale' to avoid this warning.\n",
      "  \"avoid this warning.\", FutureWarning)\n",
      "d:\\python3.6.0\\lib\\site-packages\\sklearn\\svm\\base.py:193: FutureWarning: The default value of gamma will change from 'auto' to 'scale' in version 0.22 to account better for unscaled features. Set gamma explicitly to 'auto' or 'scale' to avoid this warning.\n",
      "  \"avoid this warning.\", FutureWarning)\n",
      "d:\\python3.6.0\\lib\\site-packages\\sklearn\\svm\\base.py:193: FutureWarning: The default value of gamma will change from 'auto' to 'scale' in version 0.22 to account better for unscaled features. Set gamma explicitly to 'auto' or 'scale' to avoid this warning.\n",
      "  \"avoid this warning.\", FutureWarning)\n",
      "d:\\python3.6.0\\lib\\site-packages\\sklearn\\svm\\base.py:193: FutureWarning: The default value of gamma will change from 'auto' to 'scale' in version 0.22 to account better for unscaled features. Set gamma explicitly to 'auto' or 'scale' to avoid this warning.\n",
      "  \"avoid this warning.\", FutureWarning)\n",
      "d:\\python3.6.0\\lib\\site-packages\\sklearn\\svm\\base.py:193: FutureWarning: The default value of gamma will change from 'auto' to 'scale' in version 0.22 to account better for unscaled features. Set gamma explicitly to 'auto' or 'scale' to avoid this warning.\n",
      "  \"avoid this warning.\", FutureWarning)\n",
      "d:\\python3.6.0\\lib\\site-packages\\sklearn\\svm\\base.py:193: FutureWarning: The default value of gamma will change from 'auto' to 'scale' in version 0.22 to account better for unscaled features. Set gamma explicitly to 'auto' or 'scale' to avoid this warning.\n",
      "  \"avoid this warning.\", FutureWarning)\n",
      "d:\\python3.6.0\\lib\\site-packages\\sklearn\\svm\\base.py:193: FutureWarning: The default value of gamma will change from 'auto' to 'scale' in version 0.22 to account better for unscaled features. Set gamma explicitly to 'auto' or 'scale' to avoid this warning.\n",
      "  \"avoid this warning.\", FutureWarning)\n",
      "d:\\python3.6.0\\lib\\site-packages\\sklearn\\svm\\base.py:193: FutureWarning: The default value of gamma will change from 'auto' to 'scale' in version 0.22 to account better for unscaled features. Set gamma explicitly to 'auto' or 'scale' to avoid this warning.\n",
      "  \"avoid this warning.\", FutureWarning)\n",
      "d:\\python3.6.0\\lib\\site-packages\\sklearn\\svm\\base.py:193: FutureWarning: The default value of gamma will change from 'auto' to 'scale' in version 0.22 to account better for unscaled features. Set gamma explicitly to 'auto' or 'scale' to avoid this warning.\n",
      "  \"avoid this warning.\", FutureWarning)\n",
      "d:\\python3.6.0\\lib\\site-packages\\sklearn\\svm\\base.py:193: FutureWarning: The default value of gamma will change from 'auto' to 'scale' in version 0.22 to account better for unscaled features. Set gamma explicitly to 'auto' or 'scale' to avoid this warning.\n",
      "  \"avoid this warning.\", FutureWarning)\n",
      "d:\\python3.6.0\\lib\\site-packages\\sklearn\\svm\\base.py:193: FutureWarning: The default value of gamma will change from 'auto' to 'scale' in version 0.22 to account better for unscaled features. Set gamma explicitly to 'auto' or 'scale' to avoid this warning.\n",
      "  \"avoid this warning.\", FutureWarning)\n"
     ]
    },
    {
     "name": "stderr",
     "output_type": "stream",
     "text": [
      "d:\\python3.6.0\\lib\\site-packages\\sklearn\\svm\\base.py:193: FutureWarning: The default value of gamma will change from 'auto' to 'scale' in version 0.22 to account better for unscaled features. Set gamma explicitly to 'auto' or 'scale' to avoid this warning.\n",
      "  \"avoid this warning.\", FutureWarning)\n",
      "d:\\python3.6.0\\lib\\site-packages\\sklearn\\svm\\base.py:193: FutureWarning: The default value of gamma will change from 'auto' to 'scale' in version 0.22 to account better for unscaled features. Set gamma explicitly to 'auto' or 'scale' to avoid this warning.\n",
      "  \"avoid this warning.\", FutureWarning)\n",
      "d:\\python3.6.0\\lib\\site-packages\\sklearn\\svm\\base.py:193: FutureWarning: The default value of gamma will change from 'auto' to 'scale' in version 0.22 to account better for unscaled features. Set gamma explicitly to 'auto' or 'scale' to avoid this warning.\n",
      "  \"avoid this warning.\", FutureWarning)\n",
      "d:\\python3.6.0\\lib\\site-packages\\sklearn\\svm\\base.py:193: FutureWarning: The default value of gamma will change from 'auto' to 'scale' in version 0.22 to account better for unscaled features. Set gamma explicitly to 'auto' or 'scale' to avoid this warning.\n",
      "  \"avoid this warning.\", FutureWarning)\n",
      "d:\\python3.6.0\\lib\\site-packages\\sklearn\\svm\\base.py:193: FutureWarning: The default value of gamma will change from 'auto' to 'scale' in version 0.22 to account better for unscaled features. Set gamma explicitly to 'auto' or 'scale' to avoid this warning.\n",
      "  \"avoid this warning.\", FutureWarning)\n",
      "d:\\python3.6.0\\lib\\site-packages\\sklearn\\svm\\base.py:193: FutureWarning: The default value of gamma will change from 'auto' to 'scale' in version 0.22 to account better for unscaled features. Set gamma explicitly to 'auto' or 'scale' to avoid this warning.\n",
      "  \"avoid this warning.\", FutureWarning)\n",
      "d:\\python3.6.0\\lib\\site-packages\\sklearn\\svm\\base.py:193: FutureWarning: The default value of gamma will change from 'auto' to 'scale' in version 0.22 to account better for unscaled features. Set gamma explicitly to 'auto' or 'scale' to avoid this warning.\n",
      "  \"avoid this warning.\", FutureWarning)\n",
      "d:\\python3.6.0\\lib\\site-packages\\sklearn\\svm\\base.py:193: FutureWarning: The default value of gamma will change from 'auto' to 'scale' in version 0.22 to account better for unscaled features. Set gamma explicitly to 'auto' or 'scale' to avoid this warning.\n",
      "  \"avoid this warning.\", FutureWarning)\n",
      "d:\\python3.6.0\\lib\\site-packages\\sklearn\\svm\\base.py:193: FutureWarning: The default value of gamma will change from 'auto' to 'scale' in version 0.22 to account better for unscaled features. Set gamma explicitly to 'auto' or 'scale' to avoid this warning.\n",
      "  \"avoid this warning.\", FutureWarning)\n",
      "d:\\python3.6.0\\lib\\site-packages\\sklearn\\svm\\base.py:193: FutureWarning: The default value of gamma will change from 'auto' to 'scale' in version 0.22 to account better for unscaled features. Set gamma explicitly to 'auto' or 'scale' to avoid this warning.\n",
      "  \"avoid this warning.\", FutureWarning)\n",
      "d:\\python3.6.0\\lib\\site-packages\\sklearn\\svm\\base.py:193: FutureWarning: The default value of gamma will change from 'auto' to 'scale' in version 0.22 to account better for unscaled features. Set gamma explicitly to 'auto' or 'scale' to avoid this warning.\n",
      "  \"avoid this warning.\", FutureWarning)\n",
      "d:\\python3.6.0\\lib\\site-packages\\sklearn\\svm\\base.py:193: FutureWarning: The default value of gamma will change from 'auto' to 'scale' in version 0.22 to account better for unscaled features. Set gamma explicitly to 'auto' or 'scale' to avoid this warning.\n",
      "  \"avoid this warning.\", FutureWarning)\n",
      "d:\\python3.6.0\\lib\\site-packages\\sklearn\\svm\\base.py:193: FutureWarning: The default value of gamma will change from 'auto' to 'scale' in version 0.22 to account better for unscaled features. Set gamma explicitly to 'auto' or 'scale' to avoid this warning.\n",
      "  \"avoid this warning.\", FutureWarning)\n",
      "d:\\python3.6.0\\lib\\site-packages\\sklearn\\svm\\base.py:193: FutureWarning: The default value of gamma will change from 'auto' to 'scale' in version 0.22 to account better for unscaled features. Set gamma explicitly to 'auto' or 'scale' to avoid this warning.\n",
      "  \"avoid this warning.\", FutureWarning)\n",
      "d:\\python3.6.0\\lib\\site-packages\\sklearn\\svm\\base.py:193: FutureWarning: The default value of gamma will change from 'auto' to 'scale' in version 0.22 to account better for unscaled features. Set gamma explicitly to 'auto' or 'scale' to avoid this warning.\n",
      "  \"avoid this warning.\", FutureWarning)\n",
      "d:\\python3.6.0\\lib\\site-packages\\sklearn\\svm\\base.py:193: FutureWarning: The default value of gamma will change from 'auto' to 'scale' in version 0.22 to account better for unscaled features. Set gamma explicitly to 'auto' or 'scale' to avoid this warning.\n",
      "  \"avoid this warning.\", FutureWarning)\n",
      "d:\\python3.6.0\\lib\\site-packages\\sklearn\\svm\\base.py:193: FutureWarning: The default value of gamma will change from 'auto' to 'scale' in version 0.22 to account better for unscaled features. Set gamma explicitly to 'auto' or 'scale' to avoid this warning.\n",
      "  \"avoid this warning.\", FutureWarning)\n",
      "d:\\python3.6.0\\lib\\site-packages\\sklearn\\svm\\base.py:193: FutureWarning: The default value of gamma will change from 'auto' to 'scale' in version 0.22 to account better for unscaled features. Set gamma explicitly to 'auto' or 'scale' to avoid this warning.\n",
      "  \"avoid this warning.\", FutureWarning)\n",
      "d:\\python3.6.0\\lib\\site-packages\\sklearn\\svm\\base.py:193: FutureWarning: The default value of gamma will change from 'auto' to 'scale' in version 0.22 to account better for unscaled features. Set gamma explicitly to 'auto' or 'scale' to avoid this warning.\n",
      "  \"avoid this warning.\", FutureWarning)\n",
      "d:\\python3.6.0\\lib\\site-packages\\sklearn\\svm\\base.py:193: FutureWarning: The default value of gamma will change from 'auto' to 'scale' in version 0.22 to account better for unscaled features. Set gamma explicitly to 'auto' or 'scale' to avoid this warning.\n",
      "  \"avoid this warning.\", FutureWarning)\n",
      "d:\\python3.6.0\\lib\\site-packages\\sklearn\\svm\\base.py:193: FutureWarning: The default value of gamma will change from 'auto' to 'scale' in version 0.22 to account better for unscaled features. Set gamma explicitly to 'auto' or 'scale' to avoid this warning.\n",
      "  \"avoid this warning.\", FutureWarning)\n",
      "d:\\python3.6.0\\lib\\site-packages\\sklearn\\svm\\base.py:193: FutureWarning: The default value of gamma will change from 'auto' to 'scale' in version 0.22 to account better for unscaled features. Set gamma explicitly to 'auto' or 'scale' to avoid this warning.\n",
      "  \"avoid this warning.\", FutureWarning)\n",
      "d:\\python3.6.0\\lib\\site-packages\\sklearn\\svm\\base.py:193: FutureWarning: The default value of gamma will change from 'auto' to 'scale' in version 0.22 to account better for unscaled features. Set gamma explicitly to 'auto' or 'scale' to avoid this warning.\n",
      "  \"avoid this warning.\", FutureWarning)\n",
      "d:\\python3.6.0\\lib\\site-packages\\sklearn\\svm\\base.py:193: FutureWarning: The default value of gamma will change from 'auto' to 'scale' in version 0.22 to account better for unscaled features. Set gamma explicitly to 'auto' or 'scale' to avoid this warning.\n",
      "  \"avoid this warning.\", FutureWarning)\n",
      "d:\\python3.6.0\\lib\\site-packages\\sklearn\\svm\\base.py:193: FutureWarning: The default value of gamma will change from 'auto' to 'scale' in version 0.22 to account better for unscaled features. Set gamma explicitly to 'auto' or 'scale' to avoid this warning.\n",
      "  \"avoid this warning.\", FutureWarning)\n",
      "d:\\python3.6.0\\lib\\site-packages\\sklearn\\svm\\base.py:193: FutureWarning: The default value of gamma will change from 'auto' to 'scale' in version 0.22 to account better for unscaled features. Set gamma explicitly to 'auto' or 'scale' to avoid this warning.\n",
      "  \"avoid this warning.\", FutureWarning)\n",
      "d:\\python3.6.0\\lib\\site-packages\\sklearn\\svm\\base.py:193: FutureWarning: The default value of gamma will change from 'auto' to 'scale' in version 0.22 to account better for unscaled features. Set gamma explicitly to 'auto' or 'scale' to avoid this warning.\n",
      "  \"avoid this warning.\", FutureWarning)\n",
      "d:\\python3.6.0\\lib\\site-packages\\sklearn\\svm\\base.py:193: FutureWarning: The default value of gamma will change from 'auto' to 'scale' in version 0.22 to account better for unscaled features. Set gamma explicitly to 'auto' or 'scale' to avoid this warning.\n",
      "  \"avoid this warning.\", FutureWarning)\n",
      "d:\\python3.6.0\\lib\\site-packages\\sklearn\\svm\\base.py:193: FutureWarning: The default value of gamma will change from 'auto' to 'scale' in version 0.22 to account better for unscaled features. Set gamma explicitly to 'auto' or 'scale' to avoid this warning.\n",
      "  \"avoid this warning.\", FutureWarning)\n",
      "d:\\python3.6.0\\lib\\site-packages\\sklearn\\svm\\base.py:193: FutureWarning: The default value of gamma will change from 'auto' to 'scale' in version 0.22 to account better for unscaled features. Set gamma explicitly to 'auto' or 'scale' to avoid this warning.\n",
      "  \"avoid this warning.\", FutureWarning)\n"
     ]
    },
    {
     "name": "stderr",
     "output_type": "stream",
     "text": [
      "d:\\python3.6.0\\lib\\site-packages\\sklearn\\svm\\base.py:193: FutureWarning: The default value of gamma will change from 'auto' to 'scale' in version 0.22 to account better for unscaled features. Set gamma explicitly to 'auto' or 'scale' to avoid this warning.\n",
      "  \"avoid this warning.\", FutureWarning)\n",
      "d:\\python3.6.0\\lib\\site-packages\\sklearn\\svm\\base.py:193: FutureWarning: The default value of gamma will change from 'auto' to 'scale' in version 0.22 to account better for unscaled features. Set gamma explicitly to 'auto' or 'scale' to avoid this warning.\n",
      "  \"avoid this warning.\", FutureWarning)\n",
      "d:\\python3.6.0\\lib\\site-packages\\sklearn\\svm\\base.py:193: FutureWarning: The default value of gamma will change from 'auto' to 'scale' in version 0.22 to account better for unscaled features. Set gamma explicitly to 'auto' or 'scale' to avoid this warning.\n",
      "  \"avoid this warning.\", FutureWarning)\n"
     ]
    },
    {
     "name": "stdout",
     "output_type": "stream",
     "text": [
      "SVC(C=2.200000000000001, cache_size=200, class_weight=None, coef0=0.0,\n",
      "    decision_function_shape='ovr', degree=3, gamma='auto_deprecated',\n",
      "    kernel='linear', max_iter=-1, probability=False, random_state=None,\n",
      "    shrinking=True, tol=0.001, verbose=False)\n"
     ]
    },
    {
     "name": "stderr",
     "output_type": "stream",
     "text": [
      "d:\\python3.6.0\\lib\\site-packages\\sklearn\\svm\\base.py:193: FutureWarning: The default value of gamma will change from 'auto' to 'scale' in version 0.22 to account better for unscaled features. Set gamma explicitly to 'auto' or 'scale' to avoid this warning.\n",
      "  \"avoid this warning.\", FutureWarning)\n"
     ]
    }
   ],
   "source": [
    "import numpy as np\n",
    "s = np.arange(1.0, 2.5, 0.1)\n",
    "\n",
    "parameters={'kernel':('rbf', 'linear', 'poly'), 'C':s}\n",
    "svr = SVC()\n",
    "grid = GridSearchCV(svr, parameters)\n",
    "grid.fit(X_train, y_train)\n",
    "\n",
    "#print('网格搜索-度量记录：',  grid.cv_results_)      # 包含每次训练的相关信息\n",
    "#print('网格搜索-最佳度量值:', grid.best_score_)      # 获取最佳度量值\n",
    "#print('网格搜索-最佳参数：',  grid.best_params_)     # 获取最佳度量值时的代定参数的值。是一个字典\n",
    "print(grid.best_estimator_)"
   ]
  },
  {
   "cell_type": "code",
   "execution_count": 24,
   "metadata": {
    "hidden": true
   },
   "outputs": [
    {
     "name": "stdout",
     "output_type": "stream",
     "text": [
      "[0 1 1 1 1 1 0 1 1 1 1 1 0 1 1 0 1 0 1 1 1 0 1 1 1 1 1 1 1 1 1 1 1 1 1 1 0\n",
      " 1 1 1 1 1 1 1 1 1 1 1 1 1 1 0 1 1 1 0 1 1 1 1 1 1 0 1 0 0 1 0 1 1 1 0 1 0\n",
      " 1 1 1 0 1 1 1 1 0 1 1 1 1 1 1 1 1 0 0 1 1 1 1 1 1 1 1 1 1 1 0 1 1 1 0 0 1\n",
      " 1 1 0 1 1 1 1 1 1 1 1 1 1 1 1 1 0 1 1 1 1 1 1 1 1 1 1 1 1 1 1 1 1 1 1 1 1\n",
      " 0 1 1 1 1 1 1 0 1 1 1 1 0 1 1 0 1 0 0 1 1 1 0 1 1 1 0 1 0 1 1 1 0 1 1 1 0\n",
      " 0 1 1 1 1 0 1 1 1 1 1 1 1 1 1 0 1 0 1 1 0 1 0 1 1 1 1 1 1 1 1 1 1 1 1 1]\n",
      "Accuracy of SVC Classifier(Train): 0.85\n",
      "Accuracy of SVC Classifier(Test): 0.8506787330316742\n"
     ]
    }
   ],
   "source": [
    "svc = SVC(C=2.2, cache_size=200, class_weight=None, coef0=0.0,\n",
    "        decision_function_shape='ovr', degree=3, gamma='auto_deprecated',\n",
    "        kernel='linear', max_iter=-1, probability=False, random_state=None,\n",
    "        shrinking=True, tol=0.001, verbose=False)\n",
    "\n",
    "svc.fit(X_train, y_train)\n",
    "\n",
    "svc_y_predict = svc.predict(X_test)\n",
    "print(svc_y_predict)\n",
    "\n",
    "train_svc_y_score = svc.score(X_train, y_train)\n",
    "test_svc_y_score = svc.score(X_test, y_test)\n",
    "\n",
    "print(\"Accuracy of SVC Classifier(Train): {score}\".format(score=train_svc_y_score))\n",
    "print(\"Accuracy of SVC Classifier(Test): {score}\".format(score=test_svc_y_score))"
   ]
  },
  {
   "cell_type": "code",
   "execution_count": 25,
   "metadata": {
    "hidden": true
   },
   "outputs": [
    {
     "data": {
      "text/plain": [
       "1    180\n",
       "0     41\n",
       "dtype: int64"
      ]
     },
     "execution_count": 25,
     "metadata": {},
     "output_type": "execute_result"
    }
   ],
   "source": [
    "pd.Series(svc_y_predict).value_counts()"
   ]
  },
  {
   "cell_type": "code",
   "execution_count": 26,
   "metadata": {
    "hidden": true
   },
   "outputs": [
    {
     "name": "stdout",
     "output_type": "stream",
     "text": [
      "              precision    recall  f1-score   support\n",
      "\n",
      "       death       0.76      0.57      0.65        54\n",
      "   non_death       0.87      0.94      0.90       167\n",
      "\n",
      "    accuracy                           0.85       221\n",
      "   macro avg       0.81      0.76      0.78       221\n",
      "weighted avg       0.84      0.85      0.84       221\n",
      "\n"
     ]
    }
   ],
   "source": [
    "print(classification_report(y_test, svc_y_predict, target_names=['death', 'non_death']))  # 精确度/召回率/F1值"
   ]
  },
  {
   "cell_type": "code",
   "execution_count": 27,
   "metadata": {
    "hidden": true
   },
   "outputs": [
    {
     "name": "stdout",
     "output_type": "stream",
     "text": [
      "SVC Classifier: \n",
      "ACCURACY         : 0.8506787330316742\n",
      "AUC              : 0.7570969172765579\n",
      "RECALL           : 0.9401197604790419\n",
      "PRECISION        : 0.8722222222222222\n",
      "BALANCED_ACCURACY: 0.757096917276558\n"
     ]
    }
   ],
   "source": [
    "print(\"SVC Classifier: \")\n",
    "print(\"ACCURACY         : {score}\".format(score=accuracy_score(y_test, svc_y_predict)))           # 准确率\n",
    "print(\"AUC              : {score}\".format(score=roc_auc_score(y_test, svc_y_predict)))            # AUC\n",
    "print(\"RECALL           : {score}\".format(score=recall_score(y_test, svc_y_predict)))             # 召回率\n",
    "print(\"PRECISION        : {score}\".format(score=precision_score(y_test, svc_y_predict)))          # 正确率\n",
    "print(\"BALANCED_ACCURACY: {score}\".format(score=balanced_accuracy_score(y_test, svc_y_predict)))  # 平衡精度"
   ]
  },
  {
   "cell_type": "code",
   "execution_count": 28,
   "metadata": {
    "hidden": true
   },
   "outputs": [
    {
     "name": "stdout",
     "output_type": "stream",
     "text": [
      "0.8100993822186409\n",
      "0.8318542798413693\n",
      "0.9276949125211644\n",
      "0.829017873879654\n",
      "0.7207086953798857\n"
     ]
    }
   ],
   "source": [
    "# 五折交叉验证\n",
    "for my_score in ['accuracy', 'roc_auc', 'recall', 'precision', 'balanced_accuracy']:\n",
    "        print(cross_val_score(svc, X, y, cv=5, scoring=my_score).mean())"
   ]
  },
  {
   "cell_type": "markdown",
   "metadata": {
    "heading_collapsed": true
   },
   "source": [
    "## step5:DecisionTreeClassifier"
   ]
  },
  {
   "cell_type": "code",
   "execution_count": 29,
   "metadata": {
    "hidden": true
   },
   "outputs": [
    {
     "name": "stdout",
     "output_type": "stream",
     "text": [
      "[1 1 1 1 0 1 0 1 1 1 1 1 0 0 1 1 1 0 1 1 1 0 1 1 1 1 1 1 1 1 1 1 1 0 1 1 1\n",
      " 1 1 0 1 1 1 0 1 1 0 1 1 1 0 1 1 0 0 0 1 1 1 1 1 1 0 0 0 1 0 0 1 1 1 0 1 0\n",
      " 1 1 1 1 1 1 1 1 0 1 0 1 1 1 1 1 1 0 0 1 1 1 1 1 1 1 1 1 1 0 0 1 1 1 0 0 0\n",
      " 1 1 1 1 1 1 1 1 1 1 1 1 1 1 0 1 0 1 1 1 1 1 1 1 1 1 1 0 1 1 1 1 1 0 1 1 1\n",
      " 0 1 1 1 1 1 0 1 1 1 1 1 1 1 1 0 1 0 0 1 1 1 0 0 1 1 0 1 0 1 1 1 0 1 1 1 1\n",
      " 0 1 1 0 1 0 1 0 0 1 1 1 1 1 1 0 0 0 1 0 0 1 0 1 1 0 1 0 1 1 1 1 1 1 1 0]\n",
      "Accuracy of DecisionTreeClassifier: 0.8461538461538461\n"
     ]
    }
   ],
   "source": [
    "from sklearn.tree import DecisionTreeClassifier\n",
    "\n",
    "tree = DecisionTreeClassifier()\n",
    "\n",
    "tree.fit(X_train, y_train)\n",
    "\n",
    "tree_y_predict = tree.predict(X_test)\n",
    "print(tree_y_predict)\n",
    "\n",
    "tree_y_score = tree.score(X_test, y_test)\n",
    "print(\"Accuracy of DecisionTreeClassifier: {score}\".format(score=tree_y_score))"
   ]
  },
  {
   "cell_type": "code",
   "execution_count": 30,
   "metadata": {
    "hidden": true
   },
   "outputs": [
    {
     "name": "stdout",
     "output_type": "stream",
     "text": [
      "网格搜索-最佳度量值: 0.8113636363636364\n",
      "DecisionTreeClassifier(class_weight=None, criterion='gini', max_depth=None,\n",
      "                       max_features=None, max_leaf_nodes=None,\n",
      "                       min_impurity_decrease=0, min_impurity_split=None,\n",
      "                       min_samples_leaf=4, min_samples_split=2,\n",
      "                       min_weight_fraction_leaf=0.0, presort=False,\n",
      "                       random_state=None, splitter='best')\n"
     ]
    }
   ],
   "source": [
    "# 用GridSearchCV寻找最优参数（字典）\n",
    "param = {'criterion':['gini'], 'min_samples_leaf':[1,2,3,4], 'min_impurity_decrease':[0,0.1,0.2,0.3]}\n",
    "grid = GridSearchCV(DecisionTreeClassifier(), param_grid=param, cv=5)\n",
    "grid.fit(X_train, y_train)\n",
    "\n",
    "#print('网格搜索-度量记录：',  grid.cv_results_)      # 包含每次训练的相关信息\n",
    "print('网格搜索-最佳度量值:', grid.best_score_)      # 获取最佳度量值\n",
    "#print('网格搜索-最佳参数：',  grid.best_params_)     # 获取最佳度量值时的代定参数的值。是一个字典\n",
    "print(grid.best_estimator_)"
   ]
  },
  {
   "cell_type": "code",
   "execution_count": 36,
   "metadata": {
    "hidden": true
   },
   "outputs": [
    {
     "name": "stdout",
     "output_type": "stream",
     "text": [
      "[1 1 1 1 0 1 0 1 1 1 1 1 0 0 1 1 1 0 1 1 1 0 1 1 1 1 1 1 1 1 0 1 1 0 1 1 1\n",
      " 1 1 0 1 1 1 0 1 1 0 1 0 1 0 0 1 0 0 0 1 1 1 0 1 0 0 0 0 1 0 0 1 1 1 0 1 0\n",
      " 1 0 1 0 1 1 1 0 0 1 0 1 1 1 1 1 1 0 0 1 1 1 1 1 1 1 1 0 1 0 0 1 1 1 0 1 0\n",
      " 1 1 1 1 1 1 1 1 1 1 1 1 1 1 0 1 0 1 1 1 1 1 1 1 1 1 1 0 1 1 1 1 1 1 1 1 1\n",
      " 0 1 1 1 1 1 0 1 1 1 1 1 1 1 1 0 1 0 0 1 1 1 0 1 1 1 0 1 0 1 1 1 0 1 1 1 1\n",
      " 0 1 1 0 1 0 1 0 0 1 1 1 1 1 1 0 0 0 0 0 0 1 0 1 1 0 1 0 1 1 1 1 1 1 1 1]\n",
      "Accuracy of DecisionTreeClassifier(Train): 1.0\n",
      "Accuracy of DecisionTreeClassifier(Test): 0.8190045248868778\n"
     ]
    }
   ],
   "source": [
    "tree = DecisionTreeClassifier(class_weight=None, criterion='gini', max_depth=None,\n",
    "                       max_features=None, max_leaf_nodes=None,\n",
    "                       min_impurity_decrease=0, min_impurity_split=None,\n",
    "                       min_samples_leaf=1, min_samples_split=2,\n",
    "                       min_weight_fraction_leaf=0.0, presort=False,\n",
    "                       random_state=10, splitter='best')\n",
    "\n",
    "tree.fit(X_train, y_train)\n",
    "\n",
    "tree_y_predict = tree.predict(X_test)\n",
    "print(tree_y_predict)\n",
    "\n",
    "train_tree_y_score = tree.score(X_train, y_train)\n",
    "test_tree_y_score = tree.score(X_test, y_test)\n",
    "print(\"Accuracy of DecisionTreeClassifier(Train): {score}\".format(score=train_tree_y_score))\n",
    "print(\"Accuracy of DecisionTreeClassifier(Test): {score}\".format(score=test_tree_y_score))"
   ]
  },
  {
   "cell_type": "code",
   "execution_count": 37,
   "metadata": {
    "hidden": true
   },
   "outputs": [
    {
     "data": {
      "text/plain": [
       "1    157\n",
       "0     64\n",
       "dtype: int64"
      ]
     },
     "execution_count": 37,
     "metadata": {},
     "output_type": "execute_result"
    }
   ],
   "source": [
    "pd.Series(tree_y_predict).value_counts()"
   ]
  },
  {
   "cell_type": "code",
   "execution_count": 38,
   "metadata": {
    "hidden": true,
    "scrolled": true
   },
   "outputs": [
    {
     "name": "stdout",
     "output_type": "stream",
     "text": [
      "DecisionTreeClassifier: \n",
      "ACCURACY         : 0.8506787330316742\n",
      "AUC              : 0.7570969172765579\n",
      "RECALL           : 0.9401197604790419\n",
      "PRECISION        : 0.8722222222222222\n",
      "BALANCED_ACCURACY: 0.757096917276558\n"
     ]
    }
   ],
   "source": [
    "print(\"DecisionTreeClassifier: \")\n",
    "print(\"ACCURACY         : {score}\".format(score=accuracy_score(y_test, svc_y_predict)))           # 准确率\n",
    "print(\"AUC              : {score}\".format(score=roc_auc_score(y_test, svc_y_predict)))            # AUC\n",
    "print(\"RECALL           : {score}\".format(score=recall_score(y_test, svc_y_predict)))             # 召回率\n",
    "print(\"PRECISION        : {score}\".format(score=precision_score(y_test, svc_y_predict)))          # 正确率\n",
    "print(\"BALANCED_ACCURACY: {score}\".format(score=balanced_accuracy_score(y_test, svc_y_predict)))  # 平衡精度"
   ]
  },
  {
   "cell_type": "code",
   "execution_count": 39,
   "metadata": {
    "hidden": true
   },
   "outputs": [
    {
     "name": "stdout",
     "output_type": "stream",
     "text": [
      "0.7782846753032087\n",
      "0.7360977488433644\n",
      "0.833741836652423\n",
      "0.8543686837266531\n",
      "0.7360977488433645\n"
     ]
    }
   ],
   "source": [
    "# 五折交叉验证\n",
    "for my_score in ['accuracy', 'roc_auc', 'recall', 'precision', 'balanced_accuracy']:\n",
    "        print(cross_val_score(tree, X, y, cv=5, scoring=my_score).mean())"
   ]
  },
  {
   "cell_type": "code",
   "execution_count": 40,
   "metadata": {
    "hidden": true
   },
   "outputs": [
    {
     "name": "stderr",
     "output_type": "stream",
     "text": [
      "No handles with labels found to put in legend.\n"
     ]
    },
    {
     "data": {
      "image/png": "[encoded data removed]",
      "text/plain": [
       "<Figure size 432x288 with 1 Axes>"
      ]
     },
     "metadata": {
      "needs_background": "light"
     },
     "output_type": "display_data"
    }
   ],
   "source": [
    "# 画图展示训练结果\n",
    "fig = plt.figure()\n",
    "ax = fig.add_subplot(111)\n",
    "ax.scatter(list(range(len(X_test))),y_test,marker='*')\n",
    "ax.scatter(list(range(len(X_test))),tree_y_predict,marker='o')  # 不管是画散点图还是折现图，都会被挡住\n",
    "plt.legend()\n",
    "plt.show()"
   ]
  },
  {
   "cell_type": "markdown",
   "metadata": {
    "heading_collapsed": true
   },
   "source": [
    "## step6:RandomForestClassifier"
   ]
  },
  {
   "cell_type": "code",
   "execution_count": 41,
   "metadata": {
    "hidden": true
   },
   "outputs": [
    {
     "name": "stdout",
     "output_type": "stream",
     "text": [
      "0.7579545454545454\n",
      "AUC Score (Train): 0.993403\n",
      "[1 1 1 1 0 1 0 1 1 1 1 1 0 1 1 0 1 0 1 1 1 0 1 1 1 1 1 1 1 1 1 1 1 0 1 1 1\n",
      " 1 1 0 1 1 1 1 1 1 0 1 0 1 1 0 1 1 0 0 1 1 1 1 1 1 0 1 0 0 0 0 1 1 1 0 1 0\n",
      " 1 1 1 0 1 1 1 0 0 1 0 1 1 1 1 1 1 0 0 1 1 1 1 1 1 1 1 1 1 1 0 1 1 1 0 0 1\n",
      " 1 1 0 1 1 1 1 1 1 1 1 1 1 1 1 0 0 1 1 1 1 0 1 1 1 1 1 1 1 1 1 1 1 1 1 1 1\n",
      " 1 1 1 1 1 1 1 1 0 1 1 1 0 1 1 1 1 0 0 1 1 1 0 0 1 1 0 1 0 1 1 1 0 1 1 1 0\n",
      " 0 1 1 1 0 0 1 1 0 1 1 1 1 1 1 0 1 0 1 0 1 0 0 1 1 0 1 1 1 1 1 1 1 1 1 1]\n",
      "Accuracy of RandomForestClassifier(Train): 0.9954545454545455\n",
      "Accuracy of RandomForestClassifier(Test): 0.8959276018099548\n"
     ]
    },
    {
     "name": "stderr",
     "output_type": "stream",
     "text": [
      "d:\\python3.6.0\\lib\\site-packages\\sklearn\\ensemble\\forest.py:245: FutureWarning: The default value of n_estimators will change from 10 in version 0.20 to 100 in 0.22.\n",
      "  \"10 in version 0.20 to 100 in 0.22.\", FutureWarning)\n",
      "d:\\python3.6.0\\lib\\site-packages\\sklearn\\ensemble\\forest.py:460: UserWarning: Some inputs do not have OOB scores. This probably means too few trees were used to compute any reliable oob estimates.\n",
      "  warn(\"Some inputs do not have OOB scores. \"\n",
      "d:\\python3.6.0\\lib\\site-packages\\sklearn\\ensemble\\forest.py:465: RuntimeWarning: invalid value encountered in true_divide\n",
      "  predictions[k].sum(axis=1)[:, np.newaxis])\n"
     ]
    }
   ],
   "source": [
    "from sklearn.ensemble import RandomForestClassifier\n",
    "\n",
    "rf = RandomForestClassifier(oob_score=True, random_state=10)\n",
    "rf.fit(X_train, y_train)\n",
    "# 随机决策树生成过程采用Boostrap，在一棵树的生成过程并不会使用所有样本，未使用的样本即Out_of_bag袋外样本,\n",
    "# 通过袋外样本，可以评估这个树的准确度，其他子树叶按这个原理评估，最后取平均值，即是随机森林算法的性能；\n",
    "print(rf.oob_score_)\n",
    "#y_predprob = rf.predict_proba(X_train)[:,1]\n",
    "y_pred = rf.predict(X_train)\n",
    "print(\"AUC Score (Train): %f\" % roc_auc_score(y_train, y_pred))\n",
    "\n",
    "rf_y_predict = rf.predict(X_test)\n",
    "print(rf_y_predict)  \n",
    "\n",
    "train_rf_y_score = rf.score(X_train, y_train)\n",
    "test_rf_y_score = rf.score(X_test, y_test)\n",
    "print(\"Accuracy of RandomForestClassifier(Train): {score}\".format(score=train_rf_y_score)) \n",
    "print(\"Accuracy of RandomForestClassifier(Test): {score}\".format(score=test_rf_y_score))"
   ]
  },
  {
   "cell_type": "code",
   "execution_count": 42,
   "metadata": {
    "hidden": true
   },
   "outputs": [
    {
     "data": {
      "text/plain": [
       "1    168\n",
       "0     53\n",
       "dtype: int64"
      ]
     },
     "execution_count": 42,
     "metadata": {},
     "output_type": "execute_result"
    }
   ],
   "source": [
    "pd.Series(rf_y_predict).value_counts()"
   ]
  },
  {
   "cell_type": "code",
   "execution_count": 43,
   "metadata": {
    "hidden": true
   },
   "outputs": [
    {
     "name": "stdout",
     "output_type": "stream",
     "text": [
      "RandomForestClassifier: \n",
      "ACCURACY         : 0.8959276018099548\n",
      "AUC              : 0.8559547571523619\n",
      "RECALL           : 0.9341317365269461\n",
      "PRECISION        : 0.9285714285714286\n",
      "BALANCED_ACCURACY: 0.855954757152362\n"
     ]
    }
   ],
   "source": [
    "print(\"RandomForestClassifier: \")\n",
    "print(\"ACCURACY         : {score}\".format(score=accuracy_score(y_test, rf_y_predict)))           # 准确率\n",
    "print(\"AUC              : {score}\".format(score=roc_auc_score(y_test, rf_y_predict)))            # AUC (在偏态的样本中更稳健)\n",
    "print(\"RECALL           : {score}\".format(score=recall_score(y_test, rf_y_predict)))             # 召回率\n",
    "print(\"PRECISION        : {score}\".format(score=precision_score(y_test, rf_y_predict)))          # 正确率\n",
    "print(\"BALANCED_ACCURACY: {score}\".format(score=balanced_accuracy_score(y_test, rf_y_predict)))  # 平衡精度"
   ]
  },
  {
   "cell_type": "code",
   "execution_count": 50,
   "metadata": {
    "hidden": true
   },
   "outputs": [
    {
     "name": "stdout",
     "output_type": "stream",
     "text": [
      "0.898100  with:   {'n_estimators': 90}\n",
      "0.898410  with:   {'n_estimators': 91}\n",
      "0.898132  with:   {'n_estimators': 92}\n",
      "0.899001  with:   {'n_estimators': 93}\n",
      "0.898346  with:   {'n_estimators': 94}\n",
      "0.897759  with:   {'n_estimators': 95}\n",
      "0.897695  with:   {'n_estimators': 96}\n",
      "0.897755  with:   {'n_estimators': 97}\n",
      "0.897657  with:   {'n_estimators': 98}\n",
      "0.897533  with:   {'n_estimators': 99}\n"
     ]
    },
    {
     "data": {
      "text/plain": [
       "({'n_estimators': 93}, 0.8990008512360506)"
      ]
     },
     "execution_count": 50,
     "metadata": {},
     "output_type": "execute_result"
    }
   ],
   "source": [
    "# 随机森林里决策树的数目 n_estimators\n",
    "param_test1= {'n_estimators': range(90, 100, 1)}\n",
    "grid= GridSearchCV(estimator = RandomForestClassifier(min_samples_split=100, \n",
    "                                                      min_samples_leaf=20, max_depth=8, max_features='sqrt', random_state=10),\n",
    "                   param_grid = param_test1, scoring='roc_auc', cv=5)\n",
    "\n",
    "grid.fit(X_train, y_train)\n",
    "means = grid.cv_results_['mean_test_score']\n",
    "params = grid.cv_results_['params']\n",
    "for mean,param in zip(means, params):\n",
    "    print(\"%f  with:   %r\" % (mean, param))\n",
    "\n",
    "grid.best_params_, grid.best_score_"
   ]
  },
  {
   "cell_type": "code",
   "execution_count": 53,
   "metadata": {
    "hidden": true
   },
   "outputs": [
    {
     "name": "stdout",
     "output_type": "stream",
     "text": [
      "0.898398  with:   {'max_depth': 3, 'min_samples_split': 48}\n",
      "0.898615  with:   {'max_depth': 3, 'min_samples_split': 49}\n",
      "0.898803  with:   {'max_depth': 3, 'min_samples_split': 50}\n",
      "0.898712  with:   {'max_depth': 3, 'min_samples_split': 51}\n",
      "0.899183  with:   {'max_depth': 3, 'min_samples_split': 52}\n",
      "0.899123  with:   {'max_depth': 3, 'min_samples_split': 53}\n",
      "0.899304  with:   {'max_depth': 3, 'min_samples_split': 54}\n",
      "0.899398  with:   {'max_depth': 4, 'min_samples_split': 48}\n",
      "0.899155  with:   {'max_depth': 4, 'min_samples_split': 49}\n",
      "0.898975  with:   {'max_depth': 4, 'min_samples_split': 50}\n",
      "0.899004  with:   {'max_depth': 4, 'min_samples_split': 51}\n",
      "0.899596  with:   {'max_depth': 4, 'min_samples_split': 52}\n",
      "0.899505  with:   {'max_depth': 4, 'min_samples_split': 53}\n",
      "0.899804  with:   {'max_depth': 4, 'min_samples_split': 54}\n",
      "0.904188  with:   {'max_depth': 5, 'min_samples_split': 48}\n",
      "0.904594  with:   {'max_depth': 5, 'min_samples_split': 49}\n",
      "0.904689  with:   {'max_depth': 5, 'min_samples_split': 50}\n",
      "0.904821  with:   {'max_depth': 5, 'min_samples_split': 51}\n",
      "0.905841  with:   {'max_depth': 5, 'min_samples_split': 52}\n",
      "0.905469  with:   {'max_depth': 5, 'min_samples_split': 53}\n",
      "0.905031  with:   {'max_depth': 5, 'min_samples_split': 54}\n",
      "0.903925  with:   {'max_depth': 6, 'min_samples_split': 48}\n",
      "0.903330  with:   {'max_depth': 6, 'min_samples_split': 49}\n",
      "0.902994  with:   {'max_depth': 6, 'min_samples_split': 50}\n",
      "0.903433  with:   {'max_depth': 6, 'min_samples_split': 51}\n",
      "0.903739  with:   {'max_depth': 6, 'min_samples_split': 52}\n",
      "0.903495  with:   {'max_depth': 6, 'min_samples_split': 53}\n",
      "0.903026  with:   {'max_depth': 6, 'min_samples_split': 54}\n",
      "0.904725  with:   {'max_depth': 7, 'min_samples_split': 48}\n",
      "0.903457  with:   {'max_depth': 7, 'min_samples_split': 49}\n",
      "0.904082  with:   {'max_depth': 7, 'min_samples_split': 50}\n",
      "0.904674  with:   {'max_depth': 7, 'min_samples_split': 51}\n",
      "0.905100  with:   {'max_depth': 7, 'min_samples_split': 52}\n",
      "0.904734  with:   {'max_depth': 7, 'min_samples_split': 53}\n",
      "0.903556  with:   {'max_depth': 7, 'min_samples_split': 54}\n"
     ]
    },
    {
     "data": {
      "text/plain": [
       "({'max_depth': 5, 'min_samples_split': 52}, 0.9058409672553884)"
      ]
     },
     "execution_count": 53,
     "metadata": {},
     "output_type": "execute_result"
    }
   ],
   "source": [
    "# 决策树最大深度 max_depth、内部节点再划分所需最小样本数 min_samples_split\n",
    "param_test2= {'max_depth': range(3, 8, 1), 'min_samples_split': range(48, 55, 1)}\n",
    "grid2= GridSearchCV(estimator = RandomForestClassifier(n_estimators= 93,\n",
    "                                 min_samples_leaf=20, max_features='sqrt', oob_score=True, random_state=10),\n",
    "                    param_grid = param_test2, scoring='roc_auc', iid=False, cv=5)\n",
    "\n",
    "grid2.fit(X_train, y_train)\n",
    "means = grid2.cv_results_['mean_test_score']\n",
    "params = grid2.cv_results_['params']\n",
    "for mean,param in zip(means, params):\n",
    "    print(\"%f  with:   %r\" % (mean, param))\n",
    "\n",
    "grid2.best_params_, grid2.best_score_"
   ]
  },
  {
   "cell_type": "code",
   "execution_count": 54,
   "metadata": {
    "hidden": true
   },
   "outputs": [
    {
     "name": "stdout",
     "output_type": "stream",
     "text": [
      "0.8420454545454545\n"
     ]
    }
   ],
   "source": [
    "# 在三个最优参数上，查看模型效果\n",
    "rf1= RandomForestClassifier(n_estimators= 93, max_depth=5, min_samples_split=52,\n",
    "                                 min_samples_leaf=20, max_features='sqrt', oob_score=True, random_state=10)\n",
    "\n",
    "rf1.fit(X_train, y_train)\n",
    "print(rf1.oob_score_)   # 此时袋外分数有一定提高,即模型泛化能力增强"
   ]
  },
  {
   "cell_type": "code",
   "execution_count": 55,
   "metadata": {
    "hidden": true,
    "scrolled": true
   },
   "outputs": [
    {
     "name": "stdout",
     "output_type": "stream",
     "text": [
      "0.900645  with:   {'min_samples_leaf': 5, 'min_samples_split': 48}\n",
      "0.899838  with:   {'min_samples_leaf': 5, 'min_samples_split': 49}\n",
      "0.900425  with:   {'min_samples_leaf': 5, 'min_samples_split': 50}\n",
      "0.900676  with:   {'min_samples_leaf': 5, 'min_samples_split': 51}\n",
      "0.900995  with:   {'min_samples_leaf': 5, 'min_samples_split': 52}\n",
      "0.900351  with:   {'min_samples_leaf': 5, 'min_samples_split': 53}\n",
      "0.900381  with:   {'min_samples_leaf': 5, 'min_samples_split': 54}\n",
      "0.900581  with:   {'min_samples_leaf': 6, 'min_samples_split': 48}\n",
      "0.899779  with:   {'min_samples_leaf': 6, 'min_samples_split': 49}\n",
      "0.900920  with:   {'min_samples_leaf': 6, 'min_samples_split': 50}\n",
      "0.900121  with:   {'min_samples_leaf': 6, 'min_samples_split': 51}\n",
      "0.900653  with:   {'min_samples_leaf': 6, 'min_samples_split': 52}\n",
      "0.900376  with:   {'min_samples_leaf': 6, 'min_samples_split': 53}\n",
      "0.900628  with:   {'min_samples_leaf': 6, 'min_samples_split': 54}\n",
      "0.901225  with:   {'min_samples_leaf': 7, 'min_samples_split': 48}\n",
      "0.901107  with:   {'min_samples_leaf': 7, 'min_samples_split': 49}\n",
      "0.902126  with:   {'min_samples_leaf': 7, 'min_samples_split': 50}\n",
      "0.902388  with:   {'min_samples_leaf': 7, 'min_samples_split': 51}\n",
      "0.902266  with:   {'min_samples_leaf': 7, 'min_samples_split': 52}\n",
      "0.902579  with:   {'min_samples_leaf': 7, 'min_samples_split': 53}\n",
      "0.901580  with:   {'min_samples_leaf': 7, 'min_samples_split': 54}\n",
      "0.901603  with:   {'min_samples_leaf': 8, 'min_samples_split': 48}\n",
      "0.900805  with:   {'min_samples_leaf': 8, 'min_samples_split': 49}\n",
      "0.901978  with:   {'min_samples_leaf': 8, 'min_samples_split': 50}\n",
      "0.901640  with:   {'min_samples_leaf': 8, 'min_samples_split': 51}\n",
      "0.901744  with:   {'min_samples_leaf': 8, 'min_samples_split': 52}\n",
      "0.901898  with:   {'min_samples_leaf': 8, 'min_samples_split': 53}\n",
      "0.901653  with:   {'min_samples_leaf': 8, 'min_samples_split': 54}\n",
      "0.901081  with:   {'min_samples_leaf': 9, 'min_samples_split': 48}\n",
      "0.900650  with:   {'min_samples_leaf': 9, 'min_samples_split': 49}\n",
      "0.901610  with:   {'min_samples_leaf': 9, 'min_samples_split': 50}\n",
      "0.901521  with:   {'min_samples_leaf': 9, 'min_samples_split': 51}\n",
      "0.902176  with:   {'min_samples_leaf': 9, 'min_samples_split': 52}\n",
      "0.901494  with:   {'min_samples_leaf': 9, 'min_samples_split': 53}\n",
      "0.900755  with:   {'min_samples_leaf': 9, 'min_samples_split': 54}\n",
      "0.901923  with:   {'min_samples_leaf': 10, 'min_samples_split': 48}\n",
      "0.902016  with:   {'min_samples_leaf': 10, 'min_samples_split': 49}\n",
      "0.902237  with:   {'min_samples_leaf': 10, 'min_samples_split': 50}\n",
      "0.901957  with:   {'min_samples_leaf': 10, 'min_samples_split': 51}\n",
      "0.902238  with:   {'min_samples_leaf': 10, 'min_samples_split': 52}\n",
      "0.902019  with:   {'min_samples_leaf': 10, 'min_samples_split': 53}\n",
      "0.902115  with:   {'min_samples_leaf': 10, 'min_samples_split': 54}\n",
      "0.900891  with:   {'min_samples_leaf': 11, 'min_samples_split': 48}\n",
      "0.901078  with:   {'min_samples_leaf': 11, 'min_samples_split': 49}\n",
      "0.901547  with:   {'min_samples_leaf': 11, 'min_samples_split': 50}\n",
      "0.901989  with:   {'min_samples_leaf': 11, 'min_samples_split': 51}\n",
      "0.901771  with:   {'min_samples_leaf': 11, 'min_samples_split': 52}\n",
      "0.901931  with:   {'min_samples_leaf': 11, 'min_samples_split': 53}\n",
      "0.901523  with:   {'min_samples_leaf': 11, 'min_samples_split': 54}\n",
      "0.901661  with:   {'min_samples_leaf': 12, 'min_samples_split': 48}\n",
      "0.901601  with:   {'min_samples_leaf': 12, 'min_samples_split': 49}\n",
      "0.902102  with:   {'min_samples_leaf': 12, 'min_samples_split': 50}\n",
      "0.902918  with:   {'min_samples_leaf': 12, 'min_samples_split': 51}\n",
      "0.902826  with:   {'min_samples_leaf': 12, 'min_samples_split': 52}\n",
      "0.902369  with:   {'min_samples_leaf': 12, 'min_samples_split': 53}\n",
      "0.901928  with:   {'min_samples_leaf': 12, 'min_samples_split': 54}\n",
      "0.902308  with:   {'min_samples_leaf': 13, 'min_samples_split': 48}\n",
      "0.902121  with:   {'min_samples_leaf': 13, 'min_samples_split': 49}\n",
      "0.901575  with:   {'min_samples_leaf': 13, 'min_samples_split': 50}\n",
      "0.902512  with:   {'min_samples_leaf': 13, 'min_samples_split': 51}\n",
      "0.902144  with:   {'min_samples_leaf': 13, 'min_samples_split': 52}\n",
      "0.902829  with:   {'min_samples_leaf': 13, 'min_samples_split': 53}\n",
      "0.901922  with:   {'min_samples_leaf': 13, 'min_samples_split': 54}\n",
      "0.903360  with:   {'min_samples_leaf': 14, 'min_samples_split': 48}\n",
      "0.903360  with:   {'min_samples_leaf': 14, 'min_samples_split': 49}\n",
      "0.902436  with:   {'min_samples_leaf': 14, 'min_samples_split': 50}\n",
      "0.903028  with:   {'min_samples_leaf': 14, 'min_samples_split': 51}\n",
      "0.903402  with:   {'min_samples_leaf': 14, 'min_samples_split': 52}\n",
      "0.903621  with:   {'min_samples_leaf': 14, 'min_samples_split': 53}\n",
      "0.902749  with:   {'min_samples_leaf': 14, 'min_samples_split': 54}\n"
     ]
    },
    {
     "data": {
      "text/plain": [
       "({'min_samples_leaf': 14, 'min_samples_split': 53}, 0.9036213204884932)"
      ]
     },
     "execution_count": 55,
     "metadata": {},
     "output_type": "execute_result"
    }
   ],
   "source": [
    "# 对 内部节点再划分所需最小样本数 min_samples_split 和 叶子节点最少样本数 min_samples_leaf 一起调参\n",
    "param_test3= {'min_samples_split': range(48, 55, 1), 'min_samples_leaf': range(5, 15, 1)}\n",
    "grid3= GridSearchCV(estimator = RandomForestClassifier(n_estimators= 93, max_depth=5,\n",
    "                                                       max_features='sqrt', oob_score=True, random_state=10),\n",
    "                    param_grid = param_test3, scoring='roc_auc', iid=False, cv=5)\n",
    "\n",
    "grid3.fit(X_train, y_train)\n",
    "means = grid3.cv_results_['mean_test_score']\n",
    "params = grid3.cv_results_['params']\n",
    "for mean,param in zip(means, params):\n",
    "    print(\"%f  with:   %r\" % (mean, param))\n",
    "\n",
    "grid3.best_params_, grid3.best_score_"
   ]
  },
  {
   "cell_type": "code",
   "execution_count": 57,
   "metadata": {
    "hidden": true
   },
   "outputs": [
    {
     "name": "stdout",
     "output_type": "stream",
     "text": [
      "0.897348  with:   {'max_features': 5}\n",
      "0.902034  with:   {'max_features': 7}\n",
      "0.896422  with:   {'max_features': 9}\n",
      "0.897112  with:   {'max_features': 11}\n",
      "0.900755  with:   {'max_features': 13}\n",
      "0.897950  with:   {'max_features': 15}\n",
      "0.899647  with:   {'max_features': 17}\n",
      "0.900252  with:   {'max_features': 19}\n"
     ]
    },
    {
     "data": {
      "text/plain": [
       "({'max_features': 7}, 0.902034359947453)"
      ]
     },
     "execution_count": 57,
     "metadata": {},
     "output_type": "execute_result"
    }
   ],
   "source": [
    "# 最大特征数 max_features\n",
    "param_test4= {'max_features': range(5, 20, 2)}\n",
    "grid4= GridSearchCV(estimator = RandomForestClassifier(n_estimators= 93, max_depth=5, min_samples_split=53,\n",
    "                                                       min_samples_leaf=14, oob_score=True, random_state=10),\n",
    "                    param_grid = param_test4, scoring='roc_auc', iid=False, cv=5)\n",
    "\n",
    "grid4.fit(X_train, y_train)\n",
    "means = grid4.cv_results_['mean_test_score']\n",
    "params = grid4.cv_results_['params']\n",
    "for mean,param in zip(means, params):\n",
    "    print(\"%f  with:   %r\" % (mean, param))\n",
    "\n",
    "grid4.best_params_, grid4.best_score_"
   ]
  },
  {
   "cell_type": "code",
   "execution_count": 60,
   "metadata": {
    "hidden": true
   },
   "outputs": [
    {
     "name": "stdout",
     "output_type": "stream",
     "text": [
      "0.8397727272727272\n",
      "AUC Score (Train): 0.814342\n",
      "[1 1 1 1 0 1 0 1 1 1 1 1 0 1 1 0 1 0 1 1 1 0 1 1 1 1 1 1 1 1 1 1 1 1 1 1 1\n",
      " 1 1 0 1 1 1 1 1 1 0 1 1 1 1 0 1 1 0 1 1 1 1 1 1 1 0 1 0 1 0 0 1 1 1 0 1 1\n",
      " 1 1 1 1 1 1 1 1 0 1 1 1 1 1 1 1 1 0 0 1 1 1 1 1 1 1 1 1 1 1 0 1 1 1 0 0 1\n",
      " 1 1 1 1 1 1 1 1 1 1 1 1 1 1 1 0 0 1 1 1 1 1 1 1 1 1 1 1 1 1 1 1 1 1 1 1 1\n",
      " 1 1 1 1 1 1 1 1 1 1 1 1 1 1 1 1 1 0 0 1 1 1 0 1 1 1 0 1 0 1 1 1 0 1 1 1 0\n",
      " 0 1 1 1 0 0 1 1 0 1 1 1 1 1 1 0 1 0 1 1 1 0 0 1 1 0 1 1 1 1 1 1 1 1 1 1]\n",
      "Accuracy of RandomForestClassifier(Train): 0.884090909090909\n",
      "Accuracy of RandomForestClassifier(Test): 0.9140271493212669\n"
     ]
    }
   ],
   "source": [
    "rf = RandomForestClassifier(n_estimators= 93, max_depth=5, min_samples_split=53,\n",
    "                            min_samples_leaf=14, max_features='sqrt', oob_score=True, random_state=10)\n",
    "\n",
    "rf.fit(X_train, y_train)\n",
    "print(rf.oob_score_)\n",
    "\n",
    "y_pred = rf.predict(X_train)\n",
    "print(\"AUC Score (Train): %f\" % roc_auc_score(y_train, y_pred))\n",
    "\n",
    "rf_y_predict = rf.predict(X_test)\n",
    "print(rf_y_predict)  \n",
    "\n",
    "train_rf_y_score = rf.score(X_train, y_train)\n",
    "test_rf_y_score = rf.score(X_test, y_test)\n",
    "print(\"Accuracy of RandomForestClassifier(Train): {score}\".format(score=train_rf_y_score)) \n",
    "print(\"Accuracy of RandomForestClassifier(Test): {score}\".format(score=test_rf_y_score))"
   ]
  },
  {
   "cell_type": "code",
   "execution_count": 61,
   "metadata": {
    "hidden": true
   },
   "outputs": [
    {
     "data": {
      "text/plain": [
       "1    182\n",
       "0     39\n",
       "dtype: int64"
      ]
     },
     "execution_count": 61,
     "metadata": {},
     "output_type": "execute_result"
    }
   ],
   "source": [
    "pd.Series(rf_y_predict).value_counts()"
   ]
  },
  {
   "cell_type": "code",
   "execution_count": 62,
   "metadata": {
    "hidden": true
   },
   "outputs": [
    {
     "name": "stdout",
     "output_type": "stream",
     "text": [
      "RandomForestClassifier: \n",
      "ACCURACY         : 0.9140271493212669\n",
      "AUC              : 0.8366045686404968\n",
      "RECALL           : 0.9880239520958084\n",
      "PRECISION        : 0.9065934065934066\n",
      "BALANCED_ACCURACY: 0.8366045686404968\n"
     ]
    }
   ],
   "source": [
    "print(\"RandomForestClassifier: \")\n",
    "print(\"ACCURACY         : {score}\".format(score=accuracy_score(y_test, rf_y_predict)))           # 准确率\n",
    "print(\"AUC              : {score}\".format(score=roc_auc_score(y_test, rf_y_predict)))            # AUC (在偏态的样本中更稳健)\n",
    "print(\"RECALL           : {score}\".format(score=recall_score(y_test, rf_y_predict)))             # 召回率\n",
    "print(\"PRECISION        : {score}\".format(score=precision_score(y_test, rf_y_predict)))          # 正确率\n",
    "print(\"BALANCED_ACCURACY: {score}\".format(score=balanced_accuracy_score(y_test, rf_y_predict)))  # 平衡精度"
   ]
  },
  {
   "cell_type": "code",
   "execution_count": 63,
   "metadata": {
    "hidden": true
   },
   "outputs": [
    {
     "name": "stdout",
     "output_type": "stream",
     "text": [
      "0.8427777433418046\n",
      "0.8933137346525886\n",
      "0.9695476900749819\n",
      "0.8382684952980611\n",
      "0.746448192195709\n"
     ]
    }
   ],
   "source": [
    "# 五折交叉验证\n",
    "for my_score in ['accuracy', 'roc_auc', 'recall', 'precision', 'balanced_accuracy']:\n",
    "        print(cross_val_score(rf, X, y, cv=5, scoring=my_score).mean())"
   ]
  },
  {
   "cell_type": "code",
   "execution_count": null,
   "metadata": {
    "hidden": true
   },
   "outputs": [],
   "source": [
    "# 筛选出重要性较高的变量\n",
    "threshold = 0.0002\n",
    "x_selected = x_train[:, importances > threshold]\n",
    "x_selected.shape"
   ]
  },
  {
   "cell_type": "markdown",
   "metadata": {
    "heading_collapsed": true
   },
   "source": [
    "## step7:AdaBoostClassifier"
   ]
  },
  {
   "cell_type": "code",
   "execution_count": 74,
   "metadata": {
    "hidden": true
   },
   "outputs": [
    {
     "name": "stdout",
     "output_type": "stream",
     "text": [
      "[1 1 1 1 0 1 0 1 1 1 1 1 0 1 1 0 1 0 1 1 1 0 1 1 1 1 1 1 1 0 0 1 1 1 1 1 1\n",
      " 1 1 0 0 1 1 1 1 1 0 1 1 1 0 0 1 1 0 0 1 1 1 1 1 1 1 1 0 1 0 0 1 1 1 0 1 0\n",
      " 1 1 1 1 1 1 1 0 0 1 0 1 1 1 1 1 1 0 0 0 1 1 1 1 1 1 1 1 1 1 1 1 1 1 0 1 1\n",
      " 1 1 0 1 1 1 1 1 1 1 1 1 1 1 0 0 0 1 1 1 0 1 1 1 1 1 1 1 1 1 1 1 1 1 1 1 1\n",
      " 0 1 1 1 1 1 1 1 1 1 0 1 1 1 1 0 1 0 0 1 1 1 0 0 1 1 0 1 0 1 1 1 0 1 0 1 0\n",
      " 0 1 1 1 0 0 1 1 0 1 1 1 1 1 1 0 1 1 1 1 0 0 1 1 1 0 1 1 1 1 1 1 1 1 1 1]\n",
      "Accuracy of AdaBoostClassifier(Train): 0.9954545454545455\n",
      "Accuracy of AdaBoostClassifier(Test): 0.9004524886877828\n"
     ]
    }
   ],
   "source": [
    "from sklearn.ensemble import AdaBoostClassifier\n",
    "\n",
    "adc = AdaBoostClassifier(base_estimator=None, n_estimators=97, learning_rate=1.0, algorithm='SAMME.R', random_state=10)\n",
    "\n",
    "adc.fit(X_train, y_train)\n",
    "\n",
    "adc_y_predict = adc.predict(X_test)\n",
    "print(adc_y_predict)\n",
    "\n",
    "#pro = abc.predict_proba(X_test)\n",
    "#print(pro)\n",
    "\n",
    "train_adc_y_score = adc.score(X_train, y_train)\n",
    "test_adc_y_score = adc.score(X_test, y_test)\n",
    "print(\"Accuracy of AdaBoostClassifier(Train): {score}\".format(score=train_adc_y_score)) \n",
    "print(\"Accuracy of AdaBoostClassifier(Test): {score}\".format(score=test_adc_y_score)) "
   ]
  },
  {
   "cell_type": "code",
   "execution_count": 75,
   "metadata": {
    "hidden": true
   },
   "outputs": [
    {
     "name": "stdout",
     "output_type": "stream",
     "text": [
      "AdaBoostClassifier: \n",
      "ACCURACY         : 0.9004524886877828\n",
      "AUC              : 0.8589487691284098\n",
      "RECALL           : 0.9401197604790419\n",
      "PRECISION        : 0.9289940828402367\n",
      "BALANCED_ACCURACY: 0.8589487691284099\n"
     ]
    }
   ],
   "source": [
    "print(\"AdaBoostClassifier: \")\n",
    "print(\"ACCURACY         : {score}\".format(score=accuracy_score(y_test, adc_y_predict)))           # 准确率\n",
    "print(\"AUC              : {score}\".format(score=roc_auc_score(y_test, adc_y_predict)))            # AUC\n",
    "print(\"RECALL           : {score}\".format(score=recall_score(y_test, adc_y_predict)))             # 召回率\n",
    "print(\"PRECISION        : {score}\".format(score=precision_score(y_test, adc_y_predict)))          # 正确率\n",
    "print(\"BALANCED_ACCURACY: {score}\".format(score=balanced_accuracy_score(y_test, adc_y_predict)))  # 平衡精度"
   ]
  },
  {
   "cell_type": "code",
   "execution_count": 76,
   "metadata": {
    "hidden": true
   },
   "outputs": [
    {
     "name": "stdout",
     "output_type": "stream",
     "text": [
      "0.8564433149445236\n",
      "0.8966958673551512\n",
      "0.9099088930097559\n",
      "0.8921422223702529\n",
      "0.8157839395924356\n"
     ]
    }
   ],
   "source": [
    "# 五折交叉验证\n",
    "for my_score in ['accuracy', 'roc_auc', 'recall', 'precision', 'balanced_accuracy']:\n",
    "        print(cross_val_score(adc, X, y, cv=5, scoring=my_score).mean())"
   ]
  },
  {
   "cell_type": "code",
   "execution_count": 68,
   "metadata": {
    "hidden": true
   },
   "outputs": [
    {
     "data": {
      "image/png": "[encoded data removed]",
      "text/plain": [
       "<Figure size 432x288 with 1 Axes>"
      ]
     },
     "metadata": {
      "needs_background": "light"
     },
     "output_type": "display_data"
    }
   ],
   "source": [
    "n_estimators = range(90, 110, 1)  # 优化参数k的取值范围\n",
    "k_scores = []\n",
    "for k in n_estimators:\n",
    "    ab = AdaBoostClassifier(n_estimators=k)\n",
    "    scores = cross_val_score(ab, X, y, cv=10, scoring='accuracy')\n",
    "    k_scores.append(scores.mean())\n",
    "\n",
    "#可视化数据\n",
    "plt.plot(n_estimators, k_scores)\n",
    "plt.xlabel('Value of n_estimators for AdaBoostClassifier')\n",
    "plt.ylabel('Cross-Validated Accuracy')\n",
    "plt.show()"
   ]
  },
  {
   "cell_type": "markdown",
   "metadata": {
    "heading_collapsed": true
   },
   "source": [
    "## step8:GradientBoostingClassifier"
   ]
  },
  {
   "cell_type": "code",
   "execution_count": 77,
   "metadata": {
    "hidden": true
   },
   "outputs": [
    {
     "name": "stdout",
     "output_type": "stream",
     "text": [
      "[1 1 1 1 0 1 0 1 1 1 1 1 0 1 1 0 1 0 1 1 1 0 1 1 1 1 1 1 1 1 1 1 1 1 1 1 1\n",
      " 1 1 0 1 1 1 1 1 1 0 1 1 1 1 0 1 1 0 1 1 1 1 1 1 1 0 1 0 1 0 0 1 1 1 0 1 0\n",
      " 1 1 1 1 1 1 1 0 0 1 0 1 1 1 1 1 1 0 0 1 1 1 1 1 1 1 0 1 1 1 1 1 1 1 0 1 1\n",
      " 1 1 1 1 1 1 1 1 1 1 1 1 1 1 1 0 0 1 1 1 1 1 1 1 1 1 1 1 1 1 1 1 1 1 1 1 1\n",
      " 1 1 1 1 1 1 1 1 1 1 1 1 0 1 1 1 1 0 0 1 1 1 0 0 1 1 0 1 0 1 1 1 0 1 1 1 0\n",
      " 0 1 1 1 0 0 1 1 0 1 1 1 1 1 1 0 1 0 1 1 1 0 0 1 1 0 1 1 1 1 1 1 1 1 1 1]\n",
      "Accuracy of AdaBoostClassifier(Train): 0.9954545454545455\n",
      "Accuracy of AdaBoostClassifier(Test): 0.9321266968325792\n"
     ]
    }
   ],
   "source": [
    "from sklearn.ensemble import GradientBoostingClassifier\n",
    "\n",
    "gbc = GradientBoostingClassifier(random_state=10)\n",
    "\n",
    "gbc.fit(X_train, y_train)\n",
    "\n",
    "gdc_y_predict = gbc.predict(X_test)\n",
    "print(gdc_y_predict)\n",
    "\n",
    "#pro = abc.predict_proba(X_test)\n",
    "#print(pro)\n",
    "\n",
    "train_gdc_y_score = gbc.score(X_train, y_train)\n",
    "test_gdc_y_score = gbc.score(X_test, y_test)\n",
    "print(\"Accuracy of AdaBoostClassifier(Train): {score}\".format(score=train_gdc_y_score)) \n",
    "print(\"Accuracy of AdaBoostClassifier(Test): {score}\".format(score=test_gdc_y_score))"
   ]
  },
  {
   "cell_type": "code",
   "execution_count": 78,
   "metadata": {
    "hidden": true
   },
   "outputs": [
    {
     "name": "stdout",
     "output_type": "stream",
     "text": [
      "GradientBoostingClassifier: \n",
      "ACCURACY         : 0.9321266968325792\n",
      "AUC              : 0.8736416056775339\n",
      "RECALL           : 0.9880239520958084\n",
      "PRECISION        : 0.9269662921348315\n",
      "BALANCED_ACCURACY: 0.8736416056775338\n"
     ]
    }
   ],
   "source": [
    "print(\"GradientBoostingClassifier: \")\n",
    "print(\"ACCURACY         : {score}\".format(score=accuracy_score(y_test, gdc_y_predict)))           # 准确率\n",
    "print(\"AUC              : {score}\".format(score=roc_auc_score(y_test, gdc_y_predict)))            # AUC\n",
    "print(\"RECALL           : {score}\".format(score=recall_score(y_test, gdc_y_predict)))             # 召回率\n",
    "print(\"PRECISION        : {score}\".format(score=precision_score(y_test, gdc_y_predict)))          # 正确率\n",
    "print(\"BALANCED_ACCURACY: {score}\".format(score=balanced_accuracy_score(y_test, gdc_y_predict)))  # 平衡精度"
   ]
  },
  {
   "cell_type": "code",
   "execution_count": 79,
   "metadata": {
    "hidden": true
   },
   "outputs": [
    {
     "name": "stdout",
     "output_type": "stream",
     "text": [
      "0.922084  with:   {'n_estimators': 102}\n",
      "0.923019  with:   {'n_estimators': 104}\n",
      "0.924856  with:   {'n_estimators': 106}\n",
      "0.924949  with:   {'n_estimators': 108}\n",
      "0.925132  with:   {'n_estimators': 110}\n",
      "0.925099  with:   {'n_estimators': 112}\n",
      "0.925782  with:   {'n_estimators': 114}\n",
      "0.925437  with:   {'n_estimators': 116}\n",
      "0.925036  with:   {'n_estimators': 118}\n"
     ]
    },
    {
     "data": {
      "text/plain": [
       "({'n_estimators': 114}, 0.9257824794433903)"
      ]
     },
     "execution_count": 79,
     "metadata": {},
     "output_type": "execute_result"
    }
   ],
   "source": [
    "param_test1 = {'n_estimators':range(102, 120, 2)}\n",
    "grid1 = GridSearchCV(estimator = GradientBoostingClassifier(learning_rate=0.1, min_samples_split=300,\n",
    "                                  min_samples_leaf=20, max_depth=8, max_features='sqrt', random_state=10), \n",
    "                     param_grid = param_test1, scoring='roc_auc', iid=False, cv=5)\n",
    "\n",
    "grid1.fit(X_train, y_train)\n",
    "means = grid1.cv_results_['mean_test_score']\n",
    "params = grid1.cv_results_['params']\n",
    "for mean,param in zip(means, params):\n",
    "    print(\"%f  with:   %r\" % (mean, param))\n",
    "\n",
    "grid1.best_params_, grid1.best_score_"
   ]
  },
  {
   "cell_type": "code",
   "execution_count": 80,
   "metadata": {
    "hidden": true,
    "scrolled": true
   },
   "outputs": [
    {
     "name": "stdout",
     "output_type": "stream",
     "text": [
      "0.925168  with:   {'max_depth': 7, 'min_samples_split': 74}\n",
      "0.928723  with:   {'max_depth': 7, 'min_samples_split': 75}\n",
      "0.922897  with:   {'max_depth': 7, 'min_samples_split': 76}\n",
      "0.927607  with:   {'max_depth': 7, 'min_samples_split': 77}\n",
      "0.922318  with:   {'max_depth': 7, 'min_samples_split': 78}\n",
      "0.922555  with:   {'max_depth': 8, 'min_samples_split': 74}\n",
      "0.923642  with:   {'max_depth': 8, 'min_samples_split': 75}\n",
      "0.926173  with:   {'max_depth': 8, 'min_samples_split': 76}\n",
      "0.928218  with:   {'max_depth': 8, 'min_samples_split': 77}\n",
      "0.924266  with:   {'max_depth': 8, 'min_samples_split': 78}\n",
      "0.920891  with:   {'max_depth': 9, 'min_samples_split': 74}\n",
      "0.927466  with:   {'max_depth': 9, 'min_samples_split': 75}\n",
      "0.925880  with:   {'max_depth': 9, 'min_samples_split': 76}\n",
      "0.928559  with:   {'max_depth': 9, 'min_samples_split': 77}\n",
      "0.924764  with:   {'max_depth': 9, 'min_samples_split': 78}\n",
      "0.923772  with:   {'max_depth': 10, 'min_samples_split': 74}\n",
      "0.925962  with:   {'max_depth': 10, 'min_samples_split': 75}\n",
      "0.922974  with:   {'max_depth': 10, 'min_samples_split': 76}\n",
      "0.926483  with:   {'max_depth': 10, 'min_samples_split': 77}\n",
      "0.924049  with:   {'max_depth': 10, 'min_samples_split': 78}\n",
      "0.923081  with:   {'max_depth': 11, 'min_samples_split': 74}\n",
      "0.928819  with:   {'max_depth': 11, 'min_samples_split': 75}\n",
      "0.924552  with:   {'max_depth': 11, 'min_samples_split': 76}\n",
      "0.927160  with:   {'max_depth': 11, 'min_samples_split': 77}\n",
      "0.926463  with:   {'max_depth': 11, 'min_samples_split': 78}\n"
     ]
    },
    {
     "data": {
      "text/plain": [
       "({'max_depth': 11, 'min_samples_split': 75}, 0.9288187223276407)"
      ]
     },
     "execution_count": 80,
     "metadata": {},
     "output_type": "execute_result"
    }
   ],
   "source": [
    "param_test2 = {'max_depth': range(7, 12, 1), 'min_samples_split': range(74, 79, 1)}\n",
    "grid2 = GridSearchCV(estimator = GradientBoostingClassifier(learning_rate=0.1, n_estimators=114, min_samples_leaf=20, \n",
    "                                                                max_features='sqrt', subsample=0.8, random_state=10), \n",
    "                        param_grid = param_test2, scoring='roc_auc', iid=False, cv=5)\n",
    "\n",
    "grid2.fit(X_train, y_train)\n",
    "means = grid2.cv_results_['mean_test_score']\n",
    "params = grid2.cv_results_['params']\n",
    "for mean,param in zip(means, params):\n",
    "    print(\"%f  with:   %r\" % (mean, param))\n",
    "\n",
    "grid2.best_params_, grid2.best_score_"
   ]
  },
  {
   "cell_type": "code",
   "execution_count": 83,
   "metadata": {
    "hidden": true
   },
   "outputs": [
    {
     "name": "stdout",
     "output_type": "stream",
     "text": [
      "0.927401  with:   {'min_samples_leaf': 52, 'min_samples_split': 48}\n",
      "0.927401  with:   {'min_samples_leaf': 52, 'min_samples_split': 49}\n",
      "0.927401  with:   {'min_samples_leaf': 52, 'min_samples_split': 50}\n",
      "0.927401  with:   {'min_samples_leaf': 52, 'min_samples_split': 51}\n",
      "0.927401  with:   {'min_samples_leaf': 52, 'min_samples_split': 52}\n",
      "0.927401  with:   {'min_samples_leaf': 52, 'min_samples_split': 53}\n",
      "0.930680  with:   {'min_samples_leaf': 53, 'min_samples_split': 48}\n",
      "0.930680  with:   {'min_samples_leaf': 53, 'min_samples_split': 49}\n",
      "0.930680  with:   {'min_samples_leaf': 53, 'min_samples_split': 50}\n",
      "0.930680  with:   {'min_samples_leaf': 53, 'min_samples_split': 51}\n",
      "0.930680  with:   {'min_samples_leaf': 53, 'min_samples_split': 52}\n",
      "0.930680  with:   {'min_samples_leaf': 53, 'min_samples_split': 53}\n",
      "0.932722  with:   {'min_samples_leaf': 54, 'min_samples_split': 48}\n",
      "0.932722  with:   {'min_samples_leaf': 54, 'min_samples_split': 49}\n",
      "0.932722  with:   {'min_samples_leaf': 54, 'min_samples_split': 50}\n",
      "0.932722  with:   {'min_samples_leaf': 54, 'min_samples_split': 51}\n",
      "0.932722  with:   {'min_samples_leaf': 54, 'min_samples_split': 52}\n",
      "0.932722  with:   {'min_samples_leaf': 54, 'min_samples_split': 53}\n",
      "0.928362  with:   {'min_samples_leaf': 55, 'min_samples_split': 48}\n",
      "0.928362  with:   {'min_samples_leaf': 55, 'min_samples_split': 49}\n",
      "0.928362  with:   {'min_samples_leaf': 55, 'min_samples_split': 50}\n",
      "0.928362  with:   {'min_samples_leaf': 55, 'min_samples_split': 51}\n",
      "0.928362  with:   {'min_samples_leaf': 55, 'min_samples_split': 52}\n",
      "0.928362  with:   {'min_samples_leaf': 55, 'min_samples_split': 53}\n"
     ]
    },
    {
     "data": {
      "text/plain": [
       "({'min_samples_leaf': 54, 'min_samples_split': 48}, 0.9327219870578505)"
      ]
     },
     "execution_count": 83,
     "metadata": {},
     "output_type": "execute_result"
    }
   ],
   "source": [
    "param_test3 = {'min_samples_split': range(48, 54, 1), 'min_samples_leaf': range(52, 56, 1)}\n",
    "grid3 = GridSearchCV(estimator = GradientBoostingClassifier(learning_rate=0.1, n_estimators=114, max_depth=11,\n",
    "                                                             max_features='sqrt', random_state=10), \n",
    "                       param_grid = param_test3, scoring='roc_auc', iid=False, cv=5)\n",
    "\n",
    "grid3.fit(X_train, y_train)\n",
    "means = grid3.cv_results_['mean_test_score']\n",
    "params = grid3.cv_results_['params']\n",
    "for mean,param in zip(means, params):\n",
    "    print(\"%f  with:   %r\" % (mean, param))\n",
    "    \n",
    "\n",
    "grid3.best_params_, grid3.best_score_"
   ]
  },
  {
   "cell_type": "code",
   "execution_count": 84,
   "metadata": {
    "hidden": true
   },
   "outputs": [
    {
     "name": "stdout",
     "output_type": "stream",
     "text": [
      "0.931558  with:   {'max_features': 8}\n",
      "0.928811  with:   {'max_features': 9}\n",
      "0.932722  with:   {'max_features': 10}\n",
      "0.929946  with:   {'max_features': 11}\n",
      "0.925223  with:   {'max_features': 12}\n"
     ]
    },
    {
     "data": {
      "text/plain": [
       "({'max_features': 10}, 0.9327219870578505)"
      ]
     },
     "execution_count": 84,
     "metadata": {},
     "output_type": "execute_result"
    }
   ],
   "source": [
    "param_test4 = {'max_features': range(8, 13, 1)}\n",
    "grid4 = GridSearchCV(estimator = GradientBoostingClassifier(learning_rate=0.1, n_estimators=114, max_depth=11, min_samples_leaf =54, \n",
    "                                                            min_samples_split=48, random_state=10), \n",
    "                     param_grid = param_test4, scoring='roc_auc', iid=False, cv=5)\n",
    "\n",
    "grid4.fit(X_train, y_train)\n",
    "means = grid4.cv_results_['mean_test_score']\n",
    "params = grid4.cv_results_['params']\n",
    "for mean,param in zip(means, params):\n",
    "    print(\"%f  with:   %r\" % (mean, param))\n",
    "\n",
    "grid4.best_params_, grid4.best_score_"
   ]
  },
  {
   "cell_type": "code",
   "execution_count": 86,
   "metadata": {
    "hidden": true
   },
   "outputs": [
    {
     "name": "stdout",
     "output_type": "stream",
     "text": [
      "[1 1 1 1 0 1 0 1 1 1 1 1 0 1 1 0 1 0 1 1 1 0 1 1 1 1 1 1 1 1 1 1 1 1 1 1 1\n",
      " 1 1 0 1 1 1 1 1 1 0 1 1 1 1 0 1 1 0 1 1 1 1 1 1 1 0 1 0 1 0 0 1 1 1 0 1 0\n",
      " 1 1 1 1 1 1 1 0 0 1 0 1 1 1 1 1 1 0 0 1 1 1 1 1 1 1 0 1 1 1 0 1 1 1 0 0 1\n",
      " 1 1 0 1 1 1 1 1 1 1 1 1 1 1 0 0 0 1 1 1 1 1 1 1 1 1 1 1 1 1 1 1 1 1 1 1 1\n",
      " 1 1 1 1 1 1 1 1 1 1 1 1 1 1 1 1 1 0 0 1 1 1 0 0 1 1 0 1 0 1 1 1 0 1 1 1 0\n",
      " 0 1 1 0 0 0 1 1 0 1 1 1 1 1 1 0 1 0 1 1 0 0 0 1 1 0 1 1 1 1 1 1 1 1 1 1]\n",
      "Accuracy of AdaBoostClassifier(Train): 1.0\n",
      "Accuracy of AdaBoostClassifier(Test): 0.9366515837104072\n"
     ]
    }
   ],
   "source": [
    "gbc = GradientBoostingClassifier(learning_rate=0.1, n_estimators=114, max_depth=11, max_features=10, \n",
    "                                  min_samples_leaf=54, min_samples_split=48, random_state=10)\n",
    "\n",
    "gbc.fit(X_train, y_train)\n",
    "\n",
    "gdc_y_predict = gbc.predict(X_test)\n",
    "print(gdc_y_predict)\n",
    "\n",
    "#pro = abc.predict_proba(X_test)\n",
    "#print(pro)\n",
    "\n",
    "train_gdc_y_score = gbc.score(X_train, y_train)\n",
    "test_gdc_y_score = gbc.score(X_test, y_test)\n",
    "print(\"Accuracy of AdaBoostClassifier(Train): {score}\".format(score=train_gdc_y_score)) \n",
    "print(\"Accuracy of AdaBoostClassifier(Test): {score}\".format(score=test_gdc_y_score))"
   ]
  },
  {
   "cell_type": "code",
   "execution_count": 87,
   "metadata": {
    "hidden": true
   },
   "outputs": [
    {
     "name": "stdout",
     "output_type": "stream",
     "text": [
      "GradientBoostingClassifier: \n",
      "ACCURACY         : 0.9366515837104072\n",
      "AUC              : 0.8954313595032158\n",
      "RECALL           : 0.9760479041916168\n",
      "PRECISION        : 0.9421965317919075\n",
      "BALANCED_ACCURACY: 0.8954313595032157\n"
     ]
    }
   ],
   "source": [
    "print(\"GradientBoostingClassifier: \")\n",
    "print(\"ACCURACY         : {score}\".format(score=accuracy_score(y_test, gdc_y_predict)))           # 准确率\n",
    "print(\"AUC              : {score}\".format(score=roc_auc_score(y_test, gdc_y_predict)))            # AUC\n",
    "print(\"RECALL           : {score}\".format(score=recall_score(y_test, gdc_y_predict)))             # 召回率\n",
    "print(\"PRECISION        : {score}\".format(score=precision_score(y_test, gdc_y_predict)))          # 正确率\n",
    "print(\"BALANCED_ACCURACY: {score}\".format(score=balanced_accuracy_score(y_test, gdc_y_predict)))  # 平衡精度"
   ]
  },
  {
   "cell_type": "code",
   "execution_count": 88,
   "metadata": {
    "hidden": true
   },
   "outputs": [
    {
     "name": "stdout",
     "output_type": "stream",
     "text": [
      "0.877241265315399\n",
      "0.9224822967239603\n",
      "0.949230024993953\n",
      "0.8890417460204298\n",
      "0.8224388732240631\n"
     ]
    }
   ],
   "source": [
    "# 五折交叉验证\n",
    "for my_score in ['accuracy', 'roc_auc', 'recall', 'precision', 'balanced_accuracy']:\n",
    "        print(cross_val_score(gbc, X, y, cv=5, scoring=my_score).mean())"
   ]
  },
  {
   "cell_type": "markdown",
   "metadata": {
    "heading_collapsed": true
   },
   "source": [
    "## step9:NB"
   ]
  },
  {
   "cell_type": "code",
   "execution_count": 89,
   "metadata": {
    "hidden": true
   },
   "outputs": [
    {
     "name": "stdout",
     "output_type": "stream",
     "text": [
      "[0 1 1 1 0 1 1 1 1 1 1 1 0 1 1 0 0 0 1 1 1 1 1 1 1 1 1 1 1 1 0 1 1 1 1 1 0\n",
      " 1 1 0 0 1 0 1 1 1 1 1 0 0 1 0 1 1 1 0 1 0 1 1 1 1 0 1 0 0 1 0 1 0 1 0 1 1\n",
      " 1 1 1 1 1 1 1 0 0 1 1 1 1 1 1 0 1 0 0 1 1 1 1 1 1 1 1 0 0 1 0 0 1 1 0 1 1\n",
      " 1 1 0 1 1 1 1 1 1 0 1 1 1 1 0 0 1 1 1 1 1 1 0 1 1 1 1 1 1 1 1 1 1 0 1 1 1\n",
      " 0 1 0 1 1 1 1 1 0 1 1 1 0 1 1 0 1 0 0 1 1 1 0 0 1 1 0 1 0 1 0 0 0 1 0 1 0\n",
      " 0 1 1 0 0 0 1 0 0 1 1 1 1 0 1 0 1 0 1 0 1 0 1 0 1 1 1 1 1 1 0 1 1 1 1 1]\n",
      "Accuracy of AdaBoostClassifier(Train): 0.7897727272727273\n",
      "Accuracy of AdaBoostClassifier(Test): 0.7873303167420814\n"
     ]
    }
   ],
   "source": [
    "from sklearn.naive_bayes import GaussianNB, BernoulliNB, MultinomialNB\n",
    "\n",
    "gnb = GaussianNB()\n",
    "\n",
    "gnb.fit(X_train, y_train)\n",
    "\n",
    "gnb_y_predict = gnb.predict(X_test)\n",
    "print(gnb_y_predict)\n",
    "\n",
    "#pro = gnb.predict_proba(X_test)\n",
    "#print(pro)\n",
    "\n",
    "train_gnb_y_score = gnb.score(X_train, y_train)\n",
    "test_gnb_y_score = gnb.score(X_test, y_test)\n",
    "print(\"Accuracy of AdaBoostClassifier(Train): {score}\".format(score=train_gnb_y_score)) \n",
    "print(\"Accuracy of AdaBoostClassifier(Test): {score}\".format(score=test_gnb_y_score)) "
   ]
  },
  {
   "cell_type": "code",
   "execution_count": 90,
   "metadata": {
    "hidden": true
   },
   "outputs": [
    {
     "name": "stdout",
     "output_type": "stream",
     "text": [
      "GaussianNB: \n",
      "ACCURACY         : 0.7873303167420814\n",
      "AUC              : 0.7527722333111555\n",
      "RECALL           : 0.8203592814371258\n",
      "PRECISION        : 0.8896103896103896\n",
      "BALANCED_ACCURACY: 0.7527722333111555\n"
     ]
    }
   ],
   "source": [
    "print(\"GaussianNB: \")\n",
    "print(\"ACCURACY         : {score}\".format(score=accuracy_score(y_test, gnb_y_predict)))           # 准确率\n",
    "print(\"AUC              : {score}\".format(score=roc_auc_score(y_test, gnb_y_predict)))            # AUC\n",
    "print(\"RECALL           : {score}\".format(score=recall_score(y_test, gnb_y_predict)))             # 召回率\n",
    "print(\"PRECISION        : {score}\".format(score=precision_score(y_test, gnb_y_predict)))          # 正确率\n",
    "print(\"BALANCED_ACCURACY: {score}\".format(score=balanced_accuracy_score(y_test, gnb_y_predict)))  # 平衡精度"
   ]
  },
  {
   "cell_type": "code",
   "execution_count": 91,
   "metadata": {
    "hidden": true
   },
   "outputs": [
    {
     "name": "stdout",
     "output_type": "stream",
     "text": [
      "0.7746069133659788\n",
      "0.8036104502738487\n",
      "0.8667499798435863\n",
      "0.8288624065943277\n",
      "0.7044963416883062\n"
     ]
    }
   ],
   "source": [
    "# 五折交叉验证\n",
    "for my_score in ['accuracy', 'roc_auc', 'recall', 'precision', 'balanced_accuracy']:\n",
    "        print(cross_val_score(gnb, X, y, cv=5, scoring=my_score).mean())"
   ]
  },
  {
   "cell_type": "markdown",
   "metadata": {
    "heading_collapsed": true
   },
   "source": [
    "## step10:ANN"
   ]
  },
  {
   "cell_type": "code",
   "execution_count": 92,
   "metadata": {
    "hidden": true
   },
   "outputs": [
    {
     "name": "stderr",
     "output_type": "stream",
     "text": [
      "d:\\python3.6.0\\lib\\site-packages\\h5py\\__init__.py:36: FutureWarning: Conversion of the second argument of issubdtype from `float` to `np.floating` is deprecated. In future, it will be treated as `np.float64 == np.dtype(float).type`.\n",
      "  from ._conv import register_converters as _register_converters\n",
      "Using TensorFlow backend.\n",
      "d:\\python3.6.0\\lib\\site-packages\\tensorflow\\python\\framework\\dtypes.py:493: FutureWarning: Passing (type, 1) or '1type' as a synonym of type is deprecated; in a future version of numpy, it will be understood as (type, (1,)) / '(1,)type'.\n",
      "  _np_qint8 = np.dtype([(\"qint8\", np.int8, 1)])\n",
      "d:\\python3.6.0\\lib\\site-packages\\tensorflow\\python\\framework\\dtypes.py:494: FutureWarning: Passing (type, 1) or '1type' as a synonym of type is deprecated; in a future version of numpy, it will be understood as (type, (1,)) / '(1,)type'.\n",
      "  _np_quint8 = np.dtype([(\"quint8\", np.uint8, 1)])\n",
      "d:\\python3.6.0\\lib\\site-packages\\tensorflow\\python\\framework\\dtypes.py:495: FutureWarning: Passing (type, 1) or '1type' as a synonym of type is deprecated; in a future version of numpy, it will be understood as (type, (1,)) / '(1,)type'.\n",
      "  _np_qint16 = np.dtype([(\"qint16\", np.int16, 1)])\n",
      "d:\\python3.6.0\\lib\\site-packages\\tensorflow\\python\\framework\\dtypes.py:496: FutureWarning: Passing (type, 1) or '1type' as a synonym of type is deprecated; in a future version of numpy, it will be understood as (type, (1,)) / '(1,)type'.\n",
      "  _np_quint16 = np.dtype([(\"quint16\", np.uint16, 1)])\n",
      "d:\\python3.6.0\\lib\\site-packages\\tensorflow\\python\\framework\\dtypes.py:497: FutureWarning: Passing (type, 1) or '1type' as a synonym of type is deprecated; in a future version of numpy, it will be understood as (type, (1,)) / '(1,)type'.\n",
      "  _np_qint32 = np.dtype([(\"qint32\", np.int32, 1)])\n",
      "d:\\python3.6.0\\lib\\site-packages\\tensorflow\\python\\framework\\dtypes.py:502: FutureWarning: Passing (type, 1) or '1type' as a synonym of type is deprecated; in a future version of numpy, it will be understood as (type, (1,)) / '(1,)type'.\n",
      "  np_resource = np.dtype([(\"resource\", np.ubyte, 1)])\n"
     ]
    }
   ],
   "source": [
    "%matplotlib inline\n",
    "import matplotlib.pyplot as plt\n",
    "from keras.layers.core import Activation, Dense\n",
    "from keras.layers import Dropout\n",
    "from keras.models import Sequential\n",
    "from sklearn.metrics import roc_curve, confusion_matrix, auc\n",
    "from sklearn.model_selection import GridSearchCV\n",
    "from keras.wrappers import scikit_learn\n",
    "\n",
    "# split train and validate\n",
    "X_train, X_val, y_train, y_val = train_test_split(X_train, y_train, test_size=0.2, random_state=0)"
   ]
  },
  {
   "cell_type": "code",
   "execution_count": 94,
   "metadata": {
    "hidden": true
   },
   "outputs": [
    {
     "name": "stdout",
     "output_type": "stream",
     "text": [
      "0.833364  with:   {'batch_size': 8, 'epochs': 30}\n",
      "0.826440  with:   {'batch_size': 8, 'epochs': 40}\n",
      "0.822628  with:   {'batch_size': 8, 'epochs': 50}\n",
      "0.818822  with:   {'batch_size': 8, 'epochs': 60}\n",
      "0.827835  with:   {'batch_size': 10, 'epochs': 30}\n",
      "0.828245  with:   {'batch_size': 10, 'epochs': 40}\n",
      "0.824779  with:   {'batch_size': 10, 'epochs': 50}\n",
      "0.821873  with:   {'batch_size': 10, 'epochs': 60}\n",
      "0.825774  with:   {'batch_size': 12, 'epochs': 30}\n",
      "0.827900  with:   {'batch_size': 12, 'epochs': 40}\n",
      "0.822684  with:   {'batch_size': 12, 'epochs': 50}\n",
      "0.821064  with:   {'batch_size': 12, 'epochs': 60}\n",
      "0.832239  with:   {'batch_size': 14, 'epochs': 30}\n",
      "0.836890  with:   {'batch_size': 14, 'epochs': 40}\n",
      "0.834589  with:   {'batch_size': 14, 'epochs': 50}\n",
      "0.825459  with:   {'batch_size': 14, 'epochs': 60}\n",
      "0.829587  with:   {'batch_size': 16, 'epochs': 30}\n",
      "0.828693  with:   {'batch_size': 16, 'epochs': 40}\n",
      "0.828573  with:   {'batch_size': 16, 'epochs': 50}\n",
      "0.833857  with:   {'batch_size': 16, 'epochs': 60}\n"
     ]
    },
    {
     "data": {
      "text/plain": [
       "({'batch_size': 14, 'epochs': 40}, 0.8368903869166185)"
      ]
     },
     "execution_count": 94,
     "metadata": {},
     "output_type": "execute_result"
    }
   ],
   "source": [
    "# 模型创建函数，KerasClassifier需要这个函数\n",
    "def create_model():\n",
    "    \n",
    "    model = Sequential()\n",
    "    model.add(Dense(input_dim=100, units=32))\n",
    "    model.add(Activation('relu'))\n",
    "    #model.add(Dropout(dropout))\n",
    "    model.add(Dense(input_dim=32, units=8))\n",
    "    model.add(Activation('sigmoid'))\n",
    "\n",
    "    model.add(Dense(input_dim=8, units=1))\n",
    "    model.add(Activation('sigmoid'))\n",
    "    # 编译\n",
    "    model.compile(loss='binary_crossentropy', optimizer='adam', metrics=['accuracy'])\n",
    "    return model\n",
    "\n",
    "# 创建模型\n",
    "model = scikit_learn.KerasClassifier(build_fn=create_model, verbose=0)\n",
    "\n",
    "# 设置参数候选值\n",
    "batch_size = [8,10,12,14,16]\n",
    "epochs = [30,40,50,60]\n",
    "\n",
    "# 创建GridSearchCV，并训练\n",
    "param_grid = dict(batch_size=batch_size, epochs=epochs)\n",
    "grid = GridSearchCV(estimator=model, param_grid=param_grid, n_jobs=1, scoring='roc_auc', cv=5)\n",
    "grid.fit(X_train, y_train)\n",
    "\n",
    "means = grid.cv_results_['mean_test_score']\n",
    "params = grid.cv_results_['params']\n",
    "for mean,param in zip(means, params):\n",
    "    print(\"%f  with:   %r\" % (mean, param))\n",
    "\n",
    "grid.best_params_, grid.best_score_"
   ]
  },
  {
   "cell_type": "code",
   "execution_count": 100,
   "metadata": {
    "hidden": true
   },
   "outputs": [
    {
     "name": "stdout",
     "output_type": "stream",
     "text": [
      "Starting training \n",
      "Train on 704 samples, validate on 176 samples\n",
      "Epoch 1/100\n",
      "704/704 [==============================] - 4s 5ms/step - loss: 0.6782 - acc: 0.6179 - val_loss: 0.6163 - val_acc: 0.6932\n",
      "Epoch 2/100\n",
      "704/704 [==============================] - 0s 308us/step - loss: 0.5837 - acc: 0.7131 - val_loss: 0.5663 - val_acc: 0.7045\n",
      "Epoch 3/100\n",
      "704/704 [==============================] - 0s 355us/step - loss: 0.5317 - acc: 0.7401 - val_loss: 0.5204 - val_acc: 0.7614\n",
      "Epoch 4/100\n",
      "704/704 [==============================] - 0s 328us/step - loss: 0.4925 - acc: 0.7741 - val_loss: 0.5003 - val_acc: 0.7841\n",
      "Epoch 5/100\n",
      "704/704 [==============================] - 0s 307us/step - loss: 0.4766 - acc: 0.7798 - val_loss: 0.4950 - val_acc: 0.7670\n",
      "Epoch 6/100\n",
      "704/704 [==============================] - 0s 331us/step - loss: 0.4556 - acc: 0.7955 - val_loss: 0.5147 - val_acc: 0.7727\n",
      "Epoch 7/100\n",
      "704/704 [==============================] - 0s 354us/step - loss: 0.4438 - acc: 0.7955 - val_loss: 0.4945 - val_acc: 0.7898\n",
      "Epoch 8/100\n",
      "704/704 [==============================] - 0s 307us/step - loss: 0.4319 - acc: 0.8168 - val_loss: 0.4954 - val_acc: 0.7955\n",
      "Epoch 9/100\n",
      "704/704 [==============================] - 0s 328us/step - loss: 0.4293 - acc: 0.8054 - val_loss: 0.4866 - val_acc: 0.8011\n",
      "Epoch 10/100\n",
      "704/704 [==============================] - 0s 331us/step - loss: 0.4267 - acc: 0.8125 - val_loss: 0.4768 - val_acc: 0.8125\n",
      "Epoch 11/100\n",
      "704/704 [==============================] - 0s 332us/step - loss: 0.4206 - acc: 0.8168 - val_loss: 0.4882 - val_acc: 0.7898\n",
      "Epoch 12/100\n",
      "704/704 [==============================] - 0s 331us/step - loss: 0.4226 - acc: 0.8182 - val_loss: 0.5040 - val_acc: 0.7841\n",
      "Epoch 13/100\n",
      "704/704 [==============================] - 0s 353us/step - loss: 0.4074 - acc: 0.8267 - val_loss: 0.4791 - val_acc: 0.8125\n",
      "Epoch 14/100\n",
      "704/704 [==============================] - 0s 330us/step - loss: 0.4279 - acc: 0.8153 - val_loss: 0.4849 - val_acc: 0.7955\n",
      "Epoch 15/100\n",
      "704/704 [==============================] - 0s 330us/step - loss: 0.3982 - acc: 0.8281 - val_loss: 0.4700 - val_acc: 0.8011\n",
      "Epoch 16/100\n",
      "704/704 [==============================] - 0s 333us/step - loss: 0.4105 - acc: 0.8182 - val_loss: 0.4719 - val_acc: 0.8182\n",
      "Epoch 17/100\n",
      "704/704 [==============================] - 0s 331us/step - loss: 0.3965 - acc: 0.8139 - val_loss: 0.4670 - val_acc: 0.8068\n",
      "Epoch 18/100\n",
      "704/704 [==============================] - 0s 308us/step - loss: 0.3861 - acc: 0.8338 - val_loss: 0.4766 - val_acc: 0.8125\n",
      "Epoch 19/100\n",
      "704/704 [==============================] - 0s 331us/step - loss: 0.3880 - acc: 0.8267 - val_loss: 0.4642 - val_acc: 0.8239\n",
      "Epoch 20/100\n",
      "704/704 [==============================] - 0s 328us/step - loss: 0.3912 - acc: 0.8182 - val_loss: 0.4648 - val_acc: 0.8182\n",
      "Epoch 21/100\n",
      "704/704 [==============================] - 0s 311us/step - loss: 0.3763 - acc: 0.8480 - val_loss: 0.4629 - val_acc: 0.8125\n",
      "Epoch 22/100\n",
      "704/704 [==============================] - 0s 332us/step - loss: 0.3803 - acc: 0.8352 - val_loss: 0.4581 - val_acc: 0.7955\n",
      "Epoch 23/100\n",
      "704/704 [==============================] - 0s 308us/step - loss: 0.3664 - acc: 0.8480 - val_loss: 0.4632 - val_acc: 0.8182\n",
      "Epoch 24/100\n",
      "704/704 [==============================] - 0s 327us/step - loss: 0.3754 - acc: 0.8437 - val_loss: 0.4656 - val_acc: 0.8182\n",
      "Epoch 25/100\n",
      "704/704 [==============================] - 0s 333us/step - loss: 0.3499 - acc: 0.8580 - val_loss: 0.4554 - val_acc: 0.8125\n",
      "Epoch 26/100\n",
      "704/704 [==============================] - 0s 354us/step - loss: 0.3449 - acc: 0.8608 - val_loss: 0.4538 - val_acc: 0.8011\n",
      "Epoch 27/100\n",
      "704/704 [==============================] - 0s 309us/step - loss: 0.3567 - acc: 0.8523 - val_loss: 0.4486 - val_acc: 0.8011\n",
      "Epoch 28/100\n",
      "704/704 [==============================] - 0s 330us/step - loss: 0.3267 - acc: 0.8608 - val_loss: 0.4554 - val_acc: 0.8125\n",
      "Epoch 29/100\n",
      "704/704 [==============================] - 0s 331us/step - loss: 0.3343 - acc: 0.8494 - val_loss: 0.4702 - val_acc: 0.7841\n",
      "Epoch 30/100\n",
      "704/704 [==============================] - 0s 331us/step - loss: 0.3410 - acc: 0.8523 - val_loss: 0.4454 - val_acc: 0.8011\n",
      "Epoch 31/100\n",
      "704/704 [==============================] - 0s 331us/step - loss: 0.3295 - acc: 0.8665 - val_loss: 0.4750 - val_acc: 0.8125\n",
      "Epoch 32/100\n",
      "704/704 [==============================] - 0s 349us/step - loss: 0.3294 - acc: 0.8608 - val_loss: 0.4477 - val_acc: 0.8239\n",
      "Epoch 33/100\n",
      "704/704 [==============================] - 0s 312us/step - loss: 0.3120 - acc: 0.8651 - val_loss: 0.4421 - val_acc: 0.8068\n",
      "Epoch 34/100\n",
      "704/704 [==============================] - 0s 331us/step - loss: 0.3149 - acc: 0.8679 - val_loss: 0.4742 - val_acc: 0.8182\n",
      "Epoch 35/100\n",
      "704/704 [==============================] - 0s 354us/step - loss: 0.3191 - acc: 0.8651 - val_loss: 0.4494 - val_acc: 0.8125\n",
      "Epoch 36/100\n",
      "704/704 [==============================] - 0s 306us/step - loss: 0.3125 - acc: 0.8679 - val_loss: 0.4774 - val_acc: 0.8125\n",
      "Epoch 37/100\n",
      "704/704 [==============================] - 0s 331us/step - loss: 0.3082 - acc: 0.8651 - val_loss: 0.4395 - val_acc: 0.8011\n",
      "Epoch 38/100\n",
      "704/704 [==============================] - 0s 353us/step - loss: 0.3000 - acc: 0.8665 - val_loss: 0.4595 - val_acc: 0.8295\n",
      "Epoch 39/100\n",
      "704/704 [==============================] - 0s 331us/step - loss: 0.2956 - acc: 0.8764 - val_loss: 0.4342 - val_acc: 0.7955\n",
      "Epoch 40/100\n",
      "704/704 [==============================] - 0s 334us/step - loss: 0.2897 - acc: 0.8722 - val_loss: 0.4579 - val_acc: 0.8068\n",
      "Epoch 41/100\n",
      "704/704 [==============================] - 0s 330us/step - loss: 0.2968 - acc: 0.8864 - val_loss: 0.5034 - val_acc: 0.7955\n",
      "Epoch 42/100\n",
      "704/704 [==============================] - 0s 331us/step - loss: 0.2886 - acc: 0.8807 - val_loss: 0.4516 - val_acc: 0.8068\n",
      "Epoch 43/100\n",
      "704/704 [==============================] - 0s 331us/step - loss: 0.2813 - acc: 0.8920 - val_loss: 0.4332 - val_acc: 0.8011\n",
      "Epoch 44/100\n",
      "704/704 [==============================] - 0s 331us/step - loss: 0.2748 - acc: 0.8920 - val_loss: 0.4390 - val_acc: 0.8068\n",
      "Epoch 45/100\n",
      "704/704 [==============================] - 0s 330us/step - loss: 0.2734 - acc: 0.8750 - val_loss: 0.4442 - val_acc: 0.7955\n",
      "Epoch 46/100\n",
      "704/704 [==============================] - 0s 357us/step - loss: 0.2723 - acc: 0.8906 - val_loss: 0.4801 - val_acc: 0.8125\n",
      "Epoch 47/100\n",
      "704/704 [==============================] - 0s 330us/step - loss: 0.2528 - acc: 0.9006 - val_loss: 0.4420 - val_acc: 0.8011\n",
      "Epoch 48/100\n",
      "704/704 [==============================] - 0s 329us/step - loss: 0.2676 - acc: 0.8892 - val_loss: 0.4360 - val_acc: 0.8239\n",
      "Epoch 49/100\n",
      "704/704 [==============================] - 0s 333us/step - loss: 0.2657 - acc: 0.8821 - val_loss: 0.4272 - val_acc: 0.8182\n",
      "Epoch 50/100\n",
      "704/704 [==============================] - 0s 331us/step - loss: 0.2478 - acc: 0.8963 - val_loss: 0.4551 - val_acc: 0.8011\n",
      "Epoch 51/100\n",
      "704/704 [==============================] - 0s 354us/step - loss: 0.2388 - acc: 0.9062 - val_loss: 0.4460 - val_acc: 0.8068\n",
      "Epoch 52/100\n",
      "704/704 [==============================] - 0s 332us/step - loss: 0.2481 - acc: 0.8935 - val_loss: 0.4369 - val_acc: 0.8068\n",
      "Epoch 53/100\n",
      "704/704 [==============================] - 0s 418us/step - loss: 0.2405 - acc: 0.9062 - val_loss: 0.4420 - val_acc: 0.8011\n",
      "Epoch 54/100\n",
      "704/704 [==============================] - 0s 428us/step - loss: 0.2312 - acc: 0.9020 - val_loss: 0.5073 - val_acc: 0.8068\n",
      "Epoch 55/100\n",
      "704/704 [==============================] - 0s 412us/step - loss: 0.2362 - acc: 0.9062 - val_loss: 0.4570 - val_acc: 0.8011\n",
      "Epoch 56/100\n",
      "704/704 [==============================] - 0s 311us/step - loss: 0.2240 - acc: 0.9062 - val_loss: 0.4666 - val_acc: 0.8068\n",
      "Epoch 57/100\n",
      "704/704 [==============================] - 0s 306us/step - loss: 0.2131 - acc: 0.9134 - val_loss: 0.5348 - val_acc: 0.8011\n",
      "Epoch 58/100\n",
      "704/704 [==============================] - 0s 344us/step - loss: 0.2301 - acc: 0.9119 - val_loss: 0.5194 - val_acc: 0.8011\n",
      "Epoch 59/100\n",
      "704/704 [==============================] - 0s 441us/step - loss: 0.2152 - acc: 0.9077 - val_loss: 0.4896 - val_acc: 0.8125\n",
      "Epoch 60/100\n",
      "704/704 [==============================] - 0s 396us/step - loss: 0.2242 - acc: 0.9148 - val_loss: 0.4836 - val_acc: 0.7955\n"
     ]
    },
    {
     "name": "stdout",
     "output_type": "stream",
     "text": [
      "Epoch 61/100\n",
      "704/704 [==============================] - 0s 322us/step - loss: 0.2065 - acc: 0.9162 - val_loss: 0.4810 - val_acc: 0.8068\n",
      "Epoch 62/100\n",
      "704/704 [==============================] - 0s 340us/step - loss: 0.2141 - acc: 0.9219 - val_loss: 0.4797 - val_acc: 0.7841\n",
      "Epoch 63/100\n",
      "704/704 [==============================] - 0s 368us/step - loss: 0.1981 - acc: 0.9261 - val_loss: 0.4878 - val_acc: 0.8239\n",
      "Epoch 64/100\n",
      "704/704 [==============================] - 0s 330us/step - loss: 0.2116 - acc: 0.9148 - val_loss: 0.4798 - val_acc: 0.8011\n",
      "Epoch 65/100\n",
      "704/704 [==============================] - 0s 316us/step - loss: 0.1948 - acc: 0.9332 - val_loss: 0.5074 - val_acc: 0.8125\n",
      "Epoch 66/100\n",
      "704/704 [==============================] - 0s 311us/step - loss: 0.1931 - acc: 0.9219 - val_loss: 0.4918 - val_acc: 0.8239\n",
      "Epoch 67/100\n",
      "704/704 [==============================] - 0s 335us/step - loss: 0.1917 - acc: 0.9205 - val_loss: 0.5093 - val_acc: 0.8011\n",
      "Epoch 68/100\n",
      "704/704 [==============================] - 0s 344us/step - loss: 0.1862 - acc: 0.9290 - val_loss: 0.4976 - val_acc: 0.8125\n",
      "Epoch 69/100\n",
      "704/704 [==============================] - 0s 327us/step - loss: 0.1836 - acc: 0.9261 - val_loss: 0.4917 - val_acc: 0.7841\n",
      "Epoch 70/100\n",
      "704/704 [==============================] - 0s 302us/step - loss: 0.1940 - acc: 0.9332 - val_loss: 0.4893 - val_acc: 0.8011\n",
      "Epoch 71/100\n",
      "704/704 [==============================] - 0s 338us/step - loss: 0.1915 - acc: 0.9219 - val_loss: 0.4833 - val_acc: 0.8068\n",
      "Epoch 72/100\n",
      "704/704 [==============================] - 0s 335us/step - loss: 0.1636 - acc: 0.9361 - val_loss: 0.5029 - val_acc: 0.8125\n",
      "Epoch 73/100\n",
      "704/704 [==============================] - 0s 324us/step - loss: 0.1713 - acc: 0.9389 - val_loss: 0.5106 - val_acc: 0.8011\n",
      "Epoch 74/100\n",
      "704/704 [==============================] - 0s 321us/step - loss: 0.1740 - acc: 0.9290 - val_loss: 0.5121 - val_acc: 0.8125\n",
      "Epoch 75/100\n",
      "704/704 [==============================] - 0s 282us/step - loss: 0.1572 - acc: 0.9446 - val_loss: 0.5497 - val_acc: 0.8125\n",
      "Epoch 76/100\n",
      "704/704 [==============================] - 0s 379us/step - loss: 0.1671 - acc: 0.9389 - val_loss: 0.5154 - val_acc: 0.7898\n",
      "Epoch 77/100\n",
      "704/704 [==============================] - 0s 294us/step - loss: 0.1685 - acc: 0.9389 - val_loss: 0.5153 - val_acc: 0.8068\n",
      "Epoch 78/100\n",
      "704/704 [==============================] - 0s 306us/step - loss: 0.1489 - acc: 0.9460 - val_loss: 0.6080 - val_acc: 0.8068\n",
      "Epoch 79/100\n",
      "704/704 [==============================] - 0s 361us/step - loss: 0.1461 - acc: 0.9517 - val_loss: 0.5700 - val_acc: 0.8068\n",
      "Epoch 80/100\n",
      "704/704 [==============================] - 0s 308us/step - loss: 0.1511 - acc: 0.9474 - val_loss: 0.5476 - val_acc: 0.7955\n",
      "Epoch 81/100\n",
      "704/704 [==============================] - 0s 306us/step - loss: 0.1513 - acc: 0.9560 - val_loss: 0.5671 - val_acc: 0.8182\n",
      "Epoch 82/100\n",
      "704/704 [==============================] - 0s 328us/step - loss: 0.1428 - acc: 0.9531 - val_loss: 0.5363 - val_acc: 0.8182\n",
      "Epoch 83/100\n",
      "704/704 [==============================] - 0s 296us/step - loss: 0.1606 - acc: 0.9418 - val_loss: 0.5828 - val_acc: 0.8182\n",
      "Epoch 84/100\n",
      "704/704 [==============================] - 0s 293us/step - loss: 0.1248 - acc: 0.9602 - val_loss: 0.5760 - val_acc: 0.8295\n",
      "Epoch 85/100\n",
      "704/704 [==============================] - 0s 293us/step - loss: 0.1291 - acc: 0.9602 - val_loss: 0.5578 - val_acc: 0.8182\n",
      "Epoch 86/100\n",
      "704/704 [==============================] - 0s 266us/step - loss: 0.1434 - acc: 0.9474 - val_loss: 0.5830 - val_acc: 0.7841\n",
      "Epoch 87/100\n",
      "704/704 [==============================] - 0s 266us/step - loss: 0.1438 - acc: 0.9517 - val_loss: 0.6157 - val_acc: 0.8182\n",
      "Epoch 88/100\n",
      "704/704 [==============================] - 0s 362us/step - loss: 0.1516 - acc: 0.9489 - val_loss: 0.5923 - val_acc: 0.8295\n",
      "Epoch 89/100\n",
      "704/704 [==============================] - 0s 336us/step - loss: 0.1353 - acc: 0.9545 - val_loss: 0.5963 - val_acc: 0.8239\n",
      "Epoch 90/100\n",
      "704/704 [==============================] - 0s 340us/step - loss: 0.1127 - acc: 0.9602 - val_loss: 0.5789 - val_acc: 0.8295\n",
      "Epoch 91/100\n",
      "704/704 [==============================] - 0s 304us/step - loss: 0.1258 - acc: 0.9602 - val_loss: 0.5826 - val_acc: 0.8068\n",
      "Epoch 92/100\n",
      "704/704 [==============================] - 0s 330us/step - loss: 0.1320 - acc: 0.9432 - val_loss: 0.6442 - val_acc: 0.8239\n",
      "Epoch 93/100\n",
      "704/704 [==============================] - 0s 350us/step - loss: 0.1197 - acc: 0.9560 - val_loss: 0.5933 - val_acc: 0.8125\n",
      "Epoch 94/100\n",
      "704/704 [==============================] - 0s 353us/step - loss: 0.1241 - acc: 0.9460 - val_loss: 0.5944 - val_acc: 0.8239\n",
      "Epoch 95/100\n",
      "704/704 [==============================] - 0s 292us/step - loss: 0.1162 - acc: 0.9616 - val_loss: 0.6390 - val_acc: 0.8182\n",
      "Epoch 96/100\n",
      "704/704 [==============================] - 0s 372us/step - loss: 0.1172 - acc: 0.9560 - val_loss: 0.5790 - val_acc: 0.8125\n",
      "Epoch 97/100\n",
      "704/704 [==============================] - 0s 288us/step - loss: 0.1080 - acc: 0.9602 - val_loss: 0.6293 - val_acc: 0.8125\n",
      "Epoch 98/100\n",
      "704/704 [==============================] - 0s 367us/step - loss: 0.1314 - acc: 0.9531 - val_loss: 0.5889 - val_acc: 0.8068\n",
      "Epoch 99/100\n",
      "704/704 [==============================] - 0s 339us/step - loss: 0.1189 - acc: 0.9560 - val_loss: 0.6254 - val_acc: 0.8466\n",
      "Epoch 100/100\n",
      "704/704 [==============================] - 0s 459us/step - loss: 0.1180 - acc: 0.9517 - val_loss: 0.5851 - val_acc: 0.8239\n",
      "Training finished \n",
      "\n"
     ]
    }
   ],
   "source": [
    "# 建立神经网络模型\n",
    "model = Sequential()\n",
    "model.add(Dense(input_dim=100, units=64))\n",
    "model.add(Activation('relu'))\n",
    "model.add(Dropout(0.2))\n",
    "model.add(Dense(input_dim=64, units=16))\n",
    "model.add(Activation('relu'))\n",
    "model.add(Dense(input_dim=16, units=1))\n",
    "model.add(Activation('sigmoid'))\n",
    "# 编译\n",
    "model.compile(loss='binary_crossentropy', optimizer='adam', metrics=['accuracy'])\n",
    "print(\"Starting training \")\n",
    "history = model.fit(X_train, y_train, epochs=100, batch_size=14, validation_data=(X_val, y_val))\n",
    "print(\"Training finished \\n\")\n",
    "\n",
    "nn_y_predict = model.predict_classes(X_test).reshape(len(y_test))\n"
   ]
  },
  {
   "cell_type": "code",
   "execution_count": 101,
   "metadata": {
    "hidden": true
   },
   "outputs": [
    {
     "name": "stdout",
     "output_type": "stream",
     "text": [
      "704/704 [==============================] - 0s 129us/step\n",
      "Training Accuracy: 98.72%\n",
      "\n",
      "221/221 [==============================] - 0s 204us/step\n",
      "Testing Accuracy: 80.54%\n",
      "\n"
     ]
    }
   ],
   "source": [
    "# testing accuracy\n",
    "scores = model.evaluate(X_train, y_train)\n",
    "print(\"Training Accuracy: %.2f%%\\n\" % (scores[1]*100))\n",
    "\n",
    "scores = model.evaluate(X_test, y_test)\n",
    "print(\"Testing Accuracy: %.2f%%\\n\" % (scores[1]*100))"
   ]
  },
  {
   "cell_type": "code",
   "execution_count": 102,
   "metadata": {
    "hidden": true
   },
   "outputs": [
    {
     "data": {
      "text/plain": [
       "dict_keys(['val_loss', 'val_acc', 'loss', 'acc'])"
      ]
     },
     "execution_count": 102,
     "metadata": {},
     "output_type": "execute_result"
    }
   ],
   "source": [
    "history_dict = history.history\n",
    "history_dict.keys()"
   ]
  },
  {
   "cell_type": "code",
   "execution_count": 103,
   "metadata": {
    "hidden": true
   },
   "outputs": [
    {
     "data": {
      "text/plain": [
       "<matplotlib.legend.Legend at 0x20e270f3cf8>"
      ]
     },
     "execution_count": 103,
     "metadata": {},
     "output_type": "execute_result"
    },
    {
     "data": {
      "image/png": "[encoded data removed]",
      "text/plain": [
       "<Figure size 432x288 with 1 Axes>"
      ]
     },
     "metadata": {
      "needs_background": "light"
     },
     "output_type": "display_data"
    }
   ],
   "source": [
    "# loss\n",
    "loss_values = history_dict['loss']\n",
    "val_loss_values = history_dict['val_loss']\n",
    "epochs = range(1,len(loss_values)+1)\n",
    "plt.plot(epochs,loss_values,'bo',label='Training loss')\n",
    "plt.plot(epochs,val_loss_values,'b',label='Validation loss')\n",
    "plt.title('Training and validation loss')\n",
    "plt.xlabel('Epochs')\n",
    "plt.ylabel('Loss')\n",
    "plt.legend()\n"
   ]
  },
  {
   "cell_type": "code",
   "execution_count": 104,
   "metadata": {
    "hidden": true
   },
   "outputs": [
    {
     "data": {
      "text/plain": [
       "<matplotlib.legend.Legend at 0x20e270d8eb8>"
      ]
     },
     "execution_count": 104,
     "metadata": {},
     "output_type": "execute_result"
    },
    {
     "data": {
      "image/png": "[encoded data removed]",
      "text/plain": [
       "<Figure size 432x288 with 1 Axes>"
      ]
     },
     "metadata": {
      "needs_background": "light"
     },
     "output_type": "display_data"
    }
   ],
   "source": [
    "# acc\n",
    "# plt.clf()\n",
    "acc_values = history_dict['acc']\n",
    "val_acc_values = history_dict['val_acc']\n",
    "\n",
    "plt.plot(epochs,acc_values,'bo',label='Training acc')\n",
    "plt.plot(epochs,val_acc_values,'b',label='Validation acc')\n",
    "plt.title('Training and validation accuracy')\n",
    "plt.xlabel('Epochs')\n",
    "plt.ylabel('Acc')\n",
    "plt.legend()\n",
    "# plt.savefig('model loss and accuracy.png')"
   ]
  },
  {
   "cell_type": "code",
   "execution_count": 105,
   "metadata": {
    "hidden": true
   },
   "outputs": [
    {
     "data": {
      "image/png": "[encoded data removed]",
      "text/plain": [
       "<Figure size 432x288 with 1 Axes>"
      ]
     },
     "metadata": {
      "needs_background": "light"
     },
     "output_type": "display_data"
    }
   ],
   "source": [
    "# ROC曲线\n",
    "y_test_pred_probs = model.predict(X_test)\n",
    "fpr, tpr, thresholds = roc_curve(y_test, y_test_pred_probs)\n",
    "roc_auc = auc(fpr, tpr)  # auc为Roc曲线下的面积\n",
    "\n",
    "plt.plot(fpr, tpr, 'b', label='AUC = %0.2f' % roc_auc)\n",
    "plt.legend(loc='lower right')\n",
    "plt.plot([0,1],[0,1],'r--')\n",
    "plt.xlim([-0.1,1.1])\n",
    "plt.ylim([-0.1,1.1])\n",
    "plt.xlabel('False Positive Rate') # 横坐标是fpr\n",
    "plt.ylabel('True Positive Rate')  # 纵坐标是tpr\n",
    "plt.title('Receiver operating characteristic example')\n",
    "plt.show()\n",
    "# plt.savefig('roc.png')"
   ]
  },
  {
   "cell_type": "code",
   "execution_count": 106,
   "metadata": {
    "hidden": true
   },
   "outputs": [
    {
     "data": {
      "image/png": "[encoded data removed]",
      "text/plain": [
       "<Figure size 288x288 with 2 Axes>"
      ]
     },
     "metadata": {
      "needs_background": "light"
     },
     "output_type": "display_data"
    }
   ],
   "source": [
    "def cm_plot(y, yp):\n",
    "        cm = confusion_matrix(y, yp)\n",
    "\n",
    "        plt.matshow(cm, cmap=plt.cm.Greens)\n",
    "        plt.colorbar()\n",
    "\n",
    "        for x in range(len(cm)):\n",
    "            for y in range(len(cm)):\n",
    "                plt.annotate(\n",
    "                    cm[x, y],\n",
    "                    xy=(x, y),\n",
    "                    horizontalalignment='center',\n",
    "                    verticalalignment='center')\n",
    "\n",
    "        plt.ylabel('True label')\n",
    "        plt.xlabel('Predicted label')\n",
    "        return plt\n",
    "\n",
    "cm_plot(y_test, nn_y_predict).show()"
   ]
  },
  {
   "cell_type": "markdown",
   "metadata": {
    "heading_collapsed": true
   },
   "source": [
    "## step11: lightgbm"
   ]
  },
  {
   "cell_type": "code",
   "execution_count": 6,
   "metadata": {
    "hidden": true
   },
   "outputs": [
    {
     "name": "stdout",
     "output_type": "stream",
     "text": [
      "FOLD 1\n",
      "Training until validation scores don't improve for 500 rounds\n",
      "[250]\ttraining's binary_logloss: 0.046248\ttraining's auc: 1\tvalid_1's binary_logloss: 0.33364\tvalid_1's auc: 0.924286\n",
      "[500]\ttraining's binary_logloss: 0.00885741\ttraining's auc: 1\tvalid_1's binary_logloss: 0.373279\tvalid_1's auc: 0.92873\n",
      "Early stopping, best iteration is:\n",
      "[97]\ttraining's binary_logloss: 0.142575\ttraining's auc: 0.998046\tvalid_1's binary_logloss: 0.313771\tvalid_1's auc: 0.925873\n",
      "FOLD 1: ROC_AUC  => 0.92587\n",
      "FOLD 2\n",
      "Training until validation scores don't improve for 500 rounds\n",
      "[250]\ttraining's binary_logloss: 0.0464549\ttraining's auc: 1\tvalid_1's binary_logloss: 0.277646\tvalid_1's auc: 0.945714\n",
      "[500]\ttraining's binary_logloss: 0.00954711\ttraining's auc: 1\tvalid_1's binary_logloss: 0.318901\tvalid_1's auc: 0.944286\n",
      "Early stopping, best iteration is:\n",
      "[213]\ttraining's binary_logloss: 0.0597088\ttraining's auc: 1\tvalid_1's binary_logloss: 0.2719\tvalid_1's auc: 0.946984\n",
      "FOLD 2: ROC_AUC  => 0.94698\n",
      "FOLD 3\n",
      "Training until validation scores don't improve for 500 rounds\n",
      "[250]\ttraining's binary_logloss: 0.0427095\ttraining's auc: 1\tvalid_1's binary_logloss: 0.327297\tvalid_1's auc: 0.913333\n",
      "[500]\ttraining's binary_logloss: 0.00792163\ttraining's auc: 1\tvalid_1's binary_logloss: 0.390464\tvalid_1's auc: 0.918095\n",
      "Early stopping, best iteration is:\n",
      "[179]\ttraining's binary_logloss: 0.0727135\ttraining's auc: 1\tvalid_1's binary_logloss: 0.305231\tvalid_1's auc: 0.919841\n",
      "FOLD 3: ROC_AUC  => 0.91984\n",
      "FOLD 4\n",
      "Training until validation scores don't improve for 500 rounds\n",
      "[250]\ttraining's binary_logloss: 0.0507994\ttraining's auc: 1\tvalid_1's binary_logloss: 0.289172\tvalid_1's auc: 0.933333\n",
      "[500]\ttraining's binary_logloss: 0.00977109\ttraining's auc: 1\tvalid_1's binary_logloss: 0.302006\tvalid_1's auc: 0.941746\n",
      "Early stopping, best iteration is:\n",
      "[166]\ttraining's binary_logloss: 0.0885433\ttraining's auc: 0.999931\tvalid_1's binary_logloss: 0.283417\tvalid_1's auc: 0.938889\n",
      "FOLD 4: ROC_AUC  => 0.93889\n",
      "FOLD 5\n",
      "Training until validation scores don't improve for 500 rounds\n",
      "[250]\ttraining's binary_logloss: 0.0489213\ttraining's auc: 1\tvalid_1's binary_logloss: 0.289567\tvalid_1's auc: 0.931746\n",
      "[500]\ttraining's binary_logloss: 0.00979406\ttraining's auc: 1\tvalid_1's binary_logloss: 0.314977\tvalid_1's auc: 0.93619\n",
      "Early stopping, best iteration is:\n",
      "[150]\ttraining's binary_logloss: 0.0985477\ttraining's auc: 0.99998\tvalid_1's binary_logloss: 0.281631\tvalid_1's auc: 0.932857\n",
      "FOLD 5: ROC_AUC  => 0.93286\n",
      "Mean roc_auc for 5 folds: 0.93289\n"
     ]
    }
   ],
   "source": [
    "# Parameters\n",
    "params = {\"objective\": \"binary\", \n",
    "          \"boosting\": \"gbdt\",\n",
    "          \"metric\": {\"binary_logloss\", \"auc\"},\n",
    "          \"max_depth\": 2,\n",
    "          \"n_jobs\":-1,\n",
    "          \"verbose\":-1}\n",
    "\n",
    "num_folds = 5\n",
    "roc_auc = list()\n",
    "feature_importances = pd.DataFrame()\n",
    "feature_importances['feature'] = X_train.columns\n",
    "pred_on_test = np.zeros(X_test.shape[0])\n",
    "\n",
    "\n",
    "kf = StratifiedKFold(n_splits=num_folds, shuffle=True, random_state=2020)\n",
    "for index, (train_index, valid_index) in enumerate(kf.split(X=X_train, y=y_train)):\n",
    "    print(f\"FOLD {index+1}\")\n",
    "\n",
    "    X_train_fold, y_train_fold = X_train.iloc[train_index], y_train.iloc[train_index]\n",
    "    X_valid_fold, y_valid_fold = X_train.iloc[valid_index], y_train.iloc[valid_index]\n",
    "\n",
    "    dtrain = lightgbm.Dataset(X_train_fold, label=y_train_fold)\n",
    "    dvalid = lightgbm.Dataset(X_valid_fold, label=y_valid_fold)\n",
    "\n",
    "    lgb = lightgbm.train(params=params, train_set=dtrain, num_boost_round=2000, \n",
    "                         valid_sets=[dtrain, dvalid], verbose_eval=250, early_stopping_rounds=500)\n",
    "\n",
    "    feature_importances[f'fold_{index + 1}'] = lgb.feature_importance()\n",
    "\n",
    "    y_valid_pred = (lgb.predict(X_valid_fold, num_iteration=lgb.best_iteration))\n",
    "    pred_on_test += (lgb.predict(X_test, num_iteration=lgb.best_iteration)) / num_folds\n",
    "\n",
    "    # winsorization\n",
    "    y_valid_pred = np.clip(a=y_valid_pred, a_min=0, a_max=1)\n",
    "    pred_on_test = np.clip(a=pred_on_test, a_min=0, a_max=1)\n",
    "\n",
    "    print(f\"FOLD {index+1}: ROC_AUC  => {np.round(roc_auc_score(y_true=y_valid_fold, y_score=y_valid_pred),5)}\")\n",
    "    roc_auc.append(roc_auc_score(y_true=y_valid_fold, y_score=y_valid_pred)/num_folds)\n",
    "    \n",
    "print(f\"Mean roc_auc for {num_folds} folds: {np.round(sum(roc_auc),5)}\")"
   ]
  },
  {
   "cell_type": "code",
   "execution_count": 7,
   "metadata": {
    "hidden": true
   },
   "outputs": [],
   "source": [
    "# 导出结果  \n",
    "threshold = 0.5\n",
    "lgb_y_predict = []\n",
    "\n",
    "for pred in pred_on_test:  \n",
    "    result = 1 if pred > threshold else 0\n",
    "    lgb_y_predict.append(result)"
   ]
  },
  {
   "cell_type": "code",
   "execution_count": 8,
   "metadata": {
    "hidden": true
   },
   "outputs": [
    {
     "name": "stdout",
     "output_type": "stream",
     "text": [
      "[0, 1, 0, 1, 0, 1, 1, 0, 1, 1, 1, 0, 1, 1, 1, 1, 1, 0, 1, 1, 1, 0, 1, 1, 1, 0, 1, 1, 1, 1, 0, 0, 1, 0, 1, 1, 1, 1, 1, 1, 0, 1, 1, 1, 1, 1, 1, 1, 0, 1, 1, 1, 1, 1, 1, 0, 0, 0, 1, 0, 1, 0, 1, 1, 1, 1, 0, 1, 1, 1, 0, 0, 1, 1, 1, 0, 0, 1, 1, 1, 1, 1, 1, 1, 1, 1, 0, 1, 1, 1, 0, 1, 1, 1, 1, 1, 0, 1, 1, 1, 0, 1, 1, 1, 1, 1, 0, 1, 1, 1, 0, 1, 0, 1, 1, 1, 1, 1, 1, 1, 1, 1, 1, 1, 1, 1, 1, 1, 1, 0, 1, 1, 1, 1, 1, 1, 0, 1, 1, 1, 1, 1, 1, 0, 0, 1, 1, 1, 1, 1, 1, 0, 1, 1, 0, 1, 0, 1, 1, 0, 1, 1, 0, 1, 1, 1, 1, 1, 1, 1, 1, 1, 1, 0, 1, 1, 1, 1, 1, 1, 1, 1, 1, 1, 1, 1, 1, 0, 1, 1, 0, 1, 1, 0, 0, 1, 1, 1, 1, 1, 1, 1, 1, 1, 0, 0, 1, 1, 1, 1, 1, 1, 1, 0, 0, 1, 1, 0, 0, 0, 1]\n"
     ]
    }
   ],
   "source": [
    "print(lgb_y_predict)"
   ]
  },
  {
   "cell_type": "code",
   "execution_count": 9,
   "metadata": {
    "hidden": true
   },
   "outputs": [
    {
     "data": {
      "text/plain": [
       "1    170\n",
       "0     51\n",
       "dtype: int64"
      ]
     },
     "execution_count": 9,
     "metadata": {},
     "output_type": "execute_result"
    }
   ],
   "source": [
    "pd.Series(lgb_y_predict).value_counts()"
   ]
  },
  {
   "cell_type": "code",
   "execution_count": 10,
   "metadata": {
    "hidden": true
   },
   "outputs": [
    {
     "name": "stdout",
     "output_type": "stream",
     "text": [
      "lightgbm: \n",
      "ACCURACY         : 0.9004524886877828\n",
      "AUC              : 0.9488647779787022\n",
      "RECALL           : 0.9683544303797469\n",
      "PRECISION        : 0.9\n",
      "BALANCED_ACCURACY: 0.8492565802692384\n"
     ]
    }
   ],
   "source": [
    "print(\"lightgbm: \")\n",
    "print(\"ACCURACY         : {score}\".format(score=accuracy_score(y_test, lgb_y_predict)))           # 准确率\n",
    "print(\"AUC              : {score}\".format(score=roc_auc_score(y_test, pred_on_test)))            # AUC\n",
    "print(\"RECALL           : {score}\".format(score=recall_score(y_test, lgb_y_predict)))             # 召回率\n",
    "print(\"PRECISION        : {score}\".format(score=precision_score(y_test, lgb_y_predict)))          # 正确率\n",
    "print(\"BALANCED_ACCURACY: {score}\".format(score=balanced_accuracy_score(y_test, lgb_y_predict)))  # 平衡精度"
   ]
  },
  {
   "cell_type": "code",
   "execution_count": 11,
   "metadata": {
    "hidden": true
   },
   "outputs": [],
   "source": [
    "def plot_feature_importance(df, k_fold_object):\n",
    "    df['average_feature_imp'] = df[['fold_{}'.format(fold + 1) for fold in range(k_fold_object.n_splits)]].mean(axis=1)\n",
    "    plt.figure(figsize=(10, 40))\n",
    "    sns.barplot(data=df.sort_values(by='average_feature_imp', ascending=False), x='average_feature_imp', y='feature');\n",
    "    plt.title('Feature importance over {} folds average'.format(k_fold_object.n_splits))\n",
    "    plt.show()"
   ]
  },
  {
   "cell_type": "code",
   "execution_count": 12,
   "metadata": {
    "hidden": true
   },
   "outputs": [
    {
     "data": {
      "image/png": "[encoded data removed]",
      "text/plain": [
       "<Figure size 720x2880 with 1 Axes>"
      ]
     },
     "metadata": {
      "needs_background": "light"
     },
     "output_type": "display_data"
    }
   ],
   "source": [
    "plot_feature_importance(df=feature_importances, k_fold_object=kf)"
   ]
  },
  {
   "cell_type": "code",
   "execution_count": null,
   "metadata": {
    "hidden": true
   },
   "outputs": [],
   "source": []
  }
 ],
 "metadata": {
  "kernelspec": {
   "display_name": "Python 3",
   "language": "python",
   "name": "python3"
  },
  "language_info": {
   "codemirror_mode": {
    "name": "ipython",
    "version": 3
   },
   "file_extension": ".py",
   "mimetype": "text/x-python",
   "name": "python",
   "nbconvert_exporter": "python",
   "pygments_lexer": "ipython3",
   "version": "3.6.0"
  },
  "toc": {
   "base_numbering": 1,
   "nav_menu": {},
   "number_sections": true,
   "sideBar": true,
   "skip_h1_title": false,
   "title_cell": "Table of Contents",
   "title_sidebar": "Contents",
   "toc_cell": false,
   "toc_position": {},
   "toc_section_display": true,
   "toc_window_display": false
  }
 },
 "nbformat": 4,
 "nbformat_minor": 2
}
